{
 "cells": [
  {
   "cell_type": "markdown",
   "metadata": {
    "colab_type": "text",
    "id": "yoBhUpUd08Mi"
   },
   "source": [
    "# Branch-net simple"
   ]
  },
  {
   "cell_type": "code",
   "execution_count": null,
   "metadata": {
    "colab": {},
    "colab_type": "code",
    "id": "el8xmTzF1iXR"
   },
   "outputs": [],
   "source": [
    "!apt-get install -y -qq software-properties-common python-software-properties module-init-tools\n",
    "!add-apt-repository -y ppa:alessandro-strada/ppa 2>&1 > /dev/null\n",
    "!apt-get update -qq 2>&1 > /dev/null\n",
    "!apt-get -y install -qq google-drive-ocamlfuse fuse\n",
    "\n",
    "from google.colab import auth\n",
    "auth.authenticate_user()\n",
    "from oauth2client.client import GoogleCredentials\n",
    "creds = GoogleCredentials.get_application_default()\n",
    "import getpass\n",
    "\n",
    "!google-drive-ocamlfuse -headless -id={creds.client_id} -secret={creds.client_secret} < /dev/null 2>&1 | grep URL\n",
    "vcode = getpass.getpass()\n",
    "!echo {vcode} | google-drive-ocamlfuse -headless -id={creds.client_id} -secret={creds.client_secret}"
   ]
  },
  {
   "cell_type": "code",
   "execution_count": null,
   "metadata": {
    "colab": {},
    "colab_type": "code",
    "id": "qczo0o6518It"
   },
   "outputs": [],
   "source": [
    "!mkdir -p drive\n",
    "!google-drive-ocamlfuse drive"
   ]
  },
  {
   "cell_type": "code",
   "execution_count": 1,
   "metadata": {
    "colab": {
     "base_uri": "https://localhost:8080/",
     "height": 36
    },
    "colab_type": "code",
    "executionInfo": {
     "elapsed": 2354,
     "status": "ok",
     "timestamp": 1541988681018,
     "user": {
      "displayName": "Matheus Inoue",
      "photoUrl": "https://lh5.googleusercontent.com/-QAhMvjxDob8/AAAAAAAAAAI/AAAAAAAAAX0/8QKimNgmoYI/s64/photo.jpg",
      "userId": "15307514117626512886"
     },
     "user_tz": 120
    },
    "id": "mKK0QOj208Mp",
    "outputId": "9839f9d1-8cbf-44e6-94fb-602c57cb5660"
   },
   "outputs": [
    {
     "name": "stderr",
     "output_type": "stream",
     "text": [
      "Using TensorFlow backend.\n"
     ]
    }
   ],
   "source": [
    "from time import time\n",
    "import os\n",
    "import gzip\n",
    "import numpy as np\n",
    "from keras.utils import np_utils\n",
    "\n",
    "import matplotlib.pyplot as plt"
   ]
  },
  {
   "cell_type": "code",
   "execution_count": null,
   "metadata": {
    "colab": {},
    "colab_type": "code",
    "id": "C-_SshSZ08M_"
   },
   "outputs": [],
   "source": [
    "def load_mnist(path, kind='train'):\n",
    "    import os\n",
    "    import gzip\n",
    "    import numpy as np\n",
    "\n",
    "    \"\"\"Load MNIST data from `path`\"\"\"\n",
    "    labels_path = os.path.join(path,\n",
    "                               '%s-labels-idx1-ubyte.gz'\n",
    "                               % kind)\n",
    "    images_path = os.path.join(path,\n",
    "                               '%s-images-idx3-ubyte.gz'\n",
    "                               % kind)\n",
    "\n",
    "    with gzip.open(labels_path, 'rb') as lbpath:\n",
    "        labels = np.frombuffer(lbpath.read(), dtype=np.uint8,\n",
    "                               offset=8)\n",
    "\n",
    "    with gzip.open(images_path, 'rb') as imgpath:\n",
    "        images = np.frombuffer(imgpath.read(), dtype=np.uint8,\n",
    "                               offset=16).reshape(len(labels), 784)\n",
    "\n",
    "    return images, labels"
   ]
  },
  {
   "cell_type": "code",
   "execution_count": null,
   "metadata": {
    "colab": {},
    "colab_type": "code",
    "id": "msDYHy7U08NH"
   },
   "outputs": [],
   "source": [
    "X_train, y_train = load_mnist('drive/TCC-ITAU/fashion-mnist/data/fashion', kind='train')\n",
    "X_test, y_test = load_mnist('drive/TCC-ITAU/fashion-mnist/data/fashion', kind='t10k')"
   ]
  },
  {
   "cell_type": "code",
   "execution_count": null,
   "metadata": {
    "colab": {},
    "colab_type": "code",
    "id": "pd9lEshpsHKb"
   },
   "outputs": [],
   "source": [
    "from sklearn.model_selection import train_test_split\n",
    "\n",
    "X_train, X_val, y_train, y_val = train_test_split(X_train, y_train, test_size=0.2, random_state=1974)"
   ]
  },
  {
   "cell_type": "code",
   "execution_count": null,
   "metadata": {
    "colab": {},
    "colab_type": "code",
    "id": "fmyVVJua08NU"
   },
   "outputs": [],
   "source": [
    "train_features = X_train.reshape(X_train.shape[0], 28, 28, 1)/255\n",
    "vali_features = X_val.reshape(X_val.shape[0], 28, 28, 1)/255\n",
    "test_features = X_test.reshape(X_test.shape[0], 28, 28, 1)/255\n",
    "\n",
    "y_train_cat = np_utils.to_categorical(y_train)\n",
    "y_val_cat = np_utils.to_categorical(y_val)\n",
    "y_test_cat = np_utils.to_categorical(y_test)"
   ]
  },
  {
   "cell_type": "markdown",
   "metadata": {
    "colab_type": "text",
    "id": "AGQ2N1Wlbj_T"
   },
   "source": [
    "## Coarse and Fine classe\n",
    "\n",
    "| Label | Fine | Coarse |\n",
    "| --- | --- | --- |\n",
    "| 0 | T-shirt/top | TOP |\n",
    "| 1 | Trouser | BOTTOM |\n",
    "| 2 | Pullover | TOP |\n",
    "| 3 | Dress |BODY |\n",
    "| 4 | Coat | TOP |\n",
    "| 5 | Sandal | FEET |\n",
    "| 6 | Shirt | TOP |\n",
    "| 7 | Sneaker | FEET |\n",
    "| 8 | Bag | ACCESSORY |\n",
    "| 9 | Ankle boot | FEET |"
   ]
  },
  {
   "cell_type": "code",
   "execution_count": null,
   "metadata": {
    "colab": {},
    "colab_type": "code",
    "id": "5khS0kJabnhB"
   },
   "outputs": [],
   "source": [
    "dict_coarse = {0: 0,\n",
    "              1: 1,\n",
    "              2: 0,\n",
    "              3: 2,\n",
    "              4: 0,\n",
    "              5: 3,\n",
    "              6: 0,\n",
    "              7: 3,\n",
    "              8: 4,\n",
    "              9: 3}\n",
    "\n",
    "y_train_coarse = np.vectorize(dict_coarse.get)(y_train)\n",
    "y_val_coarse = np.vectorize(dict_coarse.get)(y_val)\n",
    "y_test_coarse = np.vectorize(dict_coarse.get)(y_test)\n",
    "\n",
    "y_train_c_cat = np_utils.to_categorical(y_train_coarse)\n",
    "y_val_c_cat = np_utils.to_categorical(y_val_coarse)\n",
    "y_test_c_cat= np_utils.to_categorical(y_test_coarse)"
   ]
  },
  {
   "cell_type": "code",
   "execution_count": null,
   "metadata": {
    "colab": {},
    "colab_type": "code",
    "id": "IPotu_I008Nb"
   },
   "outputs": [],
   "source": [
    "import keras\n",
    "from keras.models import Model\n",
    "from keras.layers import Dense, Dropout, Activation, Flatten\n",
    "from keras.layers import Conv2D, MaxPooling2D, Input\n",
    "from keras import optimizers\n",
    "from keras.callbacks import TensorBoard, ReduceLROnPlateau, CSVLogger\n",
    "from keras.layers.normalization import BatchNormalization\n",
    "from keras.utils.data_utils import get_file\n",
    "from keras import backend as K"
   ]
  },
  {
   "cell_type": "code",
   "execution_count": null,
   "metadata": {
    "colab": {},
    "colab_type": "code",
    "id": "PrWrVZcubvCH"
   },
   "outputs": [],
   "source": [
    "class LossWeightsModifier(keras.callbacks.Callback):\n",
    "  def __init__(self, alpha, beta):\n",
    "    self.alpha = alpha\n",
    "    self.beta = beta\n",
    "    \n",
    "  def on_epoch_end(self, epoch, logs={}):\n",
    "    if epoch == 7:\n",
    "      K.set_value(self.alpha, 0.6)\n",
    "      K.set_value(self.beta, 0.4)\n",
    "      print('Changing loss weights to: coarse = {}, fine = {}'.format(K.eval(self.alpha), K.eval(self.beta)))\n",
    "\n",
    "    if epoch == 11:\n",
    "      K.set_value(self.alpha, 0.2)\n",
    "      K.set_value(self.beta, 0.8)\n",
    "      print('Changing loss weights to: coarse = {}, fine = {}'.format(K.eval(self.alpha), K.eval(self.beta)))\n",
    "      \n",
    "    if epoch == 21:\n",
    "      K.set_value(self.alpha, 0)\n",
    "      K.set_value(self.beta, 1)\n",
    "      print('Changing loss weights to: coarse = {}, fine = {}'.format(K.eval(self.alpha), K.eval(self.beta)))\n",
    "      \n",
    "    logs['alpha'] = K.eval(self.alpha)\n",
    "    logs['beta'] = K.eval(self.beta)   "
   ]
  },
  {
   "cell_type": "code",
   "execution_count": null,
   "metadata": {
    "colab": {},
    "colab_type": "code",
    "id": "RwH3c8U508Ni"
   },
   "outputs": [],
   "source": [
    "img_rows, img_cols = 28, 28\n",
    "if K.image_data_format() == 'channels_first':\n",
    "    input_shape = (1, img_rows, img_cols)\n",
    "else:\n",
    "    input_shape = (img_rows, img_cols, 1)"
   ]
  },
  {
   "cell_type": "code",
   "execution_count": null,
   "metadata": {
    "colab": {},
    "colab_type": "code",
    "id": "t3ZoxUkg08No"
   },
   "outputs": [],
   "source": [
    "num_classes_coarse = 5\n",
    "num_classes_fine = 10\n",
    "\n",
    "img_input = Input(shape=input_shape, name='input')\n",
    "\n",
    "\n",
    "x = Conv2D(32, (3, 3), activation='relu', name='block1_conv1')(img_input)\n",
    "x = MaxPooling2D((2, 2), name='block1_pool')(x)\n",
    "\n",
    "#---- coarse branch ----\n",
    "coarse = Flatten(name='c1_flatten')(x)\n",
    "coarse = Dense(64, name='c1_fc_1')(coarse)\n",
    "coarse = BatchNormalization()(coarse)\n",
    "coarse = Activation('relu')(coarse)\n",
    "coarse = Dropout(0.5)(coarse)\n",
    "coarse_pred = Dense(num_classes_coarse, activation='softmax', name='predictions_coarse')(coarse)\n",
    "\n",
    "x = Conv2D(64, (3, 3), activation='relu', name='block1_conv2')(x)\n",
    "x = MaxPooling2D((2, 2), name='block2_pool')(x)\n",
    "\n",
    "x = Flatten(name='flatten')(x)\n",
    "x = Dense(128, name='fc_1')(x)\n",
    "x = BatchNormalization()(x)\n",
    "x = Activation('relu')(x)\n",
    "x = Dropout(0.5)(x)\n",
    "\n",
    "fine_pred = Dense(num_classes_fine, activation='softmax', name='predictions_fine')(x)"
   ]
  },
  {
   "cell_type": "code",
   "execution_count": null,
   "metadata": {
    "colab": {},
    "colab_type": "code",
    "id": "FM-yECFW08Nz"
   },
   "outputs": [],
   "source": [
    "model = Model(inputs=img_input, outputs=[coarse_pred, fine_pred], name='branch_net')"
   ]
  },
  {
   "cell_type": "code",
   "execution_count": 63,
   "metadata": {
    "colab": {
     "base_uri": "https://localhost:8080/",
     "height": 804
    },
    "colab_type": "code",
    "executionInfo": {
     "elapsed": 1302,
     "status": "ok",
     "timestamp": 1541989911809,
     "user": {
      "displayName": "Matheus Inoue",
      "photoUrl": "https://lh5.googleusercontent.com/-QAhMvjxDob8/AAAAAAAAAAI/AAAAAAAAAX0/8QKimNgmoYI/s64/photo.jpg",
      "userId": "15307514117626512886"
     },
     "user_tz": 120
    },
    "id": "-v0UFRE608OA",
    "outputId": "56bbf932-69e6-4d4e-b939-0010c00608b2"
   },
   "outputs": [
    {
     "name": "stdout",
     "output_type": "stream",
     "text": [
      "__________________________________________________________________________________________________\n",
      "Layer (type)                    Output Shape         Param #     Connected to                     \n",
      "==================================================================================================\n",
      "input (InputLayer)              (None, 28, 28, 1)    0                                            \n",
      "__________________________________________________________________________________________________\n",
      "block1_conv1 (Conv2D)           (None, 26, 26, 32)   320         input[0][0]                      \n",
      "__________________________________________________________________________________________________\n",
      "block1_pool (MaxPooling2D)      (None, 13, 13, 32)   0           block1_conv1[0][0]               \n",
      "__________________________________________________________________________________________________\n",
      "block1_conv2 (Conv2D)           (None, 11, 11, 64)   18496       block1_pool[0][0]                \n",
      "__________________________________________________________________________________________________\n",
      "block2_pool (MaxPooling2D)      (None, 5, 5, 64)     0           block1_conv2[0][0]               \n",
      "__________________________________________________________________________________________________\n",
      "c1_flatten (Flatten)            (None, 5408)         0           block1_pool[0][0]                \n",
      "__________________________________________________________________________________________________\n",
      "flatten (Flatten)               (None, 1600)         0           block2_pool[0][0]                \n",
      "__________________________________________________________________________________________________\n",
      "c1_fc_1 (Dense)                 (None, 64)           346176      c1_flatten[0][0]                 \n",
      "__________________________________________________________________________________________________\n",
      "fc_1 (Dense)                    (None, 128)          204928      flatten[0][0]                    \n",
      "__________________________________________________________________________________________________\n",
      "batch_normalization_11 (BatchNo (None, 64)           256         c1_fc_1[0][0]                    \n",
      "__________________________________________________________________________________________________\n",
      "batch_normalization_12 (BatchNo (None, 128)          512         fc_1[0][0]                       \n",
      "__________________________________________________________________________________________________\n",
      "activation_11 (Activation)      (None, 64)           0           batch_normalization_11[0][0]     \n",
      "__________________________________________________________________________________________________\n",
      "activation_12 (Activation)      (None, 128)          0           batch_normalization_12[0][0]     \n",
      "__________________________________________________________________________________________________\n",
      "dropout_11 (Dropout)            (None, 64)           0           activation_11[0][0]              \n",
      "__________________________________________________________________________________________________\n",
      "dropout_12 (Dropout)            (None, 128)          0           activation_12[0][0]              \n",
      "__________________________________________________________________________________________________\n",
      "predictions_coarse (Dense)      (None, 5)            325         dropout_11[0][0]                 \n",
      "__________________________________________________________________________________________________\n",
      "predictions_fine (Dense)        (None, 10)           1290        dropout_12[0][0]                 \n",
      "==================================================================================================\n",
      "Total params: 572,303\n",
      "Trainable params: 571,919\n",
      "Non-trainable params: 384\n",
      "__________________________________________________________________________________________________\n"
     ]
    }
   ],
   "source": [
    "model.summary()"
   ]
  },
  {
   "cell_type": "code",
   "execution_count": null,
   "metadata": {
    "colab": {},
    "colab_type": "code",
    "id": "GP_bMuNp08Ob"
   },
   "outputs": [],
   "source": [
    "alpha = K.variable(value=0.95, dtype=\"float32\", name=\"alpha\") # A1 in paper\n",
    "beta = K.variable(value=0.05, dtype=\"float32\", name=\"beta\") # A2 in paper\n",
    "\n",
    "model.compile(loss='categorical_crossentropy', \n",
    "              optimizer='adam', \n",
    "              loss_weights=[alpha, beta],\n",
    "              metrics=['accuracy'])"
   ]
  },
  {
   "cell_type": "code",
   "execution_count": null,
   "metadata": {
    "colab": {},
    "colab_type": "code",
    "id": "uD8rtOh2snBu"
   },
   "outputs": [],
   "source": [
    "class TimingCallback(keras.callbacks.Callback):\n",
    "    \n",
    "  def on_epoch_begin(self, epoch, logs={}):\n",
    "    self.starttime=time()\n",
    "  def on_epoch_end(self, epoch, logs={}):\n",
    "    logs['time_elapsed'] = (time()-self.starttime)"
   ]
  },
  {
   "cell_type": "code",
   "execution_count": null,
   "metadata": {
    "colab": {},
    "colab_type": "code",
    "id": "-nLwVGTv08Ol"
   },
   "outputs": [],
   "source": [
    "tb_cb = TensorBoard(log_dir='drive/TCC-ITAU/fashion-mnist/tensorboard/branch-net-simple', histogram_freq=0)\n",
    "clr_cb = ReduceLROnPlateau(monitor='val_predictions_fine_loss', factor=0.5, patience=10, verbose=1)\n",
    "time_cb = TimingCallback()\n",
    "change_lw = LossWeightsModifier(alpha, beta)\n",
    "csv_cb = CSVLogger('drive/TCC-ITAU/fashion-mnist/training-data/branch-net/branch-net-simple.csv', separator=',', append=False)\n",
    "\n",
    "cbks = [tb_cb, clr_cb, time_cb, change_lw, csv_cb]"
   ]
  },
  {
   "cell_type": "code",
   "execution_count": 67,
   "metadata": {
    "colab": {
     "base_uri": "https://localhost:8080/",
     "height": 2094
    },
    "colab_type": "code",
    "executionInfo": {
     "elapsed": 177969,
     "status": "ok",
     "timestamp": 1541990093130,
     "user": {
      "displayName": "Matheus Inoue",
      "photoUrl": "https://lh5.googleusercontent.com/-QAhMvjxDob8/AAAAAAAAAAI/AAAAAAAAAX0/8QKimNgmoYI/s64/photo.jpg",
      "userId": "15307514117626512886"
     },
     "user_tz": 120
    },
    "id": "RCE-Ly0V08Os",
    "outputId": "20b64d53-666d-45f7-b966-52eedf1c867c"
   },
   "outputs": [
    {
     "name": "stdout",
     "output_type": "stream",
     "text": [
      "Train on 48000 samples, validate on 12000 samples\n",
      "Epoch 1/50\n",
      "48000/48000 [==============================] - 4s 89us/step - loss: 0.2566 - predictions_coarse_loss: 0.2362 - predictions_fine_loss: 0.6443 - predictions_coarse_acc: 0.9308 - predictions_fine_acc: 0.7796 - val_loss: 0.1171 - val_predictions_coarse_loss: 0.1006 - val_predictions_fine_loss: 0.4316 - val_predictions_coarse_acc: 0.9699 - val_predictions_fine_acc: 0.8425\n",
      "Epoch 2/50\n",
      "48000/48000 [==============================] - 3s 68us/step - loss: 0.1234 - predictions_coarse_loss: 0.1099 - predictions_fine_loss: 0.3814 - predictions_coarse_acc: 0.9682 - predictions_fine_acc: 0.8663 - val_loss: 0.1060 - val_predictions_coarse_loss: 0.0940 - val_predictions_fine_loss: 0.3349 - val_predictions_coarse_acc: 0.9731 - val_predictions_fine_acc: 0.8837\n",
      "Epoch 3/50\n",
      "48000/48000 [==============================] - 3s 68us/step - loss: 0.0958 - predictions_coarse_loss: 0.0839 - predictions_fine_loss: 0.3227 - predictions_coarse_acc: 0.9748 - predictions_fine_acc: 0.8861 - val_loss: 0.0766 - val_predictions_coarse_loss: 0.0653 - val_predictions_fine_loss: 0.2926 - val_predictions_coarse_acc: 0.9791 - val_predictions_fine_acc: 0.8915\n",
      "Epoch 4/50\n",
      "48000/48000 [==============================] - 3s 68us/step - loss: 0.0823 - predictions_coarse_loss: 0.0714 - predictions_fine_loss: 0.2906 - predictions_coarse_acc: 0.9775 - predictions_fine_acc: 0.8978 - val_loss: 0.0736 - val_predictions_coarse_loss: 0.0630 - val_predictions_fine_loss: 0.2744 - val_predictions_coarse_acc: 0.9786 - val_predictions_fine_acc: 0.9017\n",
      "Epoch 5/50\n",
      "48000/48000 [==============================] - 3s 68us/step - loss: 0.0732 - predictions_coarse_loss: 0.0632 - predictions_fine_loss: 0.2627 - predictions_coarse_acc: 0.9800 - predictions_fine_acc: 0.9069 - val_loss: 0.0718 - val_predictions_coarse_loss: 0.0610 - val_predictions_fine_loss: 0.2769 - val_predictions_coarse_acc: 0.9787 - val_predictions_fine_acc: 0.8995\n",
      "Epoch 6/50\n",
      "48000/48000 [==============================] - 3s 67us/step - loss: 0.0650 - predictions_coarse_loss: 0.0557 - predictions_fine_loss: 0.2428 - predictions_coarse_acc: 0.9821 - predictions_fine_acc: 0.9114 - val_loss: 0.0723 - val_predictions_coarse_loss: 0.0610 - val_predictions_fine_loss: 0.2882 - val_predictions_coarse_acc: 0.9795 - val_predictions_fine_acc: 0.8900\n",
      "Epoch 7/50\n",
      "48000/48000 [==============================] - 3s 68us/step - loss: 0.0598 - predictions_coarse_loss: 0.0511 - predictions_fine_loss: 0.2259 - predictions_coarse_acc: 0.9839 - predictions_fine_acc: 0.9195 - val_loss: 0.0672 - val_predictions_coarse_loss: 0.0568 - val_predictions_fine_loss: 0.2640 - val_predictions_coarse_acc: 0.9809 - val_predictions_fine_acc: 0.9006\n",
      "Epoch 8/50\n",
      "48000/48000 [==============================] - 3s 68us/step - loss: 0.0537 - predictions_coarse_loss: 0.0452 - predictions_fine_loss: 0.2143 - predictions_coarse_acc: 0.9847 - predictions_fine_acc: 0.9225 - val_loss: 0.0689 - val_predictions_coarse_loss: 0.0578 - val_predictions_fine_loss: 0.2796 - val_predictions_coarse_acc: 0.9793 - val_predictions_fine_acc: 0.8990\n",
      "Changing loss weights to: coarse = 0.6000000238418579, fine = 0.4000000059604645\n",
      "Epoch 9/50\n",
      "48000/48000 [==============================] - 3s 68us/step - loss: 0.1289 - predictions_coarse_loss: 0.0407 - predictions_fine_loss: 0.2613 - predictions_coarse_acc: 0.9866 - predictions_fine_acc: 0.9038 - val_loss: 0.1655 - val_predictions_coarse_loss: 0.0553 - val_predictions_fine_loss: 0.3307 - val_predictions_coarse_acc: 0.9807 - val_predictions_fine_acc: 0.8828\n",
      "Epoch 10/50\n",
      "48000/48000 [==============================] - 3s 68us/step - loss: 0.1067 - predictions_coarse_loss: 0.0375 - predictions_fine_loss: 0.2105 - predictions_coarse_acc: 0.9878 - predictions_fine_acc: 0.9227 - val_loss: 0.1369 - val_predictions_coarse_loss: 0.0533 - val_predictions_fine_loss: 0.2624 - val_predictions_coarse_acc: 0.9823 - val_predictions_fine_acc: 0.9037\n",
      "Epoch 11/50\n",
      "48000/48000 [==============================] - 3s 69us/step - loss: 0.0962 - predictions_coarse_loss: 0.0354 - predictions_fine_loss: 0.1873 - predictions_coarse_acc: 0.9881 - predictions_fine_acc: 0.9306 - val_loss: 0.1421 - val_predictions_coarse_loss: 0.0562 - val_predictions_fine_loss: 0.2709 - val_predictions_coarse_acc: 0.9812 - val_predictions_fine_acc: 0.8994\n",
      "Epoch 12/50\n",
      "48000/48000 [==============================] - 3s 69us/step - loss: 0.0866 - predictions_coarse_loss: 0.0338 - predictions_fine_loss: 0.1659 - predictions_coarse_acc: 0.9885 - predictions_fine_acc: 0.9391 - val_loss: 0.1471 - val_predictions_coarse_loss: 0.0546 - val_predictions_fine_loss: 0.2857 - val_predictions_coarse_acc: 0.9821 - val_predictions_fine_acc: 0.9047\n",
      "Changing loss weights to: coarse = 0.20000000298023224, fine = 0.800000011920929\n",
      "Epoch 13/50\n",
      "48000/48000 [==============================] - 3s 69us/step - loss: 0.1483 - predictions_coarse_loss: 0.0305 - predictions_fine_loss: 0.1778 - predictions_coarse_acc: 0.9899 - predictions_fine_acc: 0.9354 - val_loss: 0.2547 - val_predictions_coarse_loss: 0.0534 - val_predictions_fine_loss: 0.3050 - val_predictions_coarse_acc: 0.9821 - val_predictions_fine_acc: 0.8902\n",
      "Epoch 14/50\n",
      "48000/48000 [==============================] - 3s 69us/step - loss: 0.1336 - predictions_coarse_loss: 0.0275 - predictions_fine_loss: 0.1601 - predictions_coarse_acc: 0.9911 - predictions_fine_acc: 0.9396 - val_loss: 0.2353 - val_predictions_coarse_loss: 0.0541 - val_predictions_fine_loss: 0.2806 - val_predictions_coarse_acc: 0.9825 - val_predictions_fine_acc: 0.9056\n",
      "Epoch 15/50\n",
      "48000/48000 [==============================] - 3s 69us/step - loss: 0.1169 - predictions_coarse_loss: 0.0269 - predictions_fine_loss: 0.1393 - predictions_coarse_acc: 0.9914 - predictions_fine_acc: 0.9490 - val_loss: 0.2340 - val_predictions_coarse_loss: 0.0546 - val_predictions_fine_loss: 0.2788 - val_predictions_coarse_acc: 0.9820 - val_predictions_fine_acc: 0.9122\n",
      "Epoch 16/50\n",
      "48000/48000 [==============================] - 3s 68us/step - loss: 0.1057 - predictions_coarse_loss: 0.0257 - predictions_fine_loss: 0.1257 - predictions_coarse_acc: 0.9919 - predictions_fine_acc: 0.9531 - val_loss: 0.2142 - val_predictions_coarse_loss: 0.0537 - val_predictions_fine_loss: 0.2543 - val_predictions_coarse_acc: 0.9818 - val_predictions_fine_acc: 0.9138\n",
      "Epoch 17/50\n",
      "48000/48000 [==============================] - 3s 67us/step - loss: 0.0968 - predictions_coarse_loss: 0.0254 - predictions_fine_loss: 0.1146 - predictions_coarse_acc: 0.9920 - predictions_fine_acc: 0.9577 - val_loss: 0.2259 - val_predictions_coarse_loss: 0.0563 - val_predictions_fine_loss: 0.2684 - val_predictions_coarse_acc: 0.9819 - val_predictions_fine_acc: 0.9137\n",
      "Epoch 18/50\n",
      "48000/48000 [==============================] - 3s 69us/step - loss: 0.0898 - predictions_coarse_loss: 0.0242 - predictions_fine_loss: 0.1062 - predictions_coarse_acc: 0.9924 - predictions_fine_acc: 0.9614 - val_loss: 0.2347 - val_predictions_coarse_loss: 0.0556 - val_predictions_fine_loss: 0.2794 - val_predictions_coarse_acc: 0.9822 - val_predictions_fine_acc: 0.9105\n",
      "Epoch 19/50\n",
      "48000/48000 [==============================] - 3s 68us/step - loss: 0.0828 - predictions_coarse_loss: 0.0234 - predictions_fine_loss: 0.0977 - predictions_coarse_acc: 0.9928 - predictions_fine_acc: 0.9645 - val_loss: 0.2587 - val_predictions_coarse_loss: 0.0567 - val_predictions_fine_loss: 0.3093 - val_predictions_coarse_acc: 0.9817 - val_predictions_fine_acc: 0.9037\n",
      "Epoch 20/50\n",
      "48000/48000 [==============================] - 3s 68us/step - loss: 0.0794 - predictions_coarse_loss: 0.0234 - predictions_fine_loss: 0.0934 - predictions_coarse_acc: 0.9921 - predictions_fine_acc: 0.9648 - val_loss: 0.2708 - val_predictions_coarse_loss: 0.0539 - val_predictions_fine_loss: 0.3250 - val_predictions_coarse_acc: 0.9823 - val_predictions_fine_acc: 0.9050\n",
      "Epoch 21/50\n",
      "48000/48000 [==============================] - 3s 68us/step - loss: 0.0716 - predictions_coarse_loss: 0.0216 - predictions_fine_loss: 0.0841 - predictions_coarse_acc: 0.9932 - predictions_fine_acc: 0.9682 - val_loss: 0.2582 - val_predictions_coarse_loss: 0.0573 - val_predictions_fine_loss: 0.3084 - val_predictions_coarse_acc: 0.9815 - val_predictions_fine_acc: 0.9072\n",
      "Epoch 22/50\n",
      "48000/48000 [==============================] - 3s 68us/step - loss: 0.0708 - predictions_coarse_loss: 0.0215 - predictions_fine_loss: 0.0832 - predictions_coarse_acc: 0.9931 - predictions_fine_acc: 0.9699 - val_loss: 0.2338 - val_predictions_coarse_loss: 0.0559 - val_predictions_fine_loss: 0.2783 - val_predictions_coarse_acc: 0.9822 - val_predictions_fine_acc: 0.9149\n",
      "Changing loss weights to: coarse = 0.0, fine = 1.0\n",
      "Epoch 23/50\n",
      "48000/48000 [==============================] - 3s 68us/step - loss: 0.0847 - predictions_coarse_loss: 0.0222 - predictions_fine_loss: 0.0847 - predictions_coarse_acc: 0.9927 - predictions_fine_acc: 0.9685 - val_loss: 0.3300 - val_predictions_coarse_loss: 0.0627 - val_predictions_fine_loss: 0.3300 - val_predictions_coarse_acc: 0.9815 - val_predictions_fine_acc: 0.9082\n",
      "Epoch 24/50\n",
      "48000/48000 [==============================] - 3s 68us/step - loss: 0.0765 - predictions_coarse_loss: 0.0224 - predictions_fine_loss: 0.0765 - predictions_coarse_acc: 0.9923 - predictions_fine_acc: 0.9718 - val_loss: 0.3337 - val_predictions_coarse_loss: 0.0593 - val_predictions_fine_loss: 0.3337 - val_predictions_coarse_acc: 0.9814 - val_predictions_fine_acc: 0.9057\n",
      "Epoch 25/50\n",
      "48000/48000 [==============================] - 3s 68us/step - loss: 0.0722 - predictions_coarse_loss: 0.0222 - predictions_fine_loss: 0.0722 - predictions_coarse_acc: 0.9928 - predictions_fine_acc: 0.9730 - val_loss: 0.3081 - val_predictions_coarse_loss: 0.0592 - val_predictions_fine_loss: 0.3081 - val_predictions_coarse_acc: 0.9810 - val_predictions_fine_acc: 0.9107\n",
      "Epoch 26/50\n",
      "48000/48000 [==============================] - 3s 68us/step - loss: 0.0691 - predictions_coarse_loss: 0.0223 - predictions_fine_loss: 0.0691 - predictions_coarse_acc: 0.9928 - predictions_fine_acc: 0.9751 - val_loss: 0.3387 - val_predictions_coarse_loss: 0.0600 - val_predictions_fine_loss: 0.3387 - val_predictions_coarse_acc: 0.9817 - val_predictions_fine_acc: 0.9122\n",
      "\n",
      "Epoch 00026: ReduceLROnPlateau reducing learning rate to 0.0005000000237487257.\n",
      "Epoch 27/50\n",
      "48000/48000 [==============================] - 3s 68us/step - loss: 0.0516 - predictions_coarse_loss: 0.0225 - predictions_fine_loss: 0.0516 - predictions_coarse_acc: 0.9926 - predictions_fine_acc: 0.9814 - val_loss: 0.3085 - val_predictions_coarse_loss: 0.0590 - val_predictions_fine_loss: 0.3085 - val_predictions_coarse_acc: 0.9820 - val_predictions_fine_acc: 0.9170\n",
      "Epoch 28/50\n",
      "48000/48000 [==============================] - 3s 68us/step - loss: 0.0454 - predictions_coarse_loss: 0.0221 - predictions_fine_loss: 0.0454 - predictions_coarse_acc: 0.9934 - predictions_fine_acc: 0.9840 - val_loss: 0.3087 - val_predictions_coarse_loss: 0.0594 - val_predictions_fine_loss: 0.3087 - val_predictions_coarse_acc: 0.9818 - val_predictions_fine_acc: 0.9160\n",
      "Epoch 29/50\n",
      "48000/48000 [==============================] - 3s 68us/step - loss: 0.0408 - predictions_coarse_loss: 0.0220 - predictions_fine_loss: 0.0408 - predictions_coarse_acc: 0.9924 - predictions_fine_acc: 0.9861 - val_loss: 0.3184 - val_predictions_coarse_loss: 0.0586 - val_predictions_fine_loss: 0.3184 - val_predictions_coarse_acc: 0.9818 - val_predictions_fine_acc: 0.9149\n",
      "Epoch 30/50\n",
      "48000/48000 [==============================] - 3s 68us/step - loss: 0.0400 - predictions_coarse_loss: 0.0216 - predictions_fine_loss: 0.0400 - predictions_coarse_acc: 0.9930 - predictions_fine_acc: 0.9863 - val_loss: 0.3128 - val_predictions_coarse_loss: 0.0590 - val_predictions_fine_loss: 0.3128 - val_predictions_coarse_acc: 0.9818 - val_predictions_fine_acc: 0.9160\n",
      "Epoch 31/50\n",
      "48000/48000 [==============================] - 3s 68us/step - loss: 0.0384 - predictions_coarse_loss: 0.0226 - predictions_fine_loss: 0.0384 - predictions_coarse_acc: 0.9922 - predictions_fine_acc: 0.9867 - val_loss: 0.3256 - val_predictions_coarse_loss: 0.0611 - val_predictions_fine_loss: 0.3256 - val_predictions_coarse_acc: 0.9811 - val_predictions_fine_acc: 0.9139\n",
      "Epoch 32/50\n",
      "48000/48000 [==============================] - 3s 68us/step - loss: 0.0360 - predictions_coarse_loss: 0.0220 - predictions_fine_loss: 0.0360 - predictions_coarse_acc: 0.9926 - predictions_fine_acc: 0.9879 - val_loss: 0.3195 - val_predictions_coarse_loss: 0.0591 - val_predictions_fine_loss: 0.3195 - val_predictions_coarse_acc: 0.9812 - val_predictions_fine_acc: 0.9163\n",
      "Epoch 33/50\n",
      "48000/48000 [==============================] - 3s 68us/step - loss: 0.0342 - predictions_coarse_loss: 0.0219 - predictions_fine_loss: 0.0342 - predictions_coarse_acc: 0.9928 - predictions_fine_acc: 0.9883 - val_loss: 0.3418 - val_predictions_coarse_loss: 0.0604 - val_predictions_fine_loss: 0.3418 - val_predictions_coarse_acc: 0.9810 - val_predictions_fine_acc: 0.9158\n",
      "Epoch 34/50\n",
      "48000/48000 [==============================] - 3s 68us/step - loss: 0.0348 - predictions_coarse_loss: 0.0219 - predictions_fine_loss: 0.0348 - predictions_coarse_acc: 0.9931 - predictions_fine_acc: 0.9888 - val_loss: 0.3594 - val_predictions_coarse_loss: 0.0608 - val_predictions_fine_loss: 0.3594 - val_predictions_coarse_acc: 0.9813 - val_predictions_fine_acc: 0.9127\n",
      "Epoch 35/50\n",
      "48000/48000 [==============================] - 3s 68us/step - loss: 0.0318 - predictions_coarse_loss: 0.0220 - predictions_fine_loss: 0.0318 - predictions_coarse_acc: 0.9927 - predictions_fine_acc: 0.9892 - val_loss: 0.3356 - val_predictions_coarse_loss: 0.0590 - val_predictions_fine_loss: 0.3356 - val_predictions_coarse_acc: 0.9813 - val_predictions_fine_acc: 0.9153\n",
      "Epoch 36/50\n",
      "48000/48000 [==============================] - 3s 68us/step - loss: 0.0303 - predictions_coarse_loss: 0.0213 - predictions_fine_loss: 0.0303 - predictions_coarse_acc: 0.9930 - predictions_fine_acc: 0.9901 - val_loss: 0.3843 - val_predictions_coarse_loss: 0.0588 - val_predictions_fine_loss: 0.3843 - val_predictions_coarse_acc: 0.9817 - val_predictions_fine_acc: 0.9105\n",
      "\n",
      "Epoch 00036: ReduceLROnPlateau reducing learning rate to 0.0002500000118743628.\n",
      "Epoch 37/50\n",
      "48000/48000 [==============================] - 3s 68us/step - loss: 0.0263 - predictions_coarse_loss: 0.0216 - predictions_fine_loss: 0.0263 - predictions_coarse_acc: 0.9929 - predictions_fine_acc: 0.9919 - val_loss: 0.3355 - val_predictions_coarse_loss: 0.0589 - val_predictions_fine_loss: 0.3355 - val_predictions_coarse_acc: 0.9815 - val_predictions_fine_acc: 0.9169\n",
      "Epoch 38/50\n",
      "48000/48000 [==============================] - 3s 68us/step - loss: 0.0247 - predictions_coarse_loss: 0.0215 - predictions_fine_loss: 0.0247 - predictions_coarse_acc: 0.9929 - predictions_fine_acc: 0.9925 - val_loss: 0.3452 - val_predictions_coarse_loss: 0.0594 - val_predictions_fine_loss: 0.3452 - val_predictions_coarse_acc: 0.9816 - val_predictions_fine_acc: 0.9161\n",
      "Epoch 39/50\n",
      "48000/48000 [==============================] - 3s 68us/step - loss: 0.0236 - predictions_coarse_loss: 0.0225 - predictions_fine_loss: 0.0236 - predictions_coarse_acc: 0.9925 - predictions_fine_acc: 0.9933 - val_loss: 0.3425 - val_predictions_coarse_loss: 0.0583 - val_predictions_fine_loss: 0.3425 - val_predictions_coarse_acc: 0.9814 - val_predictions_fine_acc: 0.9156\n",
      "Epoch 40/50\n",
      "48000/48000 [==============================] - 3s 68us/step - loss: 0.0225 - predictions_coarse_loss: 0.0219 - predictions_fine_loss: 0.0225 - predictions_coarse_acc: 0.9928 - predictions_fine_acc: 0.9934 - val_loss: 0.3591 - val_predictions_coarse_loss: 0.0592 - val_predictions_fine_loss: 0.3591 - val_predictions_coarse_acc: 0.9817 - val_predictions_fine_acc: 0.9143\n",
      "Epoch 41/50\n",
      "48000/48000 [==============================] - 3s 68us/step - loss: 0.0227 - predictions_coarse_loss: 0.0218 - predictions_fine_loss: 0.0227 - predictions_coarse_acc: 0.9925 - predictions_fine_acc: 0.9930 - val_loss: 0.3530 - val_predictions_coarse_loss: 0.0588 - val_predictions_fine_loss: 0.3530 - val_predictions_coarse_acc: 0.9818 - val_predictions_fine_acc: 0.9165\n",
      "Epoch 42/50\n",
      "48000/48000 [==============================] - 3s 68us/step - loss: 0.0224 - predictions_coarse_loss: 0.0226 - predictions_fine_loss: 0.0224 - predictions_coarse_acc: 0.9925 - predictions_fine_acc: 0.9930 - val_loss: 0.3504 - val_predictions_coarse_loss: 0.0593 - val_predictions_fine_loss: 0.3504 - val_predictions_coarse_acc: 0.9818 - val_predictions_fine_acc: 0.9160\n",
      "Epoch 43/50\n",
      "48000/48000 [==============================] - 3s 68us/step - loss: 0.0220 - predictions_coarse_loss: 0.0225 - predictions_fine_loss: 0.0220 - predictions_coarse_acc: 0.9927 - predictions_fine_acc: 0.9933 - val_loss: 0.3618 - val_predictions_coarse_loss: 0.0583 - val_predictions_fine_loss: 0.3618 - val_predictions_coarse_acc: 0.9816 - val_predictions_fine_acc: 0.9151\n",
      "Epoch 44/50\n",
      "48000/48000 [==============================] - 3s 69us/step - loss: 0.0207 - predictions_coarse_loss: 0.0212 - predictions_fine_loss: 0.0207 - predictions_coarse_acc: 0.9931 - predictions_fine_acc: 0.9940 - val_loss: 0.3544 - val_predictions_coarse_loss: 0.0590 - val_predictions_fine_loss: 0.3544 - val_predictions_coarse_acc: 0.9818 - val_predictions_fine_acc: 0.9168\n",
      "Epoch 45/50\n",
      "48000/48000 [==============================] - 3s 69us/step - loss: 0.0201 - predictions_coarse_loss: 0.0215 - predictions_fine_loss: 0.0201 - predictions_coarse_acc: 0.9928 - predictions_fine_acc: 0.9941 - val_loss: 0.3621 - val_predictions_coarse_loss: 0.0596 - val_predictions_fine_loss: 0.3621 - val_predictions_coarse_acc: 0.9814 - val_predictions_fine_acc: 0.9147\n",
      "Epoch 46/50\n",
      "48000/48000 [==============================] - 3s 69us/step - loss: 0.0192 - predictions_coarse_loss: 0.0225 - predictions_fine_loss: 0.0192 - predictions_coarse_acc: 0.9929 - predictions_fine_acc: 0.9944 - val_loss: 0.3648 - val_predictions_coarse_loss: 0.0593 - val_predictions_fine_loss: 0.3648 - val_predictions_coarse_acc: 0.9813 - val_predictions_fine_acc: 0.9147\n",
      "\n",
      "Epoch 00046: ReduceLROnPlateau reducing learning rate to 0.0001250000059371814.\n",
      "Epoch 47/50\n",
      "48000/48000 [==============================] - 3s 68us/step - loss: 0.0175 - predictions_coarse_loss: 0.0213 - predictions_fine_loss: 0.0175 - predictions_coarse_acc: 0.9927 - predictions_fine_acc: 0.9955 - val_loss: 0.3658 - val_predictions_coarse_loss: 0.0591 - val_predictions_fine_loss: 0.3658 - val_predictions_coarse_acc: 0.9818 - val_predictions_fine_acc: 0.9160\n",
      "Epoch 48/50\n",
      "48000/48000 [==============================] - 3s 69us/step - loss: 0.0174 - predictions_coarse_loss: 0.0215 - predictions_fine_loss: 0.0174 - predictions_coarse_acc: 0.9930 - predictions_fine_acc: 0.9953 - val_loss: 0.3675 - val_predictions_coarse_loss: 0.0590 - val_predictions_fine_loss: 0.3675 - val_predictions_coarse_acc: 0.9817 - val_predictions_fine_acc: 0.9166\n",
      "Epoch 49/50\n",
      "48000/48000 [==============================] - 3s 68us/step - loss: 0.0169 - predictions_coarse_loss: 0.0216 - predictions_fine_loss: 0.0169 - predictions_coarse_acc: 0.9926 - predictions_fine_acc: 0.9954 - val_loss: 0.3662 - val_predictions_coarse_loss: 0.0598 - val_predictions_fine_loss: 0.3662 - val_predictions_coarse_acc: 0.9815 - val_predictions_fine_acc: 0.9169\n",
      "Epoch 50/50\n",
      "48000/48000 [==============================] - 3s 68us/step - loss: 0.0170 - predictions_coarse_loss: 0.0227 - predictions_fine_loss: 0.0170 - predictions_coarse_acc: 0.9928 - predictions_fine_acc: 0.9952 - val_loss: 0.3660 - val_predictions_coarse_loss: 0.0593 - val_predictions_fine_loss: 0.3660 - val_predictions_coarse_acc: 0.9819 - val_predictions_fine_acc: 0.9163\n"
     ]
    }
   ],
   "source": [
    "epochs = 50\n",
    "start_time = time()\n",
    "training = model.fit(train_features, [y_train_c_cat, y_train_cat],\n",
    "                     validation_data=(vali_features, [y_val_c_cat, y_val_cat]),\n",
    "                     epochs=epochs,\n",
    "                     batch_size=512, \n",
    "                     callbacks=cbks,\n",
    "                     verbose=1)\n",
    "training_time = time() - start_time"
   ]
  },
  {
   "cell_type": "code",
   "execution_count": 68,
   "metadata": {
    "colab": {
     "base_uri": "https://localhost:8080/",
     "height": 54
    },
    "colab_type": "code",
    "executionInfo": {
     "elapsed": 2084,
     "status": "ok",
     "timestamp": 1541990100208,
     "user": {
      "displayName": "Matheus Inoue",
      "photoUrl": "https://lh5.googleusercontent.com/-QAhMvjxDob8/AAAAAAAAAAI/AAAAAAAAAX0/8QKimNgmoYI/s64/photo.jpg",
      "userId": "15307514117626512886"
     },
     "user_tz": 120
    },
    "id": "GRo5c-7908O6",
    "outputId": "dcbbf81b-010c-47d1-937d-8350de613bc4"
   },
   "outputs": [
    {
     "name": "stdout",
     "output_type": "stream",
     "text": [
      "10000/10000 [==============================] - 2s 156us/step\n"
     ]
    },
    {
     "data": {
      "text/plain": [
       "[0.4128214585453272, 0.07559832794318208, 0.4128214585453272, 0.9789, 0.9163]"
      ]
     },
     "execution_count": 68,
     "metadata": {
      "tags": []
     },
     "output_type": "execute_result"
    }
   ],
   "source": [
    "model.evaluate(test_features, [y_test_c_cat, y_test_cat])"
   ]
  },
  {
   "cell_type": "code",
   "execution_count": 69,
   "metadata": {
    "colab": {
     "base_uri": "https://localhost:8080/",
     "height": 1110
    },
    "colab_type": "code",
    "executionInfo": {
     "elapsed": 5687,
     "status": "error",
     "timestamp": 1541990195342,
     "user": {
      "displayName": "Matheus Inoue",
      "photoUrl": "https://lh5.googleusercontent.com/-QAhMvjxDob8/AAAAAAAAAAI/AAAAAAAAAX0/8QKimNgmoYI/s64/photo.jpg",
      "userId": "15307514117626512886"
     },
     "user_tz": 120
    },
    "id": "oERcl1M108PE",
    "outputId": "1ee7078f-4c0d-4df7-da83-dc7efbb90f7e"
   },
   "outputs": [
    {
     "ename": "TypeError",
     "evalue": "ignored",
     "output_type": "error",
     "traceback": [
      "\u001b[0;31m---------------------------------------------------------------------------\u001b[0m",
      "\u001b[0;31mTypeError\u001b[0m                                 Traceback (most recent call last)",
      "\u001b[0;32m<ipython-input-69-c39f61f47538>\u001b[0m in \u001b[0;36m<module>\u001b[0;34m()\u001b[0m\n\u001b[0;32m----> 1\u001b[0;31m \u001b[0mmodel\u001b[0m\u001b[0;34m.\u001b[0m\u001b[0msave\u001b[0m\u001b[0;34m(\u001b[0m\u001b[0;34m'drive/TCC-ITAU/fashion-mnist/models/branch-net-simple.h5'\u001b[0m\u001b[0;34m)\u001b[0m\u001b[0;34m\u001b[0m\u001b[0m\n\u001b[0m",
      "\u001b[0;32m/usr/local/lib/python3.6/dist-packages/keras/engine/network.py\u001b[0m in \u001b[0;36msave\u001b[0;34m(self, filepath, overwrite, include_optimizer)\u001b[0m\n\u001b[1;32m   1088\u001b[0m             \u001b[0;32mraise\u001b[0m \u001b[0mNotImplementedError\u001b[0m\u001b[0;34m\u001b[0m\u001b[0m\n\u001b[1;32m   1089\u001b[0m         \u001b[0;32mfrom\u001b[0m \u001b[0;34m.\u001b[0m\u001b[0;34m.\u001b[0m\u001b[0mmodels\u001b[0m \u001b[0;32mimport\u001b[0m \u001b[0msave_model\u001b[0m\u001b[0;34m\u001b[0m\u001b[0m\n\u001b[0;32m-> 1090\u001b[0;31m         \u001b[0msave_model\u001b[0m\u001b[0;34m(\u001b[0m\u001b[0mself\u001b[0m\u001b[0;34m,\u001b[0m \u001b[0mfilepath\u001b[0m\u001b[0;34m,\u001b[0m \u001b[0moverwrite\u001b[0m\u001b[0;34m,\u001b[0m \u001b[0minclude_optimizer\u001b[0m\u001b[0;34m)\u001b[0m\u001b[0;34m\u001b[0m\u001b[0m\n\u001b[0m\u001b[1;32m   1091\u001b[0m \u001b[0;34m\u001b[0m\u001b[0m\n\u001b[1;32m   1092\u001b[0m     \u001b[0;32mdef\u001b[0m \u001b[0msave_weights\u001b[0m\u001b[0;34m(\u001b[0m\u001b[0mself\u001b[0m\u001b[0;34m,\u001b[0m \u001b[0mfilepath\u001b[0m\u001b[0;34m,\u001b[0m \u001b[0moverwrite\u001b[0m\u001b[0;34m=\u001b[0m\u001b[0;32mTrue\u001b[0m\u001b[0;34m)\u001b[0m\u001b[0;34m:\u001b[0m\u001b[0;34m\u001b[0m\u001b[0m\n",
      "\u001b[0;32m/usr/local/lib/python3.6/dist-packages/keras/engine/saving.py\u001b[0m in \u001b[0;36msave_model\u001b[0;34m(model, filepath, overwrite, include_optimizer)\u001b[0m\n\u001b[1;32m    380\u001b[0m \u001b[0;34m\u001b[0m\u001b[0m\n\u001b[1;32m    381\u001b[0m     \u001b[0;32mtry\u001b[0m\u001b[0;34m:\u001b[0m\u001b[0;34m\u001b[0m\u001b[0m\n\u001b[0;32m--> 382\u001b[0;31m         \u001b[0m_serialize_model\u001b[0m\u001b[0;34m(\u001b[0m\u001b[0mmodel\u001b[0m\u001b[0;34m,\u001b[0m \u001b[0mf\u001b[0m\u001b[0;34m,\u001b[0m \u001b[0minclude_optimizer\u001b[0m\u001b[0;34m)\u001b[0m\u001b[0;34m\u001b[0m\u001b[0m\n\u001b[0m\u001b[1;32m    383\u001b[0m     \u001b[0;32mfinally\u001b[0m\u001b[0;34m:\u001b[0m\u001b[0;34m\u001b[0m\u001b[0m\n\u001b[1;32m    384\u001b[0m         \u001b[0;32mif\u001b[0m \u001b[0mopened_new_file\u001b[0m\u001b[0;34m:\u001b[0m\u001b[0;34m\u001b[0m\u001b[0m\n",
      "\u001b[0;32m/usr/local/lib/python3.6/dist-packages/keras/engine/saving.py\u001b[0m in \u001b[0;36m_serialize_model\u001b[0;34m(model, f, include_optimizer)\u001b[0m\n\u001b[1;32m    136\u001b[0m                 \u001b[0;34m'sample_weight_mode'\u001b[0m\u001b[0;34m:\u001b[0m \u001b[0mmodel\u001b[0m\u001b[0;34m.\u001b[0m\u001b[0msample_weight_mode\u001b[0m\u001b[0;34m,\u001b[0m\u001b[0;34m\u001b[0m\u001b[0m\n\u001b[1;32m    137\u001b[0m                 \u001b[0;34m'loss_weights'\u001b[0m\u001b[0;34m:\u001b[0m \u001b[0mmodel\u001b[0m\u001b[0;34m.\u001b[0m\u001b[0mloss_weights\u001b[0m\u001b[0;34m,\u001b[0m\u001b[0;34m\u001b[0m\u001b[0m\n\u001b[0;32m--> 138\u001b[0;31m             }, default=get_json_type).encode('utf8')\n\u001b[0m\u001b[1;32m    139\u001b[0m             \u001b[0msymbolic_weights\u001b[0m \u001b[0;34m=\u001b[0m \u001b[0mgetattr\u001b[0m\u001b[0;34m(\u001b[0m\u001b[0mmodel\u001b[0m\u001b[0;34m.\u001b[0m\u001b[0moptimizer\u001b[0m\u001b[0;34m,\u001b[0m \u001b[0;34m'weights'\u001b[0m\u001b[0;34m)\u001b[0m\u001b[0;34m\u001b[0m\u001b[0m\n\u001b[1;32m    140\u001b[0m             \u001b[0;32mif\u001b[0m \u001b[0msymbolic_weights\u001b[0m\u001b[0;34m:\u001b[0m\u001b[0;34m\u001b[0m\u001b[0m\n",
      "\u001b[0;32m/usr/lib/python3.6/json/__init__.py\u001b[0m in \u001b[0;36mdumps\u001b[0;34m(obj, skipkeys, ensure_ascii, check_circular, allow_nan, cls, indent, separators, default, sort_keys, **kw)\u001b[0m\n\u001b[1;32m    236\u001b[0m         \u001b[0mcheck_circular\u001b[0m\u001b[0;34m=\u001b[0m\u001b[0mcheck_circular\u001b[0m\u001b[0;34m,\u001b[0m \u001b[0mallow_nan\u001b[0m\u001b[0;34m=\u001b[0m\u001b[0mallow_nan\u001b[0m\u001b[0;34m,\u001b[0m \u001b[0mindent\u001b[0m\u001b[0;34m=\u001b[0m\u001b[0mindent\u001b[0m\u001b[0;34m,\u001b[0m\u001b[0;34m\u001b[0m\u001b[0m\n\u001b[1;32m    237\u001b[0m         \u001b[0mseparators\u001b[0m\u001b[0;34m=\u001b[0m\u001b[0mseparators\u001b[0m\u001b[0;34m,\u001b[0m \u001b[0mdefault\u001b[0m\u001b[0;34m=\u001b[0m\u001b[0mdefault\u001b[0m\u001b[0;34m,\u001b[0m \u001b[0msort_keys\u001b[0m\u001b[0;34m=\u001b[0m\u001b[0msort_keys\u001b[0m\u001b[0;34m,\u001b[0m\u001b[0;34m\u001b[0m\u001b[0m\n\u001b[0;32m--> 238\u001b[0;31m         **kw).encode(obj)\n\u001b[0m\u001b[1;32m    239\u001b[0m \u001b[0;34m\u001b[0m\u001b[0m\n\u001b[1;32m    240\u001b[0m \u001b[0;34m\u001b[0m\u001b[0m\n",
      "\u001b[0;32m/usr/lib/python3.6/json/encoder.py\u001b[0m in \u001b[0;36mencode\u001b[0;34m(self, o)\u001b[0m\n\u001b[1;32m    197\u001b[0m         \u001b[0;31m# exceptions aren't as detailed.  The list call should be roughly\u001b[0m\u001b[0;34m\u001b[0m\u001b[0;34m\u001b[0m\u001b[0m\n\u001b[1;32m    198\u001b[0m         \u001b[0;31m# equivalent to the PySequence_Fast that ''.join() would do.\u001b[0m\u001b[0;34m\u001b[0m\u001b[0;34m\u001b[0m\u001b[0m\n\u001b[0;32m--> 199\u001b[0;31m         \u001b[0mchunks\u001b[0m \u001b[0;34m=\u001b[0m \u001b[0mself\u001b[0m\u001b[0;34m.\u001b[0m\u001b[0miterencode\u001b[0m\u001b[0;34m(\u001b[0m\u001b[0mo\u001b[0m\u001b[0;34m,\u001b[0m \u001b[0m_one_shot\u001b[0m\u001b[0;34m=\u001b[0m\u001b[0;32mTrue\u001b[0m\u001b[0;34m)\u001b[0m\u001b[0;34m\u001b[0m\u001b[0m\n\u001b[0m\u001b[1;32m    200\u001b[0m         \u001b[0;32mif\u001b[0m \u001b[0;32mnot\u001b[0m \u001b[0misinstance\u001b[0m\u001b[0;34m(\u001b[0m\u001b[0mchunks\u001b[0m\u001b[0;34m,\u001b[0m \u001b[0;34m(\u001b[0m\u001b[0mlist\u001b[0m\u001b[0;34m,\u001b[0m \u001b[0mtuple\u001b[0m\u001b[0;34m)\u001b[0m\u001b[0;34m)\u001b[0m\u001b[0;34m:\u001b[0m\u001b[0;34m\u001b[0m\u001b[0m\n\u001b[1;32m    201\u001b[0m             \u001b[0mchunks\u001b[0m \u001b[0;34m=\u001b[0m \u001b[0mlist\u001b[0m\u001b[0;34m(\u001b[0m\u001b[0mchunks\u001b[0m\u001b[0;34m)\u001b[0m\u001b[0;34m\u001b[0m\u001b[0m\n",
      "\u001b[0;32m/usr/lib/python3.6/json/encoder.py\u001b[0m in \u001b[0;36miterencode\u001b[0;34m(self, o, _one_shot)\u001b[0m\n\u001b[1;32m    255\u001b[0m                 \u001b[0mself\u001b[0m\u001b[0;34m.\u001b[0m\u001b[0mkey_separator\u001b[0m\u001b[0;34m,\u001b[0m \u001b[0mself\u001b[0m\u001b[0;34m.\u001b[0m\u001b[0mitem_separator\u001b[0m\u001b[0;34m,\u001b[0m \u001b[0mself\u001b[0m\u001b[0;34m.\u001b[0m\u001b[0msort_keys\u001b[0m\u001b[0;34m,\u001b[0m\u001b[0;34m\u001b[0m\u001b[0m\n\u001b[1;32m    256\u001b[0m                 self.skipkeys, _one_shot)\n\u001b[0;32m--> 257\u001b[0;31m         \u001b[0;32mreturn\u001b[0m \u001b[0m_iterencode\u001b[0m\u001b[0;34m(\u001b[0m\u001b[0mo\u001b[0m\u001b[0;34m,\u001b[0m \u001b[0;36m0\u001b[0m\u001b[0;34m)\u001b[0m\u001b[0;34m\u001b[0m\u001b[0m\n\u001b[0m\u001b[1;32m    258\u001b[0m \u001b[0;34m\u001b[0m\u001b[0m\n\u001b[1;32m    259\u001b[0m def _make_iterencode(markers, _default, _encoder, _indent, _floatstr,\n",
      "\u001b[0;32m/usr/local/lib/python3.6/dist-packages/keras/engine/saving.py\u001b[0m in \u001b[0;36mget_json_type\u001b[0;34m(obj)\u001b[0m\n\u001b[1;32m     72\u001b[0m             \u001b[0;32mreturn\u001b[0m \u001b[0mobj\u001b[0m\u001b[0;34m.\u001b[0m\u001b[0m__name__\u001b[0m\u001b[0;34m\u001b[0m\u001b[0m\n\u001b[1;32m     73\u001b[0m \u001b[0;34m\u001b[0m\u001b[0m\n\u001b[0;32m---> 74\u001b[0;31m         \u001b[0;32mraise\u001b[0m \u001b[0mTypeError\u001b[0m\u001b[0;34m(\u001b[0m\u001b[0;34m'Not JSON Serializable: %s'\u001b[0m \u001b[0;34m%\u001b[0m \u001b[0;34m(\u001b[0m\u001b[0mobj\u001b[0m\u001b[0;34m,\u001b[0m\u001b[0;34m)\u001b[0m\u001b[0;34m)\u001b[0m\u001b[0;34m\u001b[0m\u001b[0m\n\u001b[0m\u001b[1;32m     75\u001b[0m \u001b[0;34m\u001b[0m\u001b[0m\n\u001b[1;32m     76\u001b[0m     \u001b[0;32mfrom\u001b[0m \u001b[0;34m.\u001b[0m\u001b[0;34m.\u001b[0m \u001b[0;32mimport\u001b[0m \u001b[0m__version__\u001b[0m \u001b[0;32mas\u001b[0m \u001b[0mkeras_version\u001b[0m\u001b[0;34m\u001b[0m\u001b[0m\n",
      "\u001b[0;31mTypeError\u001b[0m: Not JSON Serializable: <tf.Variable 'alpha_6:0' shape=() dtype=float32_ref>"
     ]
    }
   ],
   "source": [
    "model.save('drive/TCC-ITAU/fashion-mnist/models/branch-net-simple.h5')"
   ]
  },
  {
   "cell_type": "code",
   "execution_count": 70,
   "metadata": {
    "colab": {
     "base_uri": "https://localhost:8080/",
     "height": 36
    },
    "colab_type": "code",
    "executionInfo": {
     "elapsed": 925,
     "status": "ok",
     "timestamp": 1541990200093,
     "user": {
      "displayName": "Matheus Inoue",
      "photoUrl": "https://lh5.googleusercontent.com/-QAhMvjxDob8/AAAAAAAAAAI/AAAAAAAAAX0/8QKimNgmoYI/s64/photo.jpg",
      "userId": "15307514117626512886"
     },
     "user_tz": 120
    },
    "id": "N-_JMywOZuMP",
    "outputId": "90f3dad5-aa06-4762-b9c7-9283de2b77fb"
   },
   "outputs": [
    {
     "data": {
      "text/plain": [
       "176.846195936203"
      ]
     },
     "execution_count": 70,
     "metadata": {
      "tags": []
     },
     "output_type": "execute_result"
    }
   ],
   "source": [
    "training_time"
   ]
  },
  {
   "cell_type": "markdown",
   "metadata": {
    "colab_type": "text",
    "id": "IutWvEI108PK"
   },
   "source": []
  },
  {
   "cell_type": "code",
   "execution_count": null,
   "metadata": {
    "colab": {},
    "colab_type": "code",
    "id": "LB2ZaI1M08PM"
   },
   "outputs": [],
   "source": []
  }
 ],
 "metadata": {
  "accelerator": "GPU",
  "colab": {
   "collapsed_sections": [],
   "name": "branch-net-simple.ipynb",
   "provenance": [],
   "toc_visible": true,
   "version": "0.3.2"
  },
  "kernelspec": {
   "display_name": "Python [Anaconda3]",
   "language": "python",
   "name": "Python [Anaconda3]"
  },
  "language_info": {
   "codemirror_mode": {
    "name": "ipython",
    "version": 3
   },
   "file_extension": ".py",
   "mimetype": "text/x-python",
   "name": "python",
   "nbconvert_exporter": "python",
   "pygments_lexer": "ipython3",
   "version": "3.5.2"
  }
 },
 "nbformat": 4,
 "nbformat_minor": 2
}
