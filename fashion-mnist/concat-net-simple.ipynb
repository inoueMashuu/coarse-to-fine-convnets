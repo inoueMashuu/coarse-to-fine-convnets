{
 "cells": [
  {
   "cell_type": "markdown",
   "metadata": {
    "colab_type": "text",
    "id": "yoBhUpUd08Mi"
   },
   "source": [
    "# Concat-net simple"
   ]
  },
  {
   "cell_type": "code",
   "execution_count": null,
   "metadata": {
    "colab": {},
    "colab_type": "code",
    "id": "el8xmTzF1iXR"
   },
   "outputs": [],
   "source": [
    "!apt-get install -y -qq software-properties-common python-software-properties module-init-tools\n",
    "!add-apt-repository -y ppa:alessandro-strada/ppa 2>&1 > /dev/null\n",
    "!apt-get update -qq 2>&1 > /dev/null\n",
    "!apt-get -y install -qq google-drive-ocamlfuse fuse\n",
    "\n",
    "from google.colab import auth\n",
    "auth.authenticate_user()\n",
    "from oauth2client.client import GoogleCredentials\n",
    "creds = GoogleCredentials.get_application_default()\n",
    "import getpass\n",
    "\n",
    "!google-drive-ocamlfuse -headless -id={creds.client_id} -secret={creds.client_secret} < /dev/null 2>&1 | grep URL\n",
    "vcode = getpass.getpass()\n",
    "!echo {vcode} | google-drive-ocamlfuse -headless -id={creds.client_id} -secret={creds.client_secret}"
   ]
  },
  {
   "cell_type": "code",
   "execution_count": null,
   "metadata": {
    "colab": {},
    "colab_type": "code",
    "id": "qczo0o6518It"
   },
   "outputs": [],
   "source": [
    "!mkdir -p drive\n",
    "!google-drive-ocamlfuse drive"
   ]
  },
  {
   "cell_type": "code",
   "execution_count": null,
   "metadata": {
    "colab": {
     "base_uri": "https://localhost:8080/",
     "height": 36
    },
    "colab_type": "code",
    "executionInfo": {
     "elapsed": 2497,
     "status": "ok",
     "timestamp": 1541990311587,
     "user": {
      "displayName": "Matheus Inoue",
      "photoUrl": "https://lh5.googleusercontent.com/-QAhMvjxDob8/AAAAAAAAAAI/AAAAAAAAAX0/8QKimNgmoYI/s64/photo.jpg",
      "userId": "15307514117626512886"
     },
     "user_tz": 120
    },
    "id": "mKK0QOj208Mp",
    "outputId": "60b05488-02da-4458-a70e-33e3f32680eb"
   },
   "outputs": [],
   "source": [
    "from time import time\n",
    "import os\n",
    "import gzip\n",
    "import numpy as np\n",
    "from keras.utils import np_utils\n",
    "\n",
    "import matplotlib.pyplot as plt"
   ]
  },
  {
   "cell_type": "code",
   "execution_count": null,
   "metadata": {
    "colab": {},
    "colab_type": "code",
    "id": "C-_SshSZ08M_"
   },
   "outputs": [],
   "source": [
    "def load_mnist(path, kind='train'):\n",
    "    import os\n",
    "    import gzip\n",
    "    import numpy as np\n",
    "\n",
    "    \"\"\"Load MNIST data from `path`\"\"\"\n",
    "    labels_path = os.path.join(path,\n",
    "                               '%s-labels-idx1-ubyte.gz'\n",
    "                               % kind)\n",
    "    images_path = os.path.join(path,\n",
    "                               '%s-images-idx3-ubyte.gz'\n",
    "                               % kind)\n",
    "\n",
    "    with gzip.open(labels_path, 'rb') as lbpath:\n",
    "        labels = np.frombuffer(lbpath.read(), dtype=np.uint8,\n",
    "                               offset=8)\n",
    "\n",
    "    with gzip.open(images_path, 'rb') as imgpath:\n",
    "        images = np.frombuffer(imgpath.read(), dtype=np.uint8,\n",
    "                               offset=16).reshape(len(labels), 784)\n",
    "\n",
    "    return images, labels"
   ]
  },
  {
   "cell_type": "code",
   "execution_count": null,
   "metadata": {
    "colab": {},
    "colab_type": "code",
    "id": "msDYHy7U08NH"
   },
   "outputs": [],
   "source": [
    "X_train, y_train = load_mnist('drive/TCC-ITAU/fashion-mnist/data/fashion', kind='train')\n",
    "X_test, y_test = load_mnist('drive/TCC-ITAU/fashion-mnist/data/fashion', kind='t10k')"
   ]
  },
  {
   "cell_type": "code",
   "execution_count": null,
   "metadata": {
    "colab": {},
    "colab_type": "code",
    "id": "12JjnCPyyRCL"
   },
   "outputs": [],
   "source": [
    "from sklearn.model_selection import train_test_split\n",
    "\n",
    "X_train, X_val, y_train, y_val = train_test_split(X_train, y_train, test_size=0.2, random_state=1974)"
   ]
  },
  {
   "cell_type": "code",
   "execution_count": null,
   "metadata": {
    "colab": {},
    "colab_type": "code",
    "id": "fmyVVJua08NU"
   },
   "outputs": [],
   "source": [
    "train_features = X_train.reshape(X_train.shape[0], 28, 28, 1)/255\n",
    "vali_features = X_val.reshape(X_val.shape[0], 28, 28, 1)/255\n",
    "test_features = X_test.reshape(X_test.shape[0], 28, 28, 1)/255\n",
    "\n",
    "y_train_cat = np_utils.to_categorical(y_train)\n",
    "y_val_cat = np_utils.to_categorical(y_val)\n",
    "y_test_cat = np_utils.to_categorical(y_test)"
   ]
  },
  {
   "cell_type": "markdown",
   "metadata": {
    "colab_type": "text",
    "id": "AGQ2N1Wlbj_T"
   },
   "source": [
    "## Coarse and Fine classe\n",
    "\n",
    "| Label | Fine | Coarse |\n",
    "| --- | --- | --- |\n",
    "| 0 | T-shirt/top | TOP |\n",
    "| 1 | Trouser | BOTTOM |\n",
    "| 2 | Pullover | TOP |\n",
    "| 3 | Dress |BODY |\n",
    "| 4 | Coat | TOP |\n",
    "| 5 | Sandal | FEET |\n",
    "| 6 | Shirt | TOP |\n",
    "| 7 | Sneaker | FEET |\n",
    "| 8 | Bag | ACCESSORY |\n",
    "| 9 | Ankle boot | FEET |"
   ]
  },
  {
   "cell_type": "code",
   "execution_count": null,
   "metadata": {
    "colab": {},
    "colab_type": "code",
    "id": "5khS0kJabnhB"
   },
   "outputs": [],
   "source": [
    "dict_coarse = {0: 0,\n",
    "              1: 1,\n",
    "              2: 0,\n",
    "              3: 2,\n",
    "              4: 0,\n",
    "              5: 3,\n",
    "              6: 0,\n",
    "              7: 3,\n",
    "              8: 4,\n",
    "              9: 3}\n",
    "\n",
    "y_train_coarse = np.vectorize(dict_coarse.get)(y_train)\n",
    "y_val_coarse = np.vectorize(dict_coarse.get)(y_val)\n",
    "y_test_coarse = np.vectorize(dict_coarse.get)(y_test)\n",
    "\n",
    "y_train_c_cat = np_utils.to_categorical(y_train_coarse)\n",
    "y_val_c_cat = np_utils.to_categorical(y_val_coarse)\n",
    "y_test_c_cat= np_utils.to_categorical(y_test_coarse)"
   ]
  },
  {
   "cell_type": "code",
   "execution_count": null,
   "metadata": {
    "colab": {},
    "colab_type": "code",
    "id": "IPotu_I008Nb"
   },
   "outputs": [],
   "source": [
    "import keras\n",
    "from keras.models import Model\n",
    "from keras.layers import Dense, Dropout, Activation, Flatten\n",
    "from keras.layers import Conv2D, MaxPooling2D, Input\n",
    "from keras import optimizers\n",
    "from keras.callbacks import TensorBoard, ReduceLROnPlateau, CSVLogger\n",
    "from keras.layers.normalization import BatchNormalization\n",
    "from keras.utils.data_utils import get_file\n",
    "from keras import backend as K"
   ]
  },
  {
   "cell_type": "code",
   "execution_count": null,
   "metadata": {
    "colab": {},
    "colab_type": "code",
    "id": "PrWrVZcubvCH"
   },
   "outputs": [],
   "source": [
    "class LossWeightsModifier(keras.callbacks.Callback):\n",
    "  def __init__(self, alpha, beta):\n",
    "    self.alpha = alpha\n",
    "    self.beta = beta\n",
    "    \n",
    "  def on_epoch_end(self, epoch, logs={}):\n",
    "    if epoch == 7:\n",
    "      K.set_value(self.alpha, 0.6)\n",
    "      K.set_value(self.beta, 0.4)\n",
    "      print('Changing loss weights to: coarse = {}, fine = {}'.format(K.eval(self.alpha), K.eval(self.beta)))\n",
    "\n",
    "    if epoch == 11:\n",
    "      K.set_value(self.alpha, 0.2)\n",
    "      K.set_value(self.beta, 0.8)\n",
    "      print('Changing loss weights to: coarse = {}, fine = {}'.format(K.eval(self.alpha), K.eval(self.beta)))\n",
    "      \n",
    "    if epoch == 21:\n",
    "      K.set_value(self.alpha, 0)\n",
    "      K.set_value(self.beta, 1)\n",
    "      print('Changing loss weights to: coarse = {}, fine = {}'.format(K.eval(self.alpha), K.eval(self.beta)))\n",
    "      \n",
    "    logs['alpha'] = K.eval(self.alpha)\n",
    "    logs['beta'] = K.eval(self.beta)   "
   ]
  },
  {
   "cell_type": "code",
   "execution_count": null,
   "metadata": {
    "colab": {},
    "colab_type": "code",
    "id": "RwH3c8U508Ni"
   },
   "outputs": [],
   "source": [
    "img_rows, img_cols = 28, 28\n",
    "if K.image_data_format() == 'channels_first':\n",
    "    input_shape = (1, img_rows, img_cols)\n",
    "else:\n",
    "    input_shape = (img_rows, img_cols, 1)"
   ]
  },
  {
   "cell_type": "code",
   "execution_count": null,
   "metadata": {
    "colab": {},
    "colab_type": "code",
    "id": "t3ZoxUkg08No"
   },
   "outputs": [],
   "source": [
    "num_classes_coarse = 5\n",
    "num_classes_fine = 10\n",
    "\n",
    "img_input = Input(shape=input_shape, name='input')\n",
    "\n",
    "\n",
    "x = Conv2D(32, (3, 3), activation='relu', name='block1_conv1')(img_input)\n",
    "x = MaxPooling2D((2, 2), name='block1_pool')(x)\n",
    "\n",
    "#---- coarse branch ----\n",
    "coarse = Flatten(name='c1_flatten')(x)\n",
    "coarse = Dense(64, name='c1_fc_1')(coarse)\n",
    "coarse = BatchNormalization()(coarse)\n",
    "coarse = Activation('relu')(coarse)\n",
    "coarse = Dropout(0.5)(coarse)\n",
    "coarse_pred = Dense(num_classes_coarse, activation='softmax', name='predictions_coarse')(coarse)\n",
    "\n",
    "x = Conv2D(64, (3, 3), activation='relu', name='block1_conv2')(x)\n",
    "x = MaxPooling2D((2, 2), name='block2_pool')(x)\n",
    "\n",
    "x = Flatten(name='flatten')(x)\n",
    "x = Dense(128, name='fc_1')(x)\n",
    "x = BatchNormalization()(x)\n",
    "x = Activation('relu')(x)\n",
    "x = Dropout(0.5)(x)\n",
    "x = keras.layers.concatenate([x, coarse])\n",
    "fine_pred = Dense(num_classes_fine, activation='softmax', name='predictions_fine')(x)"
   ]
  },
  {
   "cell_type": "code",
   "execution_count": null,
   "metadata": {
    "colab": {},
    "colab_type": "code",
    "id": "FM-yECFW08Nz"
   },
   "outputs": [],
   "source": [
    "model = Model(inputs=img_input, outputs=[coarse_pred, fine_pred], name='concat_net')"
   ]
  },
  {
   "cell_type": "code",
   "execution_count": 20,
   "metadata": {
    "colab": {
     "base_uri": "https://localhost:8080/",
     "height": 860
    },
    "colab_type": "code",
    "executionInfo": {
     "elapsed": 1191,
     "status": "ok",
     "timestamp": 1541990684048,
     "user": {
      "displayName": "Matheus Inoue",
      "photoUrl": "https://lh5.googleusercontent.com/-QAhMvjxDob8/AAAAAAAAAAI/AAAAAAAAAX0/8QKimNgmoYI/s64/photo.jpg",
      "userId": "15307514117626512886"
     },
     "user_tz": 120
    },
    "id": "-v0UFRE608OA",
    "outputId": "21009917-ccb8-444e-932b-571bf5d8ec6c"
   },
   "outputs": [
    {
     "name": "stdout",
     "output_type": "stream",
     "text": [
      "__________________________________________________________________________________________________\n",
      "Layer (type)                    Output Shape         Param #     Connected to                     \n",
      "==================================================================================================\n",
      "input (InputLayer)              (None, 28, 28, 1)    0                                            \n",
      "__________________________________________________________________________________________________\n",
      "block1_conv1 (Conv2D)           (None, 26, 26, 32)   320         input[0][0]                      \n",
      "__________________________________________________________________________________________________\n",
      "block1_pool (MaxPooling2D)      (None, 13, 13, 32)   0           block1_conv1[0][0]               \n",
      "__________________________________________________________________________________________________\n",
      "block1_conv2 (Conv2D)           (None, 11, 11, 64)   18496       block1_pool[0][0]                \n",
      "__________________________________________________________________________________________________\n",
      "block2_pool (MaxPooling2D)      (None, 5, 5, 64)     0           block1_conv2[0][0]               \n",
      "__________________________________________________________________________________________________\n",
      "c1_flatten (Flatten)            (None, 5408)         0           block1_pool[0][0]                \n",
      "__________________________________________________________________________________________________\n",
      "flatten (Flatten)               (None, 1600)         0           block2_pool[0][0]                \n",
      "__________________________________________________________________________________________________\n",
      "c1_fc_1 (Dense)                 (None, 64)           346176      c1_flatten[0][0]                 \n",
      "__________________________________________________________________________________________________\n",
      "fc_1 (Dense)                    (None, 128)          204928      flatten[0][0]                    \n",
      "__________________________________________________________________________________________________\n",
      "batch_normalization_3 (BatchNor (None, 64)           256         c1_fc_1[0][0]                    \n",
      "__________________________________________________________________________________________________\n",
      "batch_normalization_4 (BatchNor (None, 128)          512         fc_1[0][0]                       \n",
      "__________________________________________________________________________________________________\n",
      "activation_3 (Activation)       (None, 64)           0           batch_normalization_3[0][0]      \n",
      "__________________________________________________________________________________________________\n",
      "activation_4 (Activation)       (None, 128)          0           batch_normalization_4[0][0]      \n",
      "__________________________________________________________________________________________________\n",
      "dropout_3 (Dropout)             (None, 64)           0           activation_3[0][0]               \n",
      "__________________________________________________________________________________________________\n",
      "dropout_4 (Dropout)             (None, 128)          0           activation_4[0][0]               \n",
      "__________________________________________________________________________________________________\n",
      "concatenate_2 (Concatenate)     (None, 192)          0           dropout_4[0][0]                  \n",
      "                                                                 dropout_3[0][0]                  \n",
      "__________________________________________________________________________________________________\n",
      "predictions_coarse (Dense)      (None, 5)            325         dropout_3[0][0]                  \n",
      "__________________________________________________________________________________________________\n",
      "predictions_fine (Dense)        (None, 10)           1930        concatenate_2[0][0]              \n",
      "==================================================================================================\n",
      "Total params: 572,943\n",
      "Trainable params: 572,559\n",
      "Non-trainable params: 384\n",
      "__________________________________________________________________________________________________\n"
     ]
    }
   ],
   "source": [
    "model.summary()"
   ]
  },
  {
   "cell_type": "code",
   "execution_count": null,
   "metadata": {
    "colab": {},
    "colab_type": "code",
    "id": "GP_bMuNp08Ob"
   },
   "outputs": [],
   "source": [
    "alpha = K.variable(value=0.95, dtype=\"float32\", name=\"alpha\") # A1 in paper\n",
    "beta = K.variable(value=0.05, dtype=\"float32\", name=\"beta\") # A2 in paper\n",
    "\n",
    "model.compile(loss='categorical_crossentropy', \n",
    "              optimizer='adam', \n",
    "              loss_weights=[alpha, beta],\n",
    "              metrics=['accuracy'])"
   ]
  },
  {
   "cell_type": "code",
   "execution_count": null,
   "metadata": {
    "colab": {},
    "colab_type": "code",
    "id": "vogK7uRFygnM"
   },
   "outputs": [],
   "source": [
    "class TimingCallback(keras.callbacks.Callback):\n",
    "    \n",
    "  def on_epoch_begin(self, epoch, logs={}):\n",
    "    self.starttime=time()\n",
    "  def on_epoch_end(self, epoch, logs={}):\n",
    "    logs['time_elapsed'] = (time()-self.starttime)"
   ]
  },
  {
   "cell_type": "code",
   "execution_count": null,
   "metadata": {
    "colab": {},
    "colab_type": "code",
    "id": "-nLwVGTv08Ol"
   },
   "outputs": [],
   "source": [
    "tb_cb = TensorBoard(log_dir='drive/TCC-ITAU/fashion-mnist/tensorboard/concat-net-simple', histogram_freq=0)\n",
    "clr_cb = ReduceLROnPlateau(monitor='val_predictions_fine_loss', factor=0.5, patience=10, verbose=1)\n",
    "time_cb = TimingCallback()\n",
    "csv_cb = CSVLogger('drive/TCC-ITAU/fashion-mnist/training-data/concat-net/concat-net-simple.csv', separator=',', append=False)\n",
    "change_lw = LossWeightsModifier(alpha, beta)\n",
    "\n",
    "cbks = [tb_cb, clr_cb, time_cb, change_lw, csv_cb]"
   ]
  },
  {
   "cell_type": "code",
   "execution_count": 24,
   "metadata": {
    "colab": {
     "base_uri": "https://localhost:8080/",
     "height": 2131
    },
    "colab_type": "code",
    "executionInfo": {
     "elapsed": 178961,
     "status": "ok",
     "timestamp": 1541990870696,
     "user": {
      "displayName": "Matheus Inoue",
      "photoUrl": "https://lh5.googleusercontent.com/-QAhMvjxDob8/AAAAAAAAAAI/AAAAAAAAAX0/8QKimNgmoYI/s64/photo.jpg",
      "userId": "15307514117626512886"
     },
     "user_tz": 120
    },
    "id": "RCE-Ly0V08Os",
    "outputId": "bf456268-2608-4f9f-f1b0-06d0c243be22"
   },
   "outputs": [
    {
     "name": "stdout",
     "output_type": "stream",
     "text": [
      "Train on 48000 samples, validate on 12000 samples\n",
      "Epoch 1/50\n",
      "48000/48000 [==============================] - 4s 87us/step - loss: 0.2743 - predictions_coarse_loss: 0.2538 - predictions_fine_loss: 0.6639 - predictions_coarse_acc: 0.9269 - predictions_fine_acc: 0.7637 - val_loss: 0.1500 - val_predictions_coarse_loss: 0.1347 - val_predictions_fine_loss: 0.4414 - val_predictions_coarse_acc: 0.9630 - val_predictions_fine_acc: 0.8382\n",
      "Epoch 2/50\n",
      "48000/48000 [==============================] - 3s 70us/step - loss: 0.1274 - predictions_coarse_loss: 0.1139 - predictions_fine_loss: 0.3833 - predictions_coarse_acc: 0.9677 - predictions_fine_acc: 0.8627 - val_loss: 0.1009 - val_predictions_coarse_loss: 0.0887 - val_predictions_fine_loss: 0.3338 - val_predictions_coarse_acc: 0.9717 - val_predictions_fine_acc: 0.8788\n",
      "Epoch 3/50\n",
      "48000/48000 [==============================] - 3s 70us/step - loss: 0.1016 - predictions_coarse_loss: 0.0901 - predictions_fine_loss: 0.3197 - predictions_coarse_acc: 0.9722 - predictions_fine_acc: 0.8842 - val_loss: 0.0881 - val_predictions_coarse_loss: 0.0761 - val_predictions_fine_loss: 0.3157 - val_predictions_coarse_acc: 0.9772 - val_predictions_fine_acc: 0.8804\n",
      "Epoch 4/50\n",
      "48000/48000 [==============================] - 3s 70us/step - loss: 0.0847 - predictions_coarse_loss: 0.0743 - predictions_fine_loss: 0.2823 - predictions_coarse_acc: 0.9764 - predictions_fine_acc: 0.8983 - val_loss: 0.0767 - val_predictions_coarse_loss: 0.0655 - val_predictions_fine_loss: 0.2897 - val_predictions_coarse_acc: 0.9778 - val_predictions_fine_acc: 0.8916\n",
      "Epoch 5/50\n",
      "48000/48000 [==============================] - 3s 70us/step - loss: 0.0752 - predictions_coarse_loss: 0.0658 - predictions_fine_loss: 0.2543 - predictions_coarse_acc: 0.9787 - predictions_fine_acc: 0.9068 - val_loss: 0.0767 - val_predictions_coarse_loss: 0.0664 - val_predictions_fine_loss: 0.2719 - val_predictions_coarse_acc: 0.9771 - val_predictions_fine_acc: 0.8972\n",
      "Epoch 6/50\n",
      "48000/48000 [==============================] - 3s 70us/step - loss: 0.0661 - predictions_coarse_loss: 0.0572 - predictions_fine_loss: 0.2351 - predictions_coarse_acc: 0.9817 - predictions_fine_acc: 0.9151 - val_loss: 0.0719 - val_predictions_coarse_loss: 0.0613 - val_predictions_fine_loss: 0.2728 - val_predictions_coarse_acc: 0.9788 - val_predictions_fine_acc: 0.8932\n",
      "Epoch 7/50\n",
      "48000/48000 [==============================] - 3s 70us/step - loss: 0.0595 - predictions_coarse_loss: 0.0512 - predictions_fine_loss: 0.2166 - predictions_coarse_acc: 0.9830 - predictions_fine_acc: 0.9213 - val_loss: 0.0729 - val_predictions_coarse_loss: 0.0617 - val_predictions_fine_loss: 0.2862 - val_predictions_coarse_acc: 0.9783 - val_predictions_fine_acc: 0.8928\n",
      "Epoch 8/50\n",
      "48000/48000 [==============================] - 3s 70us/step - loss: 0.0559 - predictions_coarse_loss: 0.0482 - predictions_fine_loss: 0.2024 - predictions_coarse_acc: 0.9835 - predictions_fine_acc: 0.9256 - val_loss: 0.0693 - val_predictions_coarse_loss: 0.0598 - val_predictions_fine_loss: 0.2501 - val_predictions_coarse_acc: 0.9796 - val_predictions_fine_acc: 0.9078\n",
      "Changing loss weights to: coarse = 0.6000000238418579, fine = 0.4000000059604645\n",
      "Epoch 9/50\n",
      "48000/48000 [==============================] - 3s 70us/step - loss: 0.1206 - predictions_coarse_loss: 0.0440 - predictions_fine_loss: 0.2354 - predictions_coarse_acc: 0.9853 - predictions_fine_acc: 0.9122 - val_loss: 0.1943 - val_predictions_coarse_loss: 0.0598 - val_predictions_fine_loss: 0.3959 - val_predictions_coarse_acc: 0.9803 - val_predictions_fine_acc: 0.8670\n",
      "Epoch 10/50\n",
      "48000/48000 [==============================] - 3s 70us/step - loss: 0.1030 - predictions_coarse_loss: 0.0407 - predictions_fine_loss: 0.1965 - predictions_coarse_acc: 0.9867 - predictions_fine_acc: 0.9272 - val_loss: 0.1442 - val_predictions_coarse_loss: 0.0585 - val_predictions_fine_loss: 0.2726 - val_predictions_coarse_acc: 0.9802 - val_predictions_fine_acc: 0.8998\n",
      "Epoch 11/50\n",
      "48000/48000 [==============================] - 3s 70us/step - loss: 0.0898 - predictions_coarse_loss: 0.0379 - predictions_fine_loss: 0.1676 - predictions_coarse_acc: 0.9873 - predictions_fine_acc: 0.9376 - val_loss: 0.1402 - val_predictions_coarse_loss: 0.0562 - val_predictions_fine_loss: 0.2662 - val_predictions_coarse_acc: 0.9808 - val_predictions_fine_acc: 0.9055\n",
      "Epoch 12/50\n",
      "48000/48000 [==============================] - 3s 70us/step - loss: 0.0833 - predictions_coarse_loss: 0.0363 - predictions_fine_loss: 0.1537 - predictions_coarse_acc: 0.9880 - predictions_fine_acc: 0.9432 - val_loss: 0.1406 - val_predictions_coarse_loss: 0.0596 - val_predictions_fine_loss: 0.2620 - val_predictions_coarse_acc: 0.9810 - val_predictions_fine_acc: 0.9080\n",
      "Changing loss weights to: coarse = 0.20000000298023224, fine = 0.800000011920929\n",
      "Epoch 13/50\n",
      "48000/48000 [==============================] - 3s 70us/step - loss: 0.1336 - predictions_coarse_loss: 0.0357 - predictions_fine_loss: 0.1580 - predictions_coarse_acc: 0.9879 - predictions_fine_acc: 0.9408 - val_loss: 0.2352 - val_predictions_coarse_loss: 0.0697 - val_predictions_fine_loss: 0.2766 - val_predictions_coarse_acc: 0.9773 - val_predictions_fine_acc: 0.9034\n",
      "Epoch 14/50\n",
      "48000/48000 [==============================] - 3s 70us/step - loss: 0.1203 - predictions_coarse_loss: 0.0349 - predictions_fine_loss: 0.1417 - predictions_coarse_acc: 0.9881 - predictions_fine_acc: 0.9467 - val_loss: 0.2166 - val_predictions_coarse_loss: 0.0605 - val_predictions_fine_loss: 0.2556 - val_predictions_coarse_acc: 0.9800 - val_predictions_fine_acc: 0.9111\n",
      "Epoch 15/50\n",
      "48000/48000 [==============================] - 3s 69us/step - loss: 0.1057 - predictions_coarse_loss: 0.0331 - predictions_fine_loss: 0.1238 - predictions_coarse_acc: 0.9890 - predictions_fine_acc: 0.9535 - val_loss: 0.2210 - val_predictions_coarse_loss: 0.0755 - val_predictions_fine_loss: 0.2574 - val_predictions_coarse_acc: 0.9788 - val_predictions_fine_acc: 0.9141\n",
      "Epoch 16/50\n",
      "48000/48000 [==============================] - 3s 70us/step - loss: 0.0956 - predictions_coarse_loss: 0.0327 - predictions_fine_loss: 0.1114 - predictions_coarse_acc: 0.9894 - predictions_fine_acc: 0.9595 - val_loss: 0.2158 - val_predictions_coarse_loss: 0.0604 - val_predictions_fine_loss: 0.2547 - val_predictions_coarse_acc: 0.9798 - val_predictions_fine_acc: 0.9126\n",
      "Epoch 17/50\n",
      "48000/48000 [==============================] - 3s 70us/step - loss: 0.0843 - predictions_coarse_loss: 0.0311 - predictions_fine_loss: 0.0976 - predictions_coarse_acc: 0.9899 - predictions_fine_acc: 0.9637 - val_loss: 0.2835 - val_predictions_coarse_loss: 0.0654 - val_predictions_fine_loss: 0.3380 - val_predictions_coarse_acc: 0.9793 - val_predictions_fine_acc: 0.8936\n",
      "Epoch 18/50\n",
      "48000/48000 [==============================] - 3s 70us/step - loss: 0.0774 - predictions_coarse_loss: 0.0314 - predictions_fine_loss: 0.0889 - predictions_coarse_acc: 0.9893 - predictions_fine_acc: 0.9670 - val_loss: 0.2389 - val_predictions_coarse_loss: 0.0704 - val_predictions_fine_loss: 0.2810 - val_predictions_coarse_acc: 0.9782 - val_predictions_fine_acc: 0.9125\n",
      "\n",
      "Epoch 00018: ReduceLROnPlateau reducing learning rate to 0.0005000000237487257.\n",
      "Epoch 19/50\n",
      "48000/48000 [==============================] - 3s 70us/step - loss: 0.0621 - predictions_coarse_loss: 0.0279 - predictions_fine_loss: 0.0707 - predictions_coarse_acc: 0.9916 - predictions_fine_acc: 0.9755 - val_loss: 0.2192 - val_predictions_coarse_loss: 0.0631 - val_predictions_fine_loss: 0.2582 - val_predictions_coarse_acc: 0.9802 - val_predictions_fine_acc: 0.9207\n",
      "Epoch 20/50\n",
      "48000/48000 [==============================] - 3s 70us/step - loss: 0.0540 - predictions_coarse_loss: 0.0255 - predictions_fine_loss: 0.0611 - predictions_coarse_acc: 0.9919 - predictions_fine_acc: 0.9783 - val_loss: 0.2226 - val_predictions_coarse_loss: 0.0614 - val_predictions_fine_loss: 0.2630 - val_predictions_coarse_acc: 0.9792 - val_predictions_fine_acc: 0.9212\n",
      "Epoch 21/50\n",
      "48000/48000 [==============================] - 3s 70us/step - loss: 0.0511 - predictions_coarse_loss: 0.0250 - predictions_fine_loss: 0.0576 - predictions_coarse_acc: 0.9925 - predictions_fine_acc: 0.9799 - val_loss: 0.2214 - val_predictions_coarse_loss: 0.0582 - val_predictions_fine_loss: 0.2622 - val_predictions_coarse_acc: 0.9802 - val_predictions_fine_acc: 0.9198\n",
      "Epoch 22/50\n",
      "48000/48000 [==============================] - 3s 70us/step - loss: 0.0473 - predictions_coarse_loss: 0.0234 - predictions_fine_loss: 0.0533 - predictions_coarse_acc: 0.9931 - predictions_fine_acc: 0.9823 - val_loss: 0.2241 - val_predictions_coarse_loss: 0.0616 - val_predictions_fine_loss: 0.2647 - val_predictions_coarse_acc: 0.9794 - val_predictions_fine_acc: 0.9169\n",
      "Changing loss weights to: coarse = 0.0, fine = 1.0\n",
      "Epoch 23/50\n",
      "48000/48000 [==============================] - 3s 70us/step - loss: 0.0516 - predictions_coarse_loss: 0.0249 - predictions_fine_loss: 0.0516 - predictions_coarse_acc: 0.9924 - predictions_fine_acc: 0.9820 - val_loss: 0.2727 - val_predictions_coarse_loss: 0.0658 - val_predictions_fine_loss: 0.2727 - val_predictions_coarse_acc: 0.9801 - val_predictions_fine_acc: 0.9204\n",
      "Epoch 24/50\n",
      "48000/48000 [==============================] - 3s 70us/step - loss: 0.0484 - predictions_coarse_loss: 0.0248 - predictions_fine_loss: 0.0484 - predictions_coarse_acc: 0.9923 - predictions_fine_acc: 0.9834 - val_loss: 0.2714 - val_predictions_coarse_loss: 0.0620 - val_predictions_fine_loss: 0.2714 - val_predictions_coarse_acc: 0.9793 - val_predictions_fine_acc: 0.9174\n",
      "Epoch 25/50\n",
      "48000/48000 [==============================] - 3s 70us/step - loss: 0.0465 - predictions_coarse_loss: 0.0276 - predictions_fine_loss: 0.0465 - predictions_coarse_acc: 0.9915 - predictions_fine_acc: 0.9844 - val_loss: 0.2974 - val_predictions_coarse_loss: 0.0641 - val_predictions_fine_loss: 0.2974 - val_predictions_coarse_acc: 0.9787 - val_predictions_fine_acc: 0.9198\n",
      "Epoch 26/50\n",
      "48000/48000 [==============================] - 3s 69us/step - loss: 0.0430 - predictions_coarse_loss: 0.0264 - predictions_fine_loss: 0.0430 - predictions_coarse_acc: 0.9917 - predictions_fine_acc: 0.9857 - val_loss: 0.3179 - val_predictions_coarse_loss: 0.0650 - val_predictions_fine_loss: 0.3179 - val_predictions_coarse_acc: 0.9802 - val_predictions_fine_acc: 0.9116\n",
      "Epoch 27/50\n",
      "48000/48000 [==============================] - 3s 70us/step - loss: 0.0416 - predictions_coarse_loss: 0.0280 - predictions_fine_loss: 0.0416 - predictions_coarse_acc: 0.9919 - predictions_fine_acc: 0.9862 - val_loss: 0.2910 - val_predictions_coarse_loss: 0.0641 - val_predictions_fine_loss: 0.2910 - val_predictions_coarse_acc: 0.9789 - val_predictions_fine_acc: 0.9195\n",
      "Epoch 28/50\n",
      "48000/48000 [==============================] - 3s 70us/step - loss: 0.0380 - predictions_coarse_loss: 0.0282 - predictions_fine_loss: 0.0380 - predictions_coarse_acc: 0.9915 - predictions_fine_acc: 0.9878 - val_loss: 0.2993 - val_predictions_coarse_loss: 0.0689 - val_predictions_fine_loss: 0.2993 - val_predictions_coarse_acc: 0.9792 - val_predictions_fine_acc: 0.9193\n",
      "\n",
      "Epoch 00028: ReduceLROnPlateau reducing learning rate to 0.0002500000118743628.\n",
      "Epoch 29/50\n",
      "48000/48000 [==============================] - 3s 70us/step - loss: 0.0305 - predictions_coarse_loss: 0.0275 - predictions_fine_loss: 0.0305 - predictions_coarse_acc: 0.9918 - predictions_fine_acc: 0.9910 - val_loss: 0.2984 - val_predictions_coarse_loss: 0.0652 - val_predictions_fine_loss: 0.2984 - val_predictions_coarse_acc: 0.9794 - val_predictions_fine_acc: 0.9231\n",
      "Epoch 30/50\n",
      "48000/48000 [==============================] - 3s 70us/step - loss: 0.0279 - predictions_coarse_loss: 0.0266 - predictions_fine_loss: 0.0279 - predictions_coarse_acc: 0.9924 - predictions_fine_acc: 0.9918 - val_loss: 0.2957 - val_predictions_coarse_loss: 0.0641 - val_predictions_fine_loss: 0.2957 - val_predictions_coarse_acc: 0.9793 - val_predictions_fine_acc: 0.9225\n",
      "Epoch 31/50\n",
      "48000/48000 [==============================] - 3s 70us/step - loss: 0.0269 - predictions_coarse_loss: 0.0258 - predictions_fine_loss: 0.0269 - predictions_coarse_acc: 0.9925 - predictions_fine_acc: 0.9919 - val_loss: 0.3004 - val_predictions_coarse_loss: 0.0638 - val_predictions_fine_loss: 0.3004 - val_predictions_coarse_acc: 0.9792 - val_predictions_fine_acc: 0.9213\n",
      "Epoch 32/50\n",
      "48000/48000 [==============================] - 3s 69us/step - loss: 0.0261 - predictions_coarse_loss: 0.0273 - predictions_fine_loss: 0.0261 - predictions_coarse_acc: 0.9925 - predictions_fine_acc: 0.9921 - val_loss: 0.2989 - val_predictions_coarse_loss: 0.0628 - val_predictions_fine_loss: 0.2989 - val_predictions_coarse_acc: 0.9797 - val_predictions_fine_acc: 0.9226\n",
      "Epoch 33/50\n",
      "48000/48000 [==============================] - 3s 70us/step - loss: 0.0243 - predictions_coarse_loss: 0.0268 - predictions_fine_loss: 0.0243 - predictions_coarse_acc: 0.9922 - predictions_fine_acc: 0.9929 - val_loss: 0.3043 - val_predictions_coarse_loss: 0.0653 - val_predictions_fine_loss: 0.3043 - val_predictions_coarse_acc: 0.9789 - val_predictions_fine_acc: 0.9215\n",
      "Epoch 34/50\n",
      "48000/48000 [==============================] - 3s 70us/step - loss: 0.0240 - predictions_coarse_loss: 0.0268 - predictions_fine_loss: 0.0240 - predictions_coarse_acc: 0.9922 - predictions_fine_acc: 0.9931 - val_loss: 0.3078 - val_predictions_coarse_loss: 0.0686 - val_predictions_fine_loss: 0.3078 - val_predictions_coarse_acc: 0.9795 - val_predictions_fine_acc: 0.9220\n",
      "Epoch 35/50\n",
      "48000/48000 [==============================] - 3s 70us/step - loss: 0.0235 - predictions_coarse_loss: 0.0264 - predictions_fine_loss: 0.0235 - predictions_coarse_acc: 0.9925 - predictions_fine_acc: 0.9926 - val_loss: 0.3157 - val_predictions_coarse_loss: 0.0645 - val_predictions_fine_loss: 0.3157 - val_predictions_coarse_acc: 0.9797 - val_predictions_fine_acc: 0.9221\n",
      "Epoch 36/50\n",
      "48000/48000 [==============================] - 3s 70us/step - loss: 0.0223 - predictions_coarse_loss: 0.0266 - predictions_fine_loss: 0.0223 - predictions_coarse_acc: 0.9921 - predictions_fine_acc: 0.9940 - val_loss: 0.3127 - val_predictions_coarse_loss: 0.0636 - val_predictions_fine_loss: 0.3127 - val_predictions_coarse_acc: 0.9792 - val_predictions_fine_acc: 0.9225\n",
      "Epoch 37/50\n",
      "48000/48000 [==============================] - 3s 70us/step - loss: 0.0219 - predictions_coarse_loss: 0.0262 - predictions_fine_loss: 0.0219 - predictions_coarse_acc: 0.9927 - predictions_fine_acc: 0.9936 - val_loss: 0.3194 - val_predictions_coarse_loss: 0.0687 - val_predictions_fine_loss: 0.3194 - val_predictions_coarse_acc: 0.9797 - val_predictions_fine_acc: 0.9208\n",
      "Epoch 38/50\n",
      "48000/48000 [==============================] - 3s 70us/step - loss: 0.0203 - predictions_coarse_loss: 0.0273 - predictions_fine_loss: 0.0203 - predictions_coarse_acc: 0.9924 - predictions_fine_acc: 0.9947 - val_loss: 0.3240 - val_predictions_coarse_loss: 0.0650 - val_predictions_fine_loss: 0.3240 - val_predictions_coarse_acc: 0.9793 - val_predictions_fine_acc: 0.9215\n",
      "\n",
      "Epoch 00038: ReduceLROnPlateau reducing learning rate to 0.0001250000059371814.\n",
      "Epoch 39/50\n",
      "48000/48000 [==============================] - 3s 70us/step - loss: 0.0186 - predictions_coarse_loss: 0.0260 - predictions_fine_loss: 0.0186 - predictions_coarse_acc: 0.9926 - predictions_fine_acc: 0.9953 - val_loss: 0.3154 - val_predictions_coarse_loss: 0.0649 - val_predictions_fine_loss: 0.3154 - val_predictions_coarse_acc: 0.9792 - val_predictions_fine_acc: 0.9209\n",
      "Epoch 40/50\n",
      "48000/48000 [==============================] - 3s 70us/step - loss: 0.0181 - predictions_coarse_loss: 0.0253 - predictions_fine_loss: 0.0181 - predictions_coarse_acc: 0.9929 - predictions_fine_acc: 0.9950 - val_loss: 0.3270 - val_predictions_coarse_loss: 0.0657 - val_predictions_fine_loss: 0.3270 - val_predictions_coarse_acc: 0.9793 - val_predictions_fine_acc: 0.9193\n",
      "Epoch 41/50\n",
      "48000/48000 [==============================] - 3s 70us/step - loss: 0.0167 - predictions_coarse_loss: 0.0269 - predictions_fine_loss: 0.0167 - predictions_coarse_acc: 0.9924 - predictions_fine_acc: 0.9960 - val_loss: 0.3214 - val_predictions_coarse_loss: 0.0654 - val_predictions_fine_loss: 0.3214 - val_predictions_coarse_acc: 0.9797 - val_predictions_fine_acc: 0.9212\n",
      "Epoch 42/50\n",
      "48000/48000 [==============================] - 3s 70us/step - loss: 0.0157 - predictions_coarse_loss: 0.0265 - predictions_fine_loss: 0.0157 - predictions_coarse_acc: 0.9928 - predictions_fine_acc: 0.9963 - val_loss: 0.3297 - val_predictions_coarse_loss: 0.0654 - val_predictions_fine_loss: 0.3297 - val_predictions_coarse_acc: 0.9797 - val_predictions_fine_acc: 0.9220\n",
      "Epoch 43/50\n",
      "48000/48000 [==============================] - 3s 70us/step - loss: 0.0164 - predictions_coarse_loss: 0.0262 - predictions_fine_loss: 0.0164 - predictions_coarse_acc: 0.9925 - predictions_fine_acc: 0.9956 - val_loss: 0.3250 - val_predictions_coarse_loss: 0.0659 - val_predictions_fine_loss: 0.3250 - val_predictions_coarse_acc: 0.9794 - val_predictions_fine_acc: 0.9215\n",
      "Epoch 44/50\n",
      "48000/48000 [==============================] - 3s 70us/step - loss: 0.0162 - predictions_coarse_loss: 0.0271 - predictions_fine_loss: 0.0162 - predictions_coarse_acc: 0.9923 - predictions_fine_acc: 0.9956 - val_loss: 0.3348 - val_predictions_coarse_loss: 0.0665 - val_predictions_fine_loss: 0.3348 - val_predictions_coarse_acc: 0.9793 - val_predictions_fine_acc: 0.9208\n",
      "Epoch 45/50\n",
      "48000/48000 [==============================] - 3s 69us/step - loss: 0.0152 - predictions_coarse_loss: 0.0271 - predictions_fine_loss: 0.0152 - predictions_coarse_acc: 0.9920 - predictions_fine_acc: 0.9962 - val_loss: 0.3271 - val_predictions_coarse_loss: 0.0652 - val_predictions_fine_loss: 0.3271 - val_predictions_coarse_acc: 0.9793 - val_predictions_fine_acc: 0.9236\n",
      "Epoch 46/50\n",
      "48000/48000 [==============================] - 3s 69us/step - loss: 0.0157 - predictions_coarse_loss: 0.0266 - predictions_fine_loss: 0.0157 - predictions_coarse_acc: 0.9927 - predictions_fine_acc: 0.9959 - val_loss: 0.3286 - val_predictions_coarse_loss: 0.0669 - val_predictions_fine_loss: 0.3286 - val_predictions_coarse_acc: 0.9796 - val_predictions_fine_acc: 0.9214\n",
      "Epoch 47/50\n",
      "48000/48000 [==============================] - 3s 70us/step - loss: 0.0146 - predictions_coarse_loss: 0.0270 - predictions_fine_loss: 0.0146 - predictions_coarse_acc: 0.9925 - predictions_fine_acc: 0.9965 - val_loss: 0.3331 - val_predictions_coarse_loss: 0.0668 - val_predictions_fine_loss: 0.3331 - val_predictions_coarse_acc: 0.9795 - val_predictions_fine_acc: 0.9227\n",
      "Epoch 48/50\n",
      "48000/48000 [==============================] - 3s 70us/step - loss: 0.0151 - predictions_coarse_loss: 0.0265 - predictions_fine_loss: 0.0151 - predictions_coarse_acc: 0.9921 - predictions_fine_acc: 0.9963 - val_loss: 0.3382 - val_predictions_coarse_loss: 0.0678 - val_predictions_fine_loss: 0.3382 - val_predictions_coarse_acc: 0.9793 - val_predictions_fine_acc: 0.9218\n",
      "\n",
      "Epoch 00048: ReduceLROnPlateau reducing learning rate to 6.25000029685907e-05.\n",
      "Epoch 49/50\n",
      "48000/48000 [==============================] - 3s 70us/step - loss: 0.0142 - predictions_coarse_loss: 0.0256 - predictions_fine_loss: 0.0142 - predictions_coarse_acc: 0.9930 - predictions_fine_acc: 0.9966 - val_loss: 0.3312 - val_predictions_coarse_loss: 0.0671 - val_predictions_fine_loss: 0.3312 - val_predictions_coarse_acc: 0.9795 - val_predictions_fine_acc: 0.9232\n",
      "Epoch 50/50\n",
      "48000/48000 [==============================] - 3s 70us/step - loss: 0.0132 - predictions_coarse_loss: 0.0257 - predictions_fine_loss: 0.0132 - predictions_coarse_acc: 0.9930 - predictions_fine_acc: 0.9970 - val_loss: 0.3338 - val_predictions_coarse_loss: 0.0669 - val_predictions_fine_loss: 0.3338 - val_predictions_coarse_acc: 0.9790 - val_predictions_fine_acc: 0.9230\n"
     ]
    }
   ],
   "source": [
    "epochs = 50\n",
    "start_time = time()\n",
    "training = model.fit(train_features, [y_train_c_cat, y_train_cat],\n",
    "                     validation_data=(vali_features, [y_val_c_cat, y_val_cat]),\n",
    "                     epochs=epochs,\n",
    "                     batch_size=512, \n",
    "                     callbacks=cbks,\n",
    "                     verbose=1)\n",
    "training_time = time() - start_time"
   ]
  },
  {
   "cell_type": "code",
   "execution_count": 25,
   "metadata": {
    "colab": {
     "base_uri": "https://localhost:8080/",
     "height": 54
    },
    "colab_type": "code",
    "executionInfo": {
     "elapsed": 2579,
     "status": "ok",
     "timestamp": 1541990884380,
     "user": {
      "displayName": "Matheus Inoue",
      "photoUrl": "https://lh5.googleusercontent.com/-QAhMvjxDob8/AAAAAAAAAAI/AAAAAAAAAX0/8QKimNgmoYI/s64/photo.jpg",
      "userId": "15307514117626512886"
     },
     "user_tz": 120
    },
    "id": "GRo5c-7908O6",
    "outputId": "58242a29-4846-478b-e975-9c7aa4ef1ddf"
   },
   "outputs": [
    {
     "name": "stdout",
     "output_type": "stream",
     "text": [
      "10000/10000 [==============================] - 1s 145us/step\n"
     ]
    },
    {
     "data": {
      "text/plain": [
       "[0.37115275562927125, 0.08088710899380967, 0.37115275562927125, 0.9768, 0.9211]"
      ]
     },
     "execution_count": 25,
     "metadata": {
      "tags": []
     },
     "output_type": "execute_result"
    }
   ],
   "source": [
    "model.evaluate(test_features, [y_test_c_cat, y_test_cat])"
   ]
  },
  {
   "cell_type": "code",
   "execution_count": 26,
   "metadata": {
    "colab": {
     "base_uri": "https://localhost:8080/",
     "height": 1110
    },
    "colab_type": "code",
    "executionInfo": {
     "elapsed": 4665,
     "status": "error",
     "timestamp": 1541990915946,
     "user": {
      "displayName": "Matheus Inoue",
      "photoUrl": "https://lh5.googleusercontent.com/-QAhMvjxDob8/AAAAAAAAAAI/AAAAAAAAAX0/8QKimNgmoYI/s64/photo.jpg",
      "userId": "15307514117626512886"
     },
     "user_tz": 120
    },
    "id": "oERcl1M108PE",
    "outputId": "1e9d9483-2770-426d-998a-8ab1e9db8aa7"
   },
   "outputs": [
    {
     "ename": "TypeError",
     "evalue": "ignored",
     "output_type": "error",
     "traceback": [
      "\u001b[0;31m---------------------------------------------------------------------------\u001b[0m",
      "\u001b[0;31mTypeError\u001b[0m                                 Traceback (most recent call last)",
      "\u001b[0;32m<ipython-input-26-2c0e594890e5>\u001b[0m in \u001b[0;36m<module>\u001b[0;34m()\u001b[0m\n\u001b[0;32m----> 1\u001b[0;31m \u001b[0mmodel\u001b[0m\u001b[0;34m.\u001b[0m\u001b[0msave\u001b[0m\u001b[0;34m(\u001b[0m\u001b[0;34m'drive/TCC-ITAU/fashion-mnist/models/concat-net-simple.h5'\u001b[0m\u001b[0;34m)\u001b[0m\u001b[0;34m\u001b[0m\u001b[0m\n\u001b[0m",
      "\u001b[0;32m/usr/local/lib/python3.6/dist-packages/keras/engine/network.py\u001b[0m in \u001b[0;36msave\u001b[0;34m(self, filepath, overwrite, include_optimizer)\u001b[0m\n\u001b[1;32m   1088\u001b[0m             \u001b[0;32mraise\u001b[0m \u001b[0mNotImplementedError\u001b[0m\u001b[0;34m\u001b[0m\u001b[0m\n\u001b[1;32m   1089\u001b[0m         \u001b[0;32mfrom\u001b[0m \u001b[0;34m.\u001b[0m\u001b[0;34m.\u001b[0m\u001b[0mmodels\u001b[0m \u001b[0;32mimport\u001b[0m \u001b[0msave_model\u001b[0m\u001b[0;34m\u001b[0m\u001b[0m\n\u001b[0;32m-> 1090\u001b[0;31m         \u001b[0msave_model\u001b[0m\u001b[0;34m(\u001b[0m\u001b[0mself\u001b[0m\u001b[0;34m,\u001b[0m \u001b[0mfilepath\u001b[0m\u001b[0;34m,\u001b[0m \u001b[0moverwrite\u001b[0m\u001b[0;34m,\u001b[0m \u001b[0minclude_optimizer\u001b[0m\u001b[0;34m)\u001b[0m\u001b[0;34m\u001b[0m\u001b[0m\n\u001b[0m\u001b[1;32m   1091\u001b[0m \u001b[0;34m\u001b[0m\u001b[0m\n\u001b[1;32m   1092\u001b[0m     \u001b[0;32mdef\u001b[0m \u001b[0msave_weights\u001b[0m\u001b[0;34m(\u001b[0m\u001b[0mself\u001b[0m\u001b[0;34m,\u001b[0m \u001b[0mfilepath\u001b[0m\u001b[0;34m,\u001b[0m \u001b[0moverwrite\u001b[0m\u001b[0;34m=\u001b[0m\u001b[0;32mTrue\u001b[0m\u001b[0;34m)\u001b[0m\u001b[0;34m:\u001b[0m\u001b[0;34m\u001b[0m\u001b[0m\n",
      "\u001b[0;32m/usr/local/lib/python3.6/dist-packages/keras/engine/saving.py\u001b[0m in \u001b[0;36msave_model\u001b[0;34m(model, filepath, overwrite, include_optimizer)\u001b[0m\n\u001b[1;32m    380\u001b[0m \u001b[0;34m\u001b[0m\u001b[0m\n\u001b[1;32m    381\u001b[0m     \u001b[0;32mtry\u001b[0m\u001b[0;34m:\u001b[0m\u001b[0;34m\u001b[0m\u001b[0m\n\u001b[0;32m--> 382\u001b[0;31m         \u001b[0m_serialize_model\u001b[0m\u001b[0;34m(\u001b[0m\u001b[0mmodel\u001b[0m\u001b[0;34m,\u001b[0m \u001b[0mf\u001b[0m\u001b[0;34m,\u001b[0m \u001b[0minclude_optimizer\u001b[0m\u001b[0;34m)\u001b[0m\u001b[0;34m\u001b[0m\u001b[0m\n\u001b[0m\u001b[1;32m    383\u001b[0m     \u001b[0;32mfinally\u001b[0m\u001b[0;34m:\u001b[0m\u001b[0;34m\u001b[0m\u001b[0m\n\u001b[1;32m    384\u001b[0m         \u001b[0;32mif\u001b[0m \u001b[0mopened_new_file\u001b[0m\u001b[0;34m:\u001b[0m\u001b[0;34m\u001b[0m\u001b[0m\n",
      "\u001b[0;32m/usr/local/lib/python3.6/dist-packages/keras/engine/saving.py\u001b[0m in \u001b[0;36m_serialize_model\u001b[0;34m(model, f, include_optimizer)\u001b[0m\n\u001b[1;32m    136\u001b[0m                 \u001b[0;34m'sample_weight_mode'\u001b[0m\u001b[0;34m:\u001b[0m \u001b[0mmodel\u001b[0m\u001b[0;34m.\u001b[0m\u001b[0msample_weight_mode\u001b[0m\u001b[0;34m,\u001b[0m\u001b[0;34m\u001b[0m\u001b[0m\n\u001b[1;32m    137\u001b[0m                 \u001b[0;34m'loss_weights'\u001b[0m\u001b[0;34m:\u001b[0m \u001b[0mmodel\u001b[0m\u001b[0;34m.\u001b[0m\u001b[0mloss_weights\u001b[0m\u001b[0;34m,\u001b[0m\u001b[0;34m\u001b[0m\u001b[0m\n\u001b[0;32m--> 138\u001b[0;31m             }, default=get_json_type).encode('utf8')\n\u001b[0m\u001b[1;32m    139\u001b[0m             \u001b[0msymbolic_weights\u001b[0m \u001b[0;34m=\u001b[0m \u001b[0mgetattr\u001b[0m\u001b[0;34m(\u001b[0m\u001b[0mmodel\u001b[0m\u001b[0;34m.\u001b[0m\u001b[0moptimizer\u001b[0m\u001b[0;34m,\u001b[0m \u001b[0;34m'weights'\u001b[0m\u001b[0;34m)\u001b[0m\u001b[0;34m\u001b[0m\u001b[0m\n\u001b[1;32m    140\u001b[0m             \u001b[0;32mif\u001b[0m \u001b[0msymbolic_weights\u001b[0m\u001b[0;34m:\u001b[0m\u001b[0;34m\u001b[0m\u001b[0m\n",
      "\u001b[0;32m/usr/lib/python3.6/json/__init__.py\u001b[0m in \u001b[0;36mdumps\u001b[0;34m(obj, skipkeys, ensure_ascii, check_circular, allow_nan, cls, indent, separators, default, sort_keys, **kw)\u001b[0m\n\u001b[1;32m    236\u001b[0m         \u001b[0mcheck_circular\u001b[0m\u001b[0;34m=\u001b[0m\u001b[0mcheck_circular\u001b[0m\u001b[0;34m,\u001b[0m \u001b[0mallow_nan\u001b[0m\u001b[0;34m=\u001b[0m\u001b[0mallow_nan\u001b[0m\u001b[0;34m,\u001b[0m \u001b[0mindent\u001b[0m\u001b[0;34m=\u001b[0m\u001b[0mindent\u001b[0m\u001b[0;34m,\u001b[0m\u001b[0;34m\u001b[0m\u001b[0m\n\u001b[1;32m    237\u001b[0m         \u001b[0mseparators\u001b[0m\u001b[0;34m=\u001b[0m\u001b[0mseparators\u001b[0m\u001b[0;34m,\u001b[0m \u001b[0mdefault\u001b[0m\u001b[0;34m=\u001b[0m\u001b[0mdefault\u001b[0m\u001b[0;34m,\u001b[0m \u001b[0msort_keys\u001b[0m\u001b[0;34m=\u001b[0m\u001b[0msort_keys\u001b[0m\u001b[0;34m,\u001b[0m\u001b[0;34m\u001b[0m\u001b[0m\n\u001b[0;32m--> 238\u001b[0;31m         **kw).encode(obj)\n\u001b[0m\u001b[1;32m    239\u001b[0m \u001b[0;34m\u001b[0m\u001b[0m\n\u001b[1;32m    240\u001b[0m \u001b[0;34m\u001b[0m\u001b[0m\n",
      "\u001b[0;32m/usr/lib/python3.6/json/encoder.py\u001b[0m in \u001b[0;36mencode\u001b[0;34m(self, o)\u001b[0m\n\u001b[1;32m    197\u001b[0m         \u001b[0;31m# exceptions aren't as detailed.  The list call should be roughly\u001b[0m\u001b[0;34m\u001b[0m\u001b[0;34m\u001b[0m\u001b[0m\n\u001b[1;32m    198\u001b[0m         \u001b[0;31m# equivalent to the PySequence_Fast that ''.join() would do.\u001b[0m\u001b[0;34m\u001b[0m\u001b[0;34m\u001b[0m\u001b[0m\n\u001b[0;32m--> 199\u001b[0;31m         \u001b[0mchunks\u001b[0m \u001b[0;34m=\u001b[0m \u001b[0mself\u001b[0m\u001b[0;34m.\u001b[0m\u001b[0miterencode\u001b[0m\u001b[0;34m(\u001b[0m\u001b[0mo\u001b[0m\u001b[0;34m,\u001b[0m \u001b[0m_one_shot\u001b[0m\u001b[0;34m=\u001b[0m\u001b[0;32mTrue\u001b[0m\u001b[0;34m)\u001b[0m\u001b[0;34m\u001b[0m\u001b[0m\n\u001b[0m\u001b[1;32m    200\u001b[0m         \u001b[0;32mif\u001b[0m \u001b[0;32mnot\u001b[0m \u001b[0misinstance\u001b[0m\u001b[0;34m(\u001b[0m\u001b[0mchunks\u001b[0m\u001b[0;34m,\u001b[0m \u001b[0;34m(\u001b[0m\u001b[0mlist\u001b[0m\u001b[0;34m,\u001b[0m \u001b[0mtuple\u001b[0m\u001b[0;34m)\u001b[0m\u001b[0;34m)\u001b[0m\u001b[0;34m:\u001b[0m\u001b[0;34m\u001b[0m\u001b[0m\n\u001b[1;32m    201\u001b[0m             \u001b[0mchunks\u001b[0m \u001b[0;34m=\u001b[0m \u001b[0mlist\u001b[0m\u001b[0;34m(\u001b[0m\u001b[0mchunks\u001b[0m\u001b[0;34m)\u001b[0m\u001b[0;34m\u001b[0m\u001b[0m\n",
      "\u001b[0;32m/usr/lib/python3.6/json/encoder.py\u001b[0m in \u001b[0;36miterencode\u001b[0;34m(self, o, _one_shot)\u001b[0m\n\u001b[1;32m    255\u001b[0m                 \u001b[0mself\u001b[0m\u001b[0;34m.\u001b[0m\u001b[0mkey_separator\u001b[0m\u001b[0;34m,\u001b[0m \u001b[0mself\u001b[0m\u001b[0;34m.\u001b[0m\u001b[0mitem_separator\u001b[0m\u001b[0;34m,\u001b[0m \u001b[0mself\u001b[0m\u001b[0;34m.\u001b[0m\u001b[0msort_keys\u001b[0m\u001b[0;34m,\u001b[0m\u001b[0;34m\u001b[0m\u001b[0m\n\u001b[1;32m    256\u001b[0m                 self.skipkeys, _one_shot)\n\u001b[0;32m--> 257\u001b[0;31m         \u001b[0;32mreturn\u001b[0m \u001b[0m_iterencode\u001b[0m\u001b[0;34m(\u001b[0m\u001b[0mo\u001b[0m\u001b[0;34m,\u001b[0m \u001b[0;36m0\u001b[0m\u001b[0;34m)\u001b[0m\u001b[0;34m\u001b[0m\u001b[0m\n\u001b[0m\u001b[1;32m    258\u001b[0m \u001b[0;34m\u001b[0m\u001b[0m\n\u001b[1;32m    259\u001b[0m def _make_iterencode(markers, _default, _encoder, _indent, _floatstr,\n",
      "\u001b[0;32m/usr/local/lib/python3.6/dist-packages/keras/engine/saving.py\u001b[0m in \u001b[0;36mget_json_type\u001b[0;34m(obj)\u001b[0m\n\u001b[1;32m     72\u001b[0m             \u001b[0;32mreturn\u001b[0m \u001b[0mobj\u001b[0m\u001b[0;34m.\u001b[0m\u001b[0m__name__\u001b[0m\u001b[0;34m\u001b[0m\u001b[0m\n\u001b[1;32m     73\u001b[0m \u001b[0;34m\u001b[0m\u001b[0m\n\u001b[0;32m---> 74\u001b[0;31m         \u001b[0;32mraise\u001b[0m \u001b[0mTypeError\u001b[0m\u001b[0;34m(\u001b[0m\u001b[0;34m'Not JSON Serializable: %s'\u001b[0m \u001b[0;34m%\u001b[0m \u001b[0;34m(\u001b[0m\u001b[0mobj\u001b[0m\u001b[0;34m,\u001b[0m\u001b[0;34m)\u001b[0m\u001b[0;34m)\u001b[0m\u001b[0;34m\u001b[0m\u001b[0m\n\u001b[0m\u001b[1;32m     75\u001b[0m \u001b[0;34m\u001b[0m\u001b[0m\n\u001b[1;32m     76\u001b[0m     \u001b[0;32mfrom\u001b[0m \u001b[0;34m.\u001b[0m\u001b[0;34m.\u001b[0m \u001b[0;32mimport\u001b[0m \u001b[0m__version__\u001b[0m \u001b[0;32mas\u001b[0m \u001b[0mkeras_version\u001b[0m\u001b[0;34m\u001b[0m\u001b[0m\n",
      "\u001b[0;31mTypeError\u001b[0m: Not JSON Serializable: <tf.Variable 'alpha_1:0' shape=() dtype=float32_ref>"
     ]
    }
   ],
   "source": [
    "model.save('drive/TCC-ITAU/fashion-mnist/models/concat-net-simple.h5')"
   ]
  },
  {
   "cell_type": "code",
   "execution_count": 27,
   "metadata": {
    "colab": {
     "base_uri": "https://localhost:8080/",
     "height": 36
    },
    "colab_type": "code",
    "executionInfo": {
     "elapsed": 1140,
     "status": "ok",
     "timestamp": 1541990920462,
     "user": {
      "displayName": "Matheus Inoue",
      "photoUrl": "https://lh5.googleusercontent.com/-QAhMvjxDob8/AAAAAAAAAAI/AAAAAAAAAX0/8QKimNgmoYI/s64/photo.jpg",
      "userId": "15307514117626512886"
     },
     "user_tz": 120
    },
    "id": "N-_JMywOZuMP",
    "outputId": "8c7ff7a9-5fd6-4d9a-d230-7d1205eed758"
   },
   "outputs": [
    {
     "data": {
      "text/plain": [
       "177.90673756599426"
      ]
     },
     "execution_count": 27,
     "metadata": {
      "tags": []
     },
     "output_type": "execute_result"
    }
   ],
   "source": [
    "training_time"
   ]
  },
  {
   "cell_type": "markdown",
   "metadata": {
    "colab_type": "text",
    "id": "IutWvEI108PK"
   },
   "source": []
  },
  {
   "cell_type": "code",
   "execution_count": null,
   "metadata": {
    "colab": {},
    "colab_type": "code",
    "id": "LB2ZaI1M08PM"
   },
   "outputs": [],
   "source": []
  }
 ],
 "metadata": {
  "accelerator": "GPU",
  "colab": {
   "collapsed_sections": [],
   "name": "concat-net-simple.ipynb",
   "provenance": [],
   "toc_visible": true,
   "version": "0.3.2"
  },
  "kernelspec": {
   "display_name": "Python [Anaconda3]",
   "language": "python",
   "name": "Python [Anaconda3]"
  },
  "language_info": {
   "codemirror_mode": {
    "name": "ipython",
    "version": 3
   },
   "file_extension": ".py",
   "mimetype": "text/x-python",
   "name": "python",
   "nbconvert_exporter": "python",
   "pygments_lexer": "ipython3",
   "version": "3.5.2"
  }
 },
 "nbformat": 4,
 "nbformat_minor": 2
}
