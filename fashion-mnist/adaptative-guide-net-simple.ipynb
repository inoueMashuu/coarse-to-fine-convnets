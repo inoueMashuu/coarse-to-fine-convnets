{
 "cells": [
  {
   "cell_type": "markdown",
   "metadata": {
    "colab_type": "text",
    "id": "yoBhUpUd08Mi"
   },
   "source": [
    "# Adaptative Guide-net simple"
   ]
  },
  {
   "cell_type": "code",
   "execution_count": null,
   "metadata": {
    "colab": {},
    "colab_type": "code",
    "id": "el8xmTzF1iXR"
   },
   "outputs": [],
   "source": [
    "!apt-get install -y -qq software-properties-common python-software-properties module-init-tools\n",
    "!add-apt-repository -y ppa:alessandro-strada/ppa 2>&1 > /dev/null\n",
    "!apt-get update -qq 2>&1 > /dev/null\n",
    "!apt-get -y install -qq google-drive-ocamlfuse fuse\n",
    "\n",
    "from google.colab import auth\n",
    "auth.authenticate_user()\n",
    "from oauth2client.client import GoogleCredentials\n",
    "creds = GoogleCredentials.get_application_default()\n",
    "import getpass\n",
    "\n",
    "!google-drive-ocamlfuse -headless -id={creds.client_id} -secret={creds.client_secret} < /dev/null 2>&1 | grep URL\n",
    "vcode = getpass.getpass()\n",
    "!echo {vcode} | google-drive-ocamlfuse -headless -id={creds.client_id} -secret={creds.client_secret}"
   ]
  },
  {
   "cell_type": "code",
   "execution_count": null,
   "metadata": {
    "colab": {},
    "colab_type": "code",
    "id": "qczo0o6518It"
   },
   "outputs": [],
   "source": [
    "!mkdir -p drive\n",
    "!google-drive-ocamlfuse drive"
   ]
  },
  {
   "cell_type": "code",
   "execution_count": 1,
   "metadata": {
    "colab": {
     "base_uri": "https://localhost:8080/",
     "height": 36
    },
    "colab_type": "code",
    "executionInfo": {
     "elapsed": 2278,
     "status": "ok",
     "timestamp": 1542376435115,
     "user": {
      "displayName": "Matheus Inoue",
      "photoUrl": "https://lh5.googleusercontent.com/-QAhMvjxDob8/AAAAAAAAAAI/AAAAAAAAAX0/8QKimNgmoYI/s64/photo.jpg",
      "userId": "15307514117626512886"
     },
     "user_tz": 120
    },
    "id": "mKK0QOj208Mp",
    "outputId": "87e9ee81-9b46-470f-8993-5966c5da3579"
   },
   "outputs": [
    {
     "name": "stderr",
     "output_type": "stream",
     "text": [
      "Using TensorFlow backend.\n"
     ]
    }
   ],
   "source": [
    "from time import time\n",
    "import os\n",
    "import gzip\n",
    "import numpy as np\n",
    "from keras.utils import np_utils\n",
    "\n",
    "import matplotlib.pyplot as plt"
   ]
  },
  {
   "cell_type": "code",
   "execution_count": null,
   "metadata": {
    "colab": {},
    "colab_type": "code",
    "id": "C-_SshSZ08M_"
   },
   "outputs": [],
   "source": [
    "def load_mnist(path, kind='train'):\n",
    "    import os\n",
    "    import gzip\n",
    "    import numpy as np\n",
    "\n",
    "    \"\"\"Load MNIST data from `path`\"\"\"\n",
    "    labels_path = os.path.join(path,\n",
    "                               '%s-labels-idx1-ubyte.gz'\n",
    "                               % kind)\n",
    "    images_path = os.path.join(path,\n",
    "                               '%s-images-idx3-ubyte.gz'\n",
    "                               % kind)\n",
    "\n",
    "    with gzip.open(labels_path, 'rb') as lbpath:\n",
    "        labels = np.frombuffer(lbpath.read(), dtype=np.uint8,\n",
    "                               offset=8)\n",
    "\n",
    "    with gzip.open(images_path, 'rb') as imgpath:\n",
    "        images = np.frombuffer(imgpath.read(), dtype=np.uint8,\n",
    "                               offset=16).reshape(len(labels), 784)\n",
    "\n",
    "    return images, labels"
   ]
  },
  {
   "cell_type": "code",
   "execution_count": null,
   "metadata": {
    "colab": {},
    "colab_type": "code",
    "id": "msDYHy7U08NH"
   },
   "outputs": [],
   "source": [
    "X_train, y_train = load_mnist('drive/TCC-ITAU/fashion-mnist/data/fashion', kind='train')\n",
    "X_test, y_test = load_mnist('drive/TCC-ITAU/fashion-mnist/data/fashion', kind='t10k')"
   ]
  },
  {
   "cell_type": "code",
   "execution_count": null,
   "metadata": {
    "colab": {},
    "colab_type": "code",
    "id": "5J6kyMJozMGs"
   },
   "outputs": [],
   "source": [
    "from sklearn.model_selection import train_test_split\n",
    "\n",
    "X_train, X_val, y_train, y_val = train_test_split(X_train, y_train, test_size=0.2, random_state=1974)"
   ]
  },
  {
   "cell_type": "code",
   "execution_count": null,
   "metadata": {
    "colab": {},
    "colab_type": "code",
    "id": "fmyVVJua08NU"
   },
   "outputs": [],
   "source": [
    "train_features = X_train.reshape(X_train.shape[0], 28, 28, 1)/255\n",
    "vali_features = X_val.reshape(X_val.shape[0], 28, 28, 1)/255\n",
    "test_features = X_test.reshape(X_test.shape[0], 28, 28, 1)/255\n",
    "\n",
    "y_train_cat = np_utils.to_categorical(y_train)\n",
    "y_val_cat = np_utils.to_categorical(y_val)\n",
    "y_test_cat = np_utils.to_categorical(y_test)"
   ]
  },
  {
   "cell_type": "markdown",
   "metadata": {
    "colab_type": "text",
    "id": "AGQ2N1Wlbj_T"
   },
   "source": [
    "## Coarse and Fine classe\n",
    "\n",
    "| Label | Fine | Coarse |\n",
    "| --- | --- | --- |\n",
    "| 0 | T-shirt/top | TOP |\n",
    "| 1 | Trouser | BOTTOM |\n",
    "| 2 | Pullover | TOP |\n",
    "| 3 | Dress |BODY |\n",
    "| 4 | Coat | TOP |\n",
    "| 5 | Sandal | FEET |\n",
    "| 6 | Shirt | TOP |\n",
    "| 7 | Sneaker | FEET |\n",
    "| 8 | Bag | ACCESSORY |\n",
    "| 9 | Ankle boot | FEET |"
   ]
  },
  {
   "cell_type": "code",
   "execution_count": null,
   "metadata": {
    "colab": {},
    "colab_type": "code",
    "id": "5khS0kJabnhB"
   },
   "outputs": [],
   "source": [
    "dict_coarse = {0: 0,\n",
    "              1: 1,\n",
    "              2: 0,\n",
    "              3: 2,\n",
    "              4: 0,\n",
    "              5: 3,\n",
    "              6: 0,\n",
    "              7: 3,\n",
    "              8: 4,\n",
    "              9: 3}\n",
    "\n",
    "y_train_coarse = np.vectorize(dict_coarse.get)(y_train)\n",
    "y_val_coarse = np.vectorize(dict_coarse.get)(y_val)\n",
    "y_test_coarse = np.vectorize(dict_coarse.get)(y_test)\n",
    "\n",
    "y_train_c_cat = np_utils.to_categorical(y_train_coarse)\n",
    "y_val_c_cat = np_utils.to_categorical(y_val_coarse)\n",
    "y_test_c_cat= np_utils.to_categorical(y_test_coarse)"
   ]
  },
  {
   "cell_type": "code",
   "execution_count": null,
   "metadata": {
    "colab": {},
    "colab_type": "code",
    "id": "IPotu_I008Nb"
   },
   "outputs": [],
   "source": [
    "import keras\n",
    "from keras.models import Model\n",
    "from keras.layers import Dense, Dropout, Activation, Flatten\n",
    "from keras.layers import Conv2D, MaxPooling2D, Input\n",
    "from keras import optimizers\n",
    "from keras.callbacks import TensorBoard, ReduceLROnPlateau, CSVLogger\n",
    "from keras.layers.normalization import BatchNormalization\n",
    "from keras.utils.data_utils import get_file\n",
    "from keras import backend as K"
   ]
  },
  {
   "cell_type": "code",
   "execution_count": null,
   "metadata": {
    "colab": {},
    "colab_type": "code",
    "id": "4WmiEyCezUqH"
   },
   "outputs": [],
   "source": [
    "class TimingCallback(keras.callbacks.Callback):\n",
    "    \n",
    "  def on_epoch_begin(self, epoch, logs={}):\n",
    "    self.starttime=time()\n",
    "  def on_epoch_end(self, epoch, logs={}):\n",
    "    logs['time_elapsed'] = (time()-self.starttime)"
   ]
  },
  {
   "cell_type": "code",
   "execution_count": null,
   "metadata": {
    "colab": {},
    "colab_type": "code",
    "id": "PrWrVZcubvCH"
   },
   "outputs": [],
   "source": [
    "class AdaptativeLossWeightsModifier2Vars(keras.callbacks.Callback):\n",
    "  def __init__(self, alpha, beta, decay_rate=0.5):\n",
    "    self.alpha = alpha\n",
    "    self.beta = beta\n",
    "    self.decay_rate = decay_rate\n",
    "  \n",
    "  def calculate_exponential(self, ratio, decay_rate, epoch):\n",
    "    return np.exp(-ratio*decay_rate*epoch)\n",
    "\n",
    "  def on_epoch_end(self, epoch, logs={}):\n",
    "    if epoch < 1:\n",
    "      pass\n",
    "    \n",
    "    else:\n",
    "      loss_coarse = self.model.history.history['predictions_coarse_loss'][-1]\n",
    "      loss_fine = self.model.history.history['predictions_fine_loss'][-1]\n",
    "      ratio = (loss_coarse/loss_fine) \n",
    "      decaying = self.calculate_exponential(ratio, self.decay_rate, epoch)\n",
    "        \n",
    "      K.set_value(self.alpha, decaying)\n",
    "      K.set_value(self.beta, 1 - decaying)\n",
    "      print('Changing loss weights to: coarse = {}, fine = {}'.format(K.eval(self.alpha), K.eval(self.beta)))  \n",
    "    \n",
    "    logs['alpha'] = K.eval(self.alpha)\n",
    "    logs['beta'] = K.eval(self.beta) "
   ]
  },
  {
   "cell_type": "code",
   "execution_count": null,
   "metadata": {
    "colab": {},
    "colab_type": "code",
    "id": "RwH3c8U508Ni"
   },
   "outputs": [],
   "source": [
    "img_rows, img_cols = 28, 28\n",
    "if K.image_data_format() == 'channels_first':\n",
    "    input_shape = (1, img_rows, img_cols)\n",
    "else:\n",
    "    input_shape = (img_rows, img_cols, 1)"
   ]
  },
  {
   "cell_type": "code",
   "execution_count": null,
   "metadata": {
    "colab": {},
    "colab_type": "code",
    "id": "t3ZoxUkg08No"
   },
   "outputs": [],
   "source": [
    "num_classes_coarse = 5\n",
    "num_classes_fine = 10\n",
    "\n",
    "img_input = Input(shape=input_shape, name='input')\n",
    "\n",
    "\n",
    "# coarse network\n",
    "coarse = Conv2D(32, (3, 3), activation='relu', name='coarse_block1_conv1')(img_input)\n",
    "coarse = MaxPooling2D((2, 2), name='coarse_block1_pool')(coarse)\n",
    "\n",
    "coarse = Conv2D(64, (3, 3), activation='relu', name='coarse_block1_conv2')(coarse)\n",
    "coarse = MaxPooling2D((2, 2), name='coarse_block2_pool')(coarse)\n",
    "\n",
    "\n",
    "coarse = Flatten(name='coarse_flatten')(coarse)\n",
    "coarse = Dense(128, name='coarse_fc_1')(coarse)\n",
    "coarse = BatchNormalization()(coarse)\n",
    "coarse = Activation('relu')(coarse)\n",
    "coarse = Dropout(0.5)(coarse)\n",
    "\n",
    "# fine network\n",
    "fine = Conv2D(32, (3, 3), activation='relu', name='block1_conv1')(img_input)\n",
    "fine = MaxPooling2D((2, 2), name='block1_pool')(fine)\n",
    "\n",
    "fine = Conv2D(64, (3, 3), activation='relu', name='block1_conv2')(fine)\n",
    "fine = MaxPooling2D((2, 2), name='block2_pool')(fine)\n",
    "\n",
    "\n",
    "fine = Flatten(name='flatten')(fine)\n",
    "fine = Dense(128, name='fc_1')(fine)\n",
    "fine = BatchNormalization()(fine)\n",
    "fine = Activation('relu')(fine)\n",
    "fine = Dropout(0.5)(fine)\n",
    "\n",
    "fine = keras.layers.concatenate([fine, coarse])\n",
    "\n",
    "coarse_pred = Dense(num_classes_coarse, activation='softmax', name='predictions_coarse')(coarse)\n",
    "fine_pred = Dense(num_classes_fine, activation='softmax', name='predictions_fine')(fine)"
   ]
  },
  {
   "cell_type": "code",
   "execution_count": null,
   "metadata": {
    "colab": {},
    "colab_type": "code",
    "id": "FM-yECFW08Nz"
   },
   "outputs": [],
   "source": [
    "model = Model(inputs=img_input, outputs=[coarse_pred, fine_pred], name='guide_net')"
   ]
  },
  {
   "cell_type": "code",
   "execution_count": 41,
   "metadata": {
    "colab": {
     "base_uri": "https://localhost:8080/",
     "height": 1009
    },
    "colab_type": "code",
    "executionInfo": {
     "elapsed": 460,
     "status": "ok",
     "timestamp": 1542377926279,
     "user": {
      "displayName": "Matheus Inoue",
      "photoUrl": "https://lh5.googleusercontent.com/-QAhMvjxDob8/AAAAAAAAAAI/AAAAAAAAAX0/8QKimNgmoYI/s64/photo.jpg",
      "userId": "15307514117626512886"
     },
     "user_tz": 120
    },
    "id": "-v0UFRE608OA",
    "outputId": "f8cfd779-ca5f-4222-b46f-93c42f6b1e04"
   },
   "outputs": [
    {
     "name": "stdout",
     "output_type": "stream",
     "text": [
      "__________________________________________________________________________________________________\n",
      "Layer (type)                    Output Shape         Param #     Connected to                     \n",
      "==================================================================================================\n",
      "input (InputLayer)              (None, 28, 28, 1)    0                                            \n",
      "__________________________________________________________________________________________________\n",
      "coarse_block1_conv1 (Conv2D)    (None, 26, 26, 32)   320         input[0][0]                      \n",
      "__________________________________________________________________________________________________\n",
      "block1_conv1 (Conv2D)           (None, 26, 26, 32)   320         input[0][0]                      \n",
      "__________________________________________________________________________________________________\n",
      "coarse_block1_pool (MaxPooling2 (None, 13, 13, 32)   0           coarse_block1_conv1[0][0]        \n",
      "__________________________________________________________________________________________________\n",
      "block1_pool (MaxPooling2D)      (None, 13, 13, 32)   0           block1_conv1[0][0]               \n",
      "__________________________________________________________________________________________________\n",
      "coarse_block1_conv2 (Conv2D)    (None, 11, 11, 64)   18496       coarse_block1_pool[0][0]         \n",
      "__________________________________________________________________________________________________\n",
      "block1_conv2 (Conv2D)           (None, 11, 11, 64)   18496       block1_pool[0][0]                \n",
      "__________________________________________________________________________________________________\n",
      "coarse_block2_pool (MaxPooling2 (None, 5, 5, 64)     0           coarse_block1_conv2[0][0]        \n",
      "__________________________________________________________________________________________________\n",
      "block2_pool (MaxPooling2D)      (None, 5, 5, 64)     0           block1_conv2[0][0]               \n",
      "__________________________________________________________________________________________________\n",
      "coarse_flatten (Flatten)        (None, 1600)         0           coarse_block2_pool[0][0]         \n",
      "__________________________________________________________________________________________________\n",
      "flatten (Flatten)               (None, 1600)         0           block2_pool[0][0]                \n",
      "__________________________________________________________________________________________________\n",
      "coarse_fc_1 (Dense)             (None, 128)          204928      coarse_flatten[0][0]             \n",
      "__________________________________________________________________________________________________\n",
      "fc_1 (Dense)                    (None, 128)          204928      flatten[0][0]                    \n",
      "__________________________________________________________________________________________________\n",
      "batch_normalization_9 (BatchNor (None, 128)          512         coarse_fc_1[0][0]                \n",
      "__________________________________________________________________________________________________\n",
      "batch_normalization_10 (BatchNo (None, 128)          512         fc_1[0][0]                       \n",
      "__________________________________________________________________________________________________\n",
      "activation_9 (Activation)       (None, 128)          0           batch_normalization_9[0][0]      \n",
      "__________________________________________________________________________________________________\n",
      "activation_10 (Activation)      (None, 128)          0           batch_normalization_10[0][0]     \n",
      "__________________________________________________________________________________________________\n",
      "dropout_9 (Dropout)             (None, 128)          0           activation_9[0][0]               \n",
      "__________________________________________________________________________________________________\n",
      "dropout_10 (Dropout)            (None, 128)          0           activation_10[0][0]              \n",
      "__________________________________________________________________________________________________\n",
      "concatenate_5 (Concatenate)     (None, 256)          0           dropout_10[0][0]                 \n",
      "                                                                 dropout_9[0][0]                  \n",
      "__________________________________________________________________________________________________\n",
      "predictions_coarse (Dense)      (None, 5)            645         dropout_9[0][0]                  \n",
      "__________________________________________________________________________________________________\n",
      "predictions_fine (Dense)        (None, 10)           2570        concatenate_5[0][0]              \n",
      "==================================================================================================\n",
      "Total params: 451,727\n",
      "Trainable params: 451,215\n",
      "Non-trainable params: 512\n",
      "__________________________________________________________________________________________________\n"
     ]
    }
   ],
   "source": [
    "model.summary()"
   ]
  },
  {
   "cell_type": "code",
   "execution_count": null,
   "metadata": {
    "colab": {},
    "colab_type": "code",
    "id": "GP_bMuNp08Ob"
   },
   "outputs": [],
   "source": [
    "alpha = K.variable(value=0.95, dtype=\"float32\", name=\"alpha\") # A1 in paper\n",
    "beta = K.variable(value=0.05, dtype=\"float32\", name=\"beta\") # A2 in paper\n",
    "\n",
    "model.compile(loss='categorical_crossentropy', \n",
    "              optimizer='adam', \n",
    "              loss_weights=[alpha, beta],\n",
    "              metrics=['accuracy'])"
   ]
  },
  {
   "cell_type": "code",
   "execution_count": null,
   "metadata": {
    "colab": {},
    "colab_type": "code",
    "id": "-nLwVGTv08Ol"
   },
   "outputs": [],
   "source": [
    "tb_cb = TensorBoard(log_dir='drive/TCC-ITAU/fashion-mnist/tensorboard/adaptative-guide-net-simple', histogram_freq=0)\n",
    "clr_cb = ReduceLROnPlateau(monitor='val_predictions_fine_loss', factor=0.5, patience=10, verbose=1)\n",
    "time_cb = TimingCallback()\n",
    "csv_cb = CSVLogger('drive/TCC-ITAU/fashion-mnist/training-data/guide-net/adaptative-guide-net-simple.csv', separator=',', append=False)\n",
    "change_lw = AdaptativeLossWeightsModifier2Vars(alpha, beta, decay_rate=0.4)\n",
    "\n",
    "cbks = [tb_cb, clr_cb, time_cb, change_lw, csv_cb]"
   ]
  },
  {
   "cell_type": "code",
   "execution_count": 44,
   "metadata": {
    "colab": {
     "base_uri": "https://localhost:8080/",
     "height": 2954
    },
    "colab_type": "code",
    "executionInfo": {
     "elapsed": 298140,
     "status": "ok",
     "timestamp": 1542378226157,
     "user": {
      "displayName": "Matheus Inoue",
      "photoUrl": "https://lh5.googleusercontent.com/-QAhMvjxDob8/AAAAAAAAAAI/AAAAAAAAAX0/8QKimNgmoYI/s64/photo.jpg",
      "userId": "15307514117626512886"
     },
     "user_tz": 120
    },
    "id": "RCE-Ly0V08Os",
    "outputId": "b40441ba-1777-433c-e63c-c523acbff407"
   },
   "outputs": [
    {
     "name": "stdout",
     "output_type": "stream",
     "text": [
      "Train on 48000 samples, validate on 12000 samples\n",
      "Epoch 1/50\n",
      "48000/48000 [==============================] - 7s 138us/step - loss: 0.2278 - predictions_coarse_loss: 0.2025 - predictions_fine_loss: 0.7074 - predictions_coarse_acc: 0.9339 - predictions_fine_acc: 0.7516 - val_loss: 0.1247 - val_predictions_coarse_loss: 0.1048 - val_predictions_fine_loss: 0.5027 - val_predictions_coarse_acc: 0.9681 - val_predictions_fine_acc: 0.8006\n",
      "Epoch 2/50\n",
      "48000/48000 [==============================] - 5s 111us/step - loss: 0.1129 - predictions_coarse_loss: 0.0985 - predictions_fine_loss: 0.3868 - predictions_coarse_acc: 0.9682 - predictions_fine_acc: 0.8602 - val_loss: 0.0943 - val_predictions_coarse_loss: 0.0814 - val_predictions_fine_loss: 0.3408 - val_predictions_coarse_acc: 0.9742 - val_predictions_fine_acc: 0.8771\n",
      "Changing loss weights to: coarse = 0.8917936682701111, fine = 0.1082063540816307\n",
      "Epoch 3/50\n",
      "48000/48000 [==============================] - 5s 112us/step - loss: 0.1079 - predictions_coarse_loss: 0.0817 - predictions_fine_loss: 0.3242 - predictions_coarse_acc: 0.9727 - predictions_fine_acc: 0.8828 - val_loss: 0.0965 - val_predictions_coarse_loss: 0.0704 - val_predictions_fine_loss: 0.3118 - val_predictions_coarse_acc: 0.9758 - val_predictions_fine_acc: 0.8811\n",
      "Changing loss weights to: coarse = 0.8156459331512451, fine = 0.1843540370464325\n",
      "Epoch 4/50\n",
      "48000/48000 [==============================] - 5s 113us/step - loss: 0.1099 - predictions_coarse_loss: 0.0710 - predictions_fine_loss: 0.2821 - predictions_coarse_acc: 0.9769 - predictions_fine_acc: 0.8966 - val_loss: 0.1108 - val_predictions_coarse_loss: 0.0718 - val_predictions_fine_loss: 0.2831 - val_predictions_coarse_acc: 0.9728 - val_predictions_fine_acc: 0.8908\n",
      "Changing loss weights to: coarse = 0.7390066981315613, fine = 0.2609933316707611\n",
      "Epoch 5/50\n",
      "48000/48000 [==============================] - 5s 114us/step - loss: 0.1094 - predictions_coarse_loss: 0.0614 - predictions_fine_loss: 0.2453 - predictions_coarse_acc: 0.9792 - predictions_fine_acc: 0.9100 - val_loss: 0.1219 - val_predictions_coarse_loss: 0.0677 - val_predictions_fine_loss: 0.2753 - val_predictions_coarse_acc: 0.9740 - val_predictions_fine_acc: 0.8976\n",
      "Changing loss weights to: coarse = 0.6684150695800781, fine = 0.3315849006175995\n",
      "Epoch 6/50\n",
      "48000/48000 [==============================] - 6s 115us/step - loss: 0.1101 - predictions_coarse_loss: 0.0543 - predictions_fine_loss: 0.2224 - predictions_coarse_acc: 0.9817 - predictions_fine_acc: 0.9170 - val_loss: 0.1310 - val_predictions_coarse_loss: 0.0613 - val_predictions_fine_loss: 0.2716 - val_predictions_coarse_acc: 0.9788 - val_predictions_fine_acc: 0.8966\n",
      "Changing loss weights to: coarse = 0.6062415242195129, fine = 0.39375847578048706\n",
      "Epoch 7/50\n",
      "48000/48000 [==============================] - 6s 116us/step - loss: 0.1101 - predictions_coarse_loss: 0.0494 - predictions_fine_loss: 0.2034 - predictions_coarse_acc: 0.9828 - predictions_fine_acc: 0.9241 - val_loss: 0.1460 - val_predictions_coarse_loss: 0.0745 - val_predictions_fine_loss: 0.2560 - val_predictions_coarse_acc: 0.9751 - val_predictions_fine_acc: 0.9098\n",
      "Changing loss weights to: coarse = 0.5564857721328735, fine = 0.44351422786712646\n",
      "Epoch 8/50\n",
      "48000/48000 [==============================] - 6s 115us/step - loss: 0.1053 - predictions_coarse_loss: 0.0449 - predictions_fine_loss: 0.1810 - predictions_coarse_acc: 0.9846 - predictions_fine_acc: 0.9343 - val_loss: 0.1437 - val_predictions_coarse_loss: 0.0565 - val_predictions_fine_loss: 0.2532 - val_predictions_coarse_acc: 0.9801 - val_predictions_fine_acc: 0.9079\n",
      "Changing loss weights to: coarse = 0.5064601898193359, fine = 0.4935397803783417\n",
      "Epoch 9/50\n",
      "48000/48000 [==============================] - 6s 115us/step - loss: 0.1031 - predictions_coarse_loss: 0.0405 - predictions_fine_loss: 0.1673 - predictions_coarse_acc: 0.9862 - predictions_fine_acc: 0.9379 - val_loss: 0.1687 - val_predictions_coarse_loss: 0.0659 - val_predictions_fine_loss: 0.2743 - val_predictions_coarse_acc: 0.9768 - val_predictions_fine_acc: 0.9006\n",
      "Changing loss weights to: coarse = 0.45218387246131897, fine = 0.5478160977363586\n",
      "Epoch 10/50\n",
      "48000/48000 [==============================] - 6s 119us/step - loss: 0.1008 - predictions_coarse_loss: 0.0381 - predictions_fine_loss: 0.1525 - predictions_coarse_acc: 0.9871 - predictions_fine_acc: 0.9430 - val_loss: 0.1636 - val_predictions_coarse_loss: 0.0552 - val_predictions_fine_loss: 0.2530 - val_predictions_coarse_acc: 0.9801 - val_predictions_fine_acc: 0.9104\n",
      "Changing loss weights to: coarse = 0.4179426431655884, fine = 0.5820573568344116\n",
      "Epoch 11/50\n",
      "48000/48000 [==============================] - 6s 119us/step - loss: 0.0964 - predictions_coarse_loss: 0.0343 - predictions_fine_loss: 0.1410 - predictions_coarse_acc: 0.9882 - predictions_fine_acc: 0.9477 - val_loss: 0.1641 - val_predictions_coarse_loss: 0.0564 - val_predictions_fine_loss: 0.2415 - val_predictions_coarse_acc: 0.9792 - val_predictions_fine_acc: 0.9143\n",
      "Changing loss weights to: coarse = 0.36819955706596375, fine = 0.6318004131317139\n",
      "Epoch 12/50\n",
      "48000/48000 [==============================] - 6s 120us/step - loss: 0.0976 - predictions_coarse_loss: 0.0322 - predictions_fine_loss: 0.1358 - predictions_coarse_acc: 0.9892 - predictions_fine_acc: 0.9477 - val_loss: 0.1851 - val_predictions_coarse_loss: 0.0628 - val_predictions_fine_loss: 0.2564 - val_predictions_coarse_acc: 0.9796 - val_predictions_fine_acc: 0.9102\n",
      "Changing loss weights to: coarse = 0.3431413769721985, fine = 0.6568586230278015\n",
      "Epoch 13/50\n",
      "48000/48000 [==============================] - 6s 115us/step - loss: 0.0880 - predictions_coarse_loss: 0.0297 - predictions_fine_loss: 0.1185 - predictions_coarse_acc: 0.9894 - predictions_fine_acc: 0.9556 - val_loss: 0.1877 - val_predictions_coarse_loss: 0.0598 - val_predictions_fine_loss: 0.2545 - val_predictions_coarse_acc: 0.9795 - val_predictions_fine_acc: 0.9073\n",
      "Changing loss weights to: coarse = 0.3205401599407196, fine = 0.6794598698616028\n",
      "Epoch 14/50\n",
      "48000/48000 [==============================] - 6s 115us/step - loss: 0.0830 - predictions_coarse_loss: 0.0285 - predictions_fine_loss: 0.1087 - predictions_coarse_acc: 0.9905 - predictions_fine_acc: 0.9593 - val_loss: 0.1995 - val_predictions_coarse_loss: 0.0555 - val_predictions_fine_loss: 0.2674 - val_predictions_coarse_acc: 0.9801 - val_predictions_fine_acc: 0.9102\n",
      "Changing loss weights to: coarse = 0.2711455821990967, fine = 0.7288544178009033\n",
      "Epoch 15/50\n",
      "48000/48000 [==============================] - 6s 115us/step - loss: 0.0816 - predictions_coarse_loss: 0.0264 - predictions_fine_loss: 0.1021 - predictions_coarse_acc: 0.9905 - predictions_fine_acc: 0.9628 - val_loss: 0.2115 - val_predictions_coarse_loss: 0.0617 - val_predictions_fine_loss: 0.2672 - val_predictions_coarse_acc: 0.9804 - val_predictions_fine_acc: 0.9162\n",
      "Changing loss weights to: coarse = 0.22987836599349976, fine = 0.7701216340065002\n",
      "Epoch 16/50\n",
      "48000/48000 [==============================] - 6s 116us/step - loss: 0.0772 - predictions_coarse_loss: 0.0262 - predictions_fine_loss: 0.0924 - predictions_coarse_acc: 0.9910 - predictions_fine_acc: 0.9661 - val_loss: 0.2398 - val_predictions_coarse_loss: 0.0598 - val_predictions_fine_loss: 0.2935 - val_predictions_coarse_acc: 0.9798 - val_predictions_fine_acc: 0.9111\n",
      "Changing loss weights to: coarse = 0.21162869036197662, fine = 0.7883713245391846\n",
      "Epoch 17/50\n",
      "48000/48000 [==============================] - 5s 114us/step - loss: 0.0734 - predictions_coarse_loss: 0.0246 - predictions_fine_loss: 0.0864 - predictions_coarse_acc: 0.9917 - predictions_fine_acc: 0.9680 - val_loss: 0.2470 - val_predictions_coarse_loss: 0.0841 - val_predictions_fine_loss: 0.2907 - val_predictions_coarse_acc: 0.9764 - val_predictions_fine_acc: 0.9120\n",
      "Changing loss weights to: coarse = 0.1627444475889206, fine = 0.8372555375099182\n",
      "Epoch 18/50\n",
      "48000/48000 [==============================] - 5s 113us/step - loss: 0.0683 - predictions_coarse_loss: 0.0223 - predictions_fine_loss: 0.0773 - predictions_coarse_acc: 0.9925 - predictions_fine_acc: 0.9717 - val_loss: 0.2725 - val_predictions_coarse_loss: 0.0738 - val_predictions_fine_loss: 0.3111 - val_predictions_coarse_acc: 0.9789 - val_predictions_fine_acc: 0.9110\n",
      "Changing loss weights to: coarse = 0.14406169950962067, fine = 0.8559383153915405\n",
      "Epoch 19/50\n",
      "48000/48000 [==============================] - 5s 114us/step - loss: 0.0690 - predictions_coarse_loss: 0.0227 - predictions_fine_loss: 0.0768 - predictions_coarse_acc: 0.9921 - predictions_fine_acc: 0.9716 - val_loss: 0.2798 - val_predictions_coarse_loss: 0.0770 - val_predictions_fine_loss: 0.3140 - val_predictions_coarse_acc: 0.9778 - val_predictions_fine_acc: 0.9088\n",
      "Changing loss weights to: coarse = 0.1256599873304367, fine = 0.8743399977684021\n",
      "Epoch 20/50\n",
      "48000/48000 [==============================] - 5s 113us/step - loss: 0.0627 - predictions_coarse_loss: 0.0227 - predictions_fine_loss: 0.0684 - predictions_coarse_acc: 0.9920 - predictions_fine_acc: 0.9754 - val_loss: 0.2732 - val_predictions_coarse_loss: 0.0753 - val_predictions_fine_loss: 0.3017 - val_predictions_coarse_acc: 0.9778 - val_predictions_fine_acc: 0.9117\n",
      "Changing loss weights to: coarse = 0.10565445572137833, fine = 0.8943455219268799\n",
      "Epoch 21/50\n",
      "48000/48000 [==============================] - 5s 114us/step - loss: 0.0618 - predictions_coarse_loss: 0.0215 - predictions_fine_loss: 0.0665 - predictions_coarse_acc: 0.9929 - predictions_fine_acc: 0.9753 - val_loss: 0.2799 - val_predictions_coarse_loss: 0.0616 - val_predictions_fine_loss: 0.3056 - val_predictions_coarse_acc: 0.9792 - val_predictions_fine_acc: 0.9076\n",
      "\n",
      "Epoch 00021: ReduceLROnPlateau reducing learning rate to 0.0005000000237487257.\n",
      "Changing loss weights to: coarse = 0.07047085464000702, fine = 0.9295291304588318\n",
      "Epoch 22/50\n",
      "48000/48000 [==============================] - 5s 114us/step - loss: 0.0433 - predictions_coarse_loss: 0.0169 - predictions_fine_loss: 0.0453 - predictions_coarse_acc: 0.9951 - predictions_fine_acc: 0.9840 - val_loss: 0.2598 - val_predictions_coarse_loss: 0.0651 - val_predictions_fine_loss: 0.2746 - val_predictions_coarse_acc: 0.9806 - val_predictions_fine_acc: 0.9203\n",
      "Changing loss weights to: coarse = 0.06585722416639328, fine = 0.9341427683830261\n",
      "Epoch 23/50\n",
      "48000/48000 [==============================] - 5s 113us/step - loss: 0.0375 - predictions_coarse_loss: 0.0160 - predictions_fine_loss: 0.0390 - predictions_coarse_acc: 0.9950 - predictions_fine_acc: 0.9872 - val_loss: 0.2690 - val_predictions_coarse_loss: 0.0637 - val_predictions_fine_loss: 0.2835 - val_predictions_coarse_acc: 0.9807 - val_predictions_fine_acc: 0.9201\n",
      "Changing loss weights to: coarse = 0.037540484219789505, fine = 0.9624595046043396\n",
      "Epoch 24/50\n",
      "48000/48000 [==============================] - 5s 113us/step - loss: 0.0354 - predictions_coarse_loss: 0.0146 - predictions_fine_loss: 0.0362 - predictions_coarse_acc: 0.9957 - predictions_fine_acc: 0.9878 - val_loss: 0.3136 - val_predictions_coarse_loss: 0.0600 - val_predictions_fine_loss: 0.3235 - val_predictions_coarse_acc: 0.9813 - val_predictions_fine_acc: 0.9164\n",
      "Changing loss weights to: coarse = 0.02327011525630951, fine = 0.9767298698425293\n",
      "Epoch 25/50\n",
      "48000/48000 [==============================] - 5s 113us/step - loss: 0.0334 - predictions_coarse_loss: 0.0139 - predictions_fine_loss: 0.0338 - predictions_coarse_acc: 0.9960 - predictions_fine_acc: 0.9891 - val_loss: 0.3056 - val_predictions_coarse_loss: 0.0610 - val_predictions_fine_loss: 0.3114 - val_predictions_coarse_acc: 0.9816 - val_predictions_fine_acc: 0.9188\n",
      "Changing loss weights to: coarse = 0.02064487151801586, fine = 0.9793551564216614\n",
      "Epoch 26/50\n",
      "48000/48000 [==============================] - 5s 113us/step - loss: 0.0301 - predictions_coarse_loss: 0.0137 - predictions_fine_loss: 0.0304 - predictions_coarse_acc: 0.9960 - predictions_fine_acc: 0.9905 - val_loss: 0.3370 - val_predictions_coarse_loss: 0.0670 - val_predictions_fine_loss: 0.3427 - val_predictions_coarse_acc: 0.9800 - val_predictions_fine_acc: 0.9158\n",
      "Changing loss weights to: coarse = 0.016598915681242943, fine = 0.9834010601043701\n",
      "Epoch 27/50\n",
      "48000/48000 [==============================] - 5s 111us/step - loss: 0.0280 - predictions_coarse_loss: 0.0141 - predictions_fine_loss: 0.0283 - predictions_coarse_acc: 0.9956 - predictions_fine_acc: 0.9908 - val_loss: 0.3279 - val_predictions_coarse_loss: 0.0735 - val_predictions_fine_loss: 0.3322 - val_predictions_coarse_acc: 0.9795 - val_predictions_fine_acc: 0.9159\n",
      "Changing loss weights to: coarse = 0.009202800691127777, fine = 0.990797221660614\n",
      "Epoch 28/50\n",
      "48000/48000 [==============================] - 5s 112us/step - loss: 0.0253 - predictions_coarse_loss: 0.0138 - predictions_fine_loss: 0.0254 - predictions_coarse_acc: 0.9959 - predictions_fine_acc: 0.9922 - val_loss: 0.3138 - val_predictions_coarse_loss: 0.0669 - val_predictions_fine_loss: 0.3161 - val_predictions_coarse_acc: 0.9796 - val_predictions_fine_acc: 0.9214\n",
      "Changing loss weights to: coarse = 0.004637386649847031, fine = 0.9953626394271851\n",
      "Epoch 29/50\n",
      "48000/48000 [==============================] - 5s 112us/step - loss: 0.0261 - predictions_coarse_loss: 0.0139 - predictions_fine_loss: 0.0261 - predictions_coarse_acc: 0.9958 - predictions_fine_acc: 0.9921 - val_loss: 0.3222 - val_predictions_coarse_loss: 0.0663 - val_predictions_fine_loss: 0.3234 - val_predictions_coarse_acc: 0.9802 - val_predictions_fine_acc: 0.9198\n",
      "Changing loss weights to: coarse = 0.002314502140507102, fine = 0.9976854920387268\n",
      "Epoch 30/50\n",
      "48000/48000 [==============================] - 5s 112us/step - loss: 0.0238 - predictions_coarse_loss: 0.0134 - predictions_fine_loss: 0.0238 - predictions_coarse_acc: 0.9962 - predictions_fine_acc: 0.9928 - val_loss: 0.3391 - val_predictions_coarse_loss: 0.0731 - val_predictions_fine_loss: 0.3397 - val_predictions_coarse_acc: 0.9763 - val_predictions_fine_acc: 0.9153\n",
      "Changing loss weights to: coarse = 0.002132077468559146, fine = 0.9978679418563843\n",
      "Epoch 31/50\n",
      "48000/48000 [==============================] - 5s 114us/step - loss: 0.0227 - predictions_coarse_loss: 0.0138 - predictions_fine_loss: 0.0228 - predictions_coarse_acc: 0.9958 - predictions_fine_acc: 0.9927 - val_loss: 0.3531 - val_predictions_coarse_loss: 0.0714 - val_predictions_fine_loss: 0.3537 - val_predictions_coarse_acc: 0.9775 - val_predictions_fine_acc: 0.9166\n",
      "\n",
      "Epoch 00031: ReduceLROnPlateau reducing learning rate to 0.0002500000118743628.\n",
      "Changing loss weights to: coarse = 0.0011653868714347482, fine = 0.9988346099853516\n",
      "Epoch 32/50\n",
      "48000/48000 [==============================] - 5s 113us/step - loss: 0.0193 - predictions_coarse_loss: 0.0130 - predictions_fine_loss: 0.0193 - predictions_coarse_acc: 0.9964 - predictions_fine_acc: 0.9945 - val_loss: 0.3200 - val_predictions_coarse_loss: 0.0670 - val_predictions_fine_loss: 0.3203 - val_predictions_coarse_acc: 0.9796 - val_predictions_fine_acc: 0.9202\n",
      "Changing loss weights to: coarse = 0.0005454308120533824, fine = 0.9994545578956604\n",
      "Epoch 33/50\n",
      "48000/48000 [==============================] - 5s 112us/step - loss: 0.0165 - predictions_coarse_loss: 0.0124 - predictions_fine_loss: 0.0165 - predictions_coarse_acc: 0.9965 - predictions_fine_acc: 0.9953 - val_loss: 0.3411 - val_predictions_coarse_loss: 0.0652 - val_predictions_fine_loss: 0.3413 - val_predictions_coarse_acc: 0.9795 - val_predictions_fine_acc: 0.9202\n",
      "Changing loss weights to: coarse = 0.0001831674890127033, fine = 0.9998168349266052\n",
      "Epoch 34/50\n",
      "48000/48000 [==============================] - 5s 111us/step - loss: 0.0160 - predictions_coarse_loss: 0.0121 - predictions_fine_loss: 0.0160 - predictions_coarse_acc: 0.9968 - predictions_fine_acc: 0.9959 - val_loss: 0.3498 - val_predictions_coarse_loss: 0.0695 - val_predictions_fine_loss: 0.3498 - val_predictions_coarse_acc: 0.9802 - val_predictions_fine_acc: 0.9192\n",
      "Changing loss weights to: coarse = 5.1906099542975426e-05, fine = 0.9999480843544006\n",
      "Epoch 35/50\n",
      "48000/48000 [==============================] - 5s 110us/step - loss: 0.0152 - predictions_coarse_loss: 0.0119 - predictions_fine_loss: 0.0152 - predictions_coarse_acc: 0.9968 - predictions_fine_acc: 0.9958 - val_loss: 0.3412 - val_predictions_coarse_loss: 0.0681 - val_predictions_fine_loss: 0.3412 - val_predictions_coarse_acc: 0.9795 - val_predictions_fine_acc: 0.9199\n",
      "Changing loss weights to: coarse = 3.547493543010205e-05, fine = 0.9999645352363586\n",
      "Epoch 36/50\n",
      "48000/48000 [==============================] - 5s 110us/step - loss: 0.0140 - predictions_coarse_loss: 0.0114 - predictions_fine_loss: 0.0140 - predictions_coarse_acc: 0.9968 - predictions_fine_acc: 0.9964 - val_loss: 0.3485 - val_predictions_coarse_loss: 0.0678 - val_predictions_fine_loss: 0.3485 - val_predictions_coarse_acc: 0.9804 - val_predictions_fine_acc: 0.9208\n",
      "Changing loss weights to: coarse = 1.7150561689049937e-05, fine = 0.9999828338623047\n",
      "Epoch 37/50\n",
      "48000/48000 [==============================] - 5s 110us/step - loss: 0.0140 - predictions_coarse_loss: 0.0118 - predictions_fine_loss: 0.0140 - predictions_coarse_acc: 0.9971 - predictions_fine_acc: 0.9964 - val_loss: 0.3342 - val_predictions_coarse_loss: 0.0660 - val_predictions_fine_loss: 0.3342 - val_predictions_coarse_acc: 0.9803 - val_predictions_fine_acc: 0.9199\n",
      "Changing loss weights to: coarse = 7.934887435112614e-06, fine = 0.9999920725822449\n",
      "Epoch 38/50\n",
      "48000/48000 [==============================] - 5s 113us/step - loss: 0.0129 - predictions_coarse_loss: 0.0112 - predictions_fine_loss: 0.0129 - predictions_coarse_acc: 0.9971 - predictions_fine_acc: 0.9970 - val_loss: 0.3483 - val_predictions_coarse_loss: 0.0691 - val_predictions_fine_loss: 0.3483 - val_predictions_coarse_acc: 0.9801 - val_predictions_fine_acc: 0.9195\n",
      "Changing loss weights to: coarse = 4.050078587169992e-06, fine = 0.9999959468841553\n",
      "Epoch 39/50\n",
      "48000/48000 [==============================] - 5s 111us/step - loss: 0.0129 - predictions_coarse_loss: 0.0116 - predictions_fine_loss: 0.0129 - predictions_coarse_acc: 0.9967 - predictions_fine_acc: 0.9968 - val_loss: 0.3561 - val_predictions_coarse_loss: 0.0668 - val_predictions_fine_loss: 0.3561 - val_predictions_coarse_acc: 0.9808 - val_predictions_fine_acc: 0.9197\n",
      "Changing loss weights to: coarse = 1.8199107216787525e-06, fine = 0.999998152256012\n",
      "Epoch 40/50\n",
      "48000/48000 [==============================] - 5s 111us/step - loss: 0.0131 - predictions_coarse_loss: 0.0115 - predictions_fine_loss: 0.0131 - predictions_coarse_acc: 0.9968 - predictions_fine_acc: 0.9967 - val_loss: 0.3596 - val_predictions_coarse_loss: 0.0689 - val_predictions_fine_loss: 0.3596 - val_predictions_coarse_acc: 0.9808 - val_predictions_fine_acc: 0.9202\n",
      "Changing loss weights to: coarse = 7.926011562631174e-07, fine = 0.9999992251396179\n",
      "Epoch 41/50\n",
      "48000/48000 [==============================] - 5s 110us/step - loss: 0.0131 - predictions_coarse_loss: 0.0118 - predictions_fine_loss: 0.0131 - predictions_coarse_acc: 0.9968 - predictions_fine_acc: 0.9962 - val_loss: 0.3574 - val_predictions_coarse_loss: 0.0675 - val_predictions_fine_loss: 0.3574 - val_predictions_coarse_acc: 0.9812 - val_predictions_fine_acc: 0.9211\n",
      "\n",
      "Epoch 00041: ReduceLROnPlateau reducing learning rate to 0.0001250000059371814.\n",
      "Changing loss weights to: coarse = 7.291721999536094e-07, fine = 0.9999992847442627\n",
      "Epoch 42/50\n",
      "48000/48000 [==============================] - 5s 109us/step - loss: 0.0115 - predictions_coarse_loss: 0.0113 - predictions_fine_loss: 0.0115 - predictions_coarse_acc: 0.9969 - predictions_fine_acc: 0.9973 - val_loss: 0.3515 - val_predictions_coarse_loss: 0.0690 - val_predictions_fine_loss: 0.3515 - val_predictions_coarse_acc: 0.9807 - val_predictions_fine_acc: 0.9227\n",
      "Changing loss weights to: coarse = 4.157683406447177e-07, fine = 0.9999995827674866\n",
      "Epoch 43/50\n",
      "48000/48000 [==============================] - 5s 111us/step - loss: 0.0103 - predictions_coarse_loss: 0.0112 - predictions_fine_loss: 0.0103 - predictions_coarse_acc: 0.9972 - predictions_fine_acc: 0.9976 - val_loss: 0.3572 - val_predictions_coarse_loss: 0.0662 - val_predictions_fine_loss: 0.3572 - val_predictions_coarse_acc: 0.9799 - val_predictions_fine_acc: 0.9221\n",
      "Changing loss weights to: coarse = 7.474548624486488e-08, fine = 0.9999999403953552\n",
      "Epoch 44/50\n",
      "48000/48000 [==============================] - 6s 115us/step - loss: 0.0103 - predictions_coarse_loss: 0.0108 - predictions_fine_loss: 0.0103 - predictions_coarse_acc: 0.9975 - predictions_fine_acc: 0.9979 - val_loss: 0.3572 - val_predictions_coarse_loss: 0.0687 - val_predictions_fine_loss: 0.3572 - val_predictions_coarse_acc: 0.9804 - val_predictions_fine_acc: 0.9222\n",
      "Changing loss weights to: coarse = 7.193598161592263e-09, fine = 1.0\n",
      "Epoch 45/50\n",
      "48000/48000 [==============================] - 6s 116us/step - loss: 0.0098 - predictions_coarse_loss: 0.0106 - predictions_fine_loss: 0.0098 - predictions_coarse_acc: 0.9971 - predictions_fine_acc: 0.9976 - val_loss: 0.3582 - val_predictions_coarse_loss: 0.0682 - val_predictions_fine_loss: 0.3582 - val_predictions_coarse_acc: 0.9805 - val_predictions_fine_acc: 0.9219\n",
      "Changing loss weights to: coarse = 9.39703070912401e-09, fine = 1.0\n",
      "Epoch 46/50\n",
      "48000/48000 [==============================] - 5s 114us/step - loss: 0.0097 - predictions_coarse_loss: 0.0102 - predictions_fine_loss: 0.0097 - predictions_coarse_acc: 0.9974 - predictions_fine_acc: 0.9978 - val_loss: 0.3580 - val_predictions_coarse_loss: 0.0675 - val_predictions_fine_loss: 0.3580 - val_predictions_coarse_acc: 0.9799 - val_predictions_fine_acc: 0.9216\n",
      "Changing loss weights to: coarse = 3.745398213794715e-09, fine = 1.0\n",
      "Epoch 47/50\n",
      "48000/48000 [==============================] - 6s 115us/step - loss: 0.0094 - predictions_coarse_loss: 0.0105 - predictions_fine_loss: 0.0094 - predictions_coarse_acc: 0.9974 - predictions_fine_acc: 0.9978 - val_loss: 0.3586 - val_predictions_coarse_loss: 0.0674 - val_predictions_fine_loss: 0.3586 - val_predictions_coarse_acc: 0.9802 - val_predictions_fine_acc: 0.9217\n",
      "Changing loss weights to: coarse = 4.193285718656625e-09, fine = 1.0\n",
      "Epoch 48/50\n",
      "48000/48000 [==============================] - 6s 118us/step - loss: 0.0084 - predictions_coarse_loss: 0.0101 - predictions_fine_loss: 0.0084 - predictions_coarse_acc: 0.9976 - predictions_fine_acc: 0.9980 - val_loss: 0.3679 - val_predictions_coarse_loss: 0.0667 - val_predictions_fine_loss: 0.3679 - val_predictions_coarse_acc: 0.9803 - val_predictions_fine_acc: 0.9207\n",
      "Changing loss weights to: coarse = 6.695933252309771e-10, fine = 1.0\n",
      "Epoch 49/50\n",
      "48000/48000 [==============================] - 6s 117us/step - loss: 0.0088 - predictions_coarse_loss: 0.0108 - predictions_fine_loss: 0.0088 - predictions_coarse_acc: 0.9972 - predictions_fine_acc: 0.9980 - val_loss: 0.3681 - val_predictions_coarse_loss: 0.0680 - val_predictions_fine_loss: 0.3681 - val_predictions_coarse_acc: 0.9802 - val_predictions_fine_acc: 0.9209\n",
      "Changing loss weights to: coarse = 7.514889405202396e-11, fine = 1.0\n",
      "Epoch 50/50\n",
      "48000/48000 [==============================] - 5s 114us/step - loss: 0.0089 - predictions_coarse_loss: 0.0101 - predictions_fine_loss: 0.0089 - predictions_coarse_acc: 0.9974 - predictions_fine_acc: 0.9979 - val_loss: 0.3657 - val_predictions_coarse_loss: 0.0680 - val_predictions_fine_loss: 0.3657 - val_predictions_coarse_acc: 0.9801 - val_predictions_fine_acc: 0.9220\n",
      "Changing loss weights to: coarse = 3.626058828198886e-11, fine = 1.0\n"
     ]
    }
   ],
   "source": [
    "epochs = 50\n",
    "start_time = time()\n",
    "training = model.fit(train_features, [y_train_c_cat, y_train_cat],\n",
    "                     validation_data=(vali_features, [y_val_c_cat, y_val_cat]),\n",
    "                     epochs=epochs,\n",
    "                     batch_size=512, \n",
    "                     callbacks=cbks,\n",
    "                     verbose=1)\n",
    "training_time = time() - start_time"
   ]
  },
  {
   "cell_type": "code",
   "execution_count": 45,
   "metadata": {
    "colab": {
     "base_uri": "https://localhost:8080/",
     "height": 54
    },
    "colab_type": "code",
    "executionInfo": {
     "elapsed": 11284,
     "status": "ok",
     "timestamp": 1542378228426,
     "user": {
      "displayName": "Matheus Inoue",
      "photoUrl": "https://lh5.googleusercontent.com/-QAhMvjxDob8/AAAAAAAAAAI/AAAAAAAAAX0/8QKimNgmoYI/s64/photo.jpg",
      "userId": "15307514117626512886"
     },
     "user_tz": 120
    },
    "id": "GRo5c-7908O6",
    "outputId": "86db4463-269a-4fa9-9339-d02f0608658f"
   },
   "outputs": [
    {
     "name": "stdout",
     "output_type": "stream",
     "text": [
      "10000/10000 [==============================] - 2s 232us/step\n"
     ]
    },
    {
     "data": {
      "text/plain": [
       "[0.3989272073306143, 0.07910943483310985, 0.3989272073306143, 0.9782, 0.9193]"
      ]
     },
     "execution_count": 45,
     "metadata": {
      "tags": []
     },
     "output_type": "execute_result"
    }
   ],
   "source": [
    "model.evaluate(test_features, [y_test_c_cat, y_test_cat])"
   ]
  },
  {
   "cell_type": "code",
   "execution_count": 46,
   "metadata": {
    "colab": {
     "base_uri": "https://localhost:8080/",
     "height": 1110
    },
    "colab_type": "code",
    "executionInfo": {
     "elapsed": 5690,
     "status": "error",
     "timestamp": 1542378296703,
     "user": {
      "displayName": "Matheus Inoue",
      "photoUrl": "https://lh5.googleusercontent.com/-QAhMvjxDob8/AAAAAAAAAAI/AAAAAAAAAX0/8QKimNgmoYI/s64/photo.jpg",
      "userId": "15307514117626512886"
     },
     "user_tz": 120
    },
    "id": "oERcl1M108PE",
    "outputId": "5dbd0ca6-d8ae-4b97-cf48-9168a8416a30"
   },
   "outputs": [
    {
     "ename": "TypeError",
     "evalue": "ignored",
     "output_type": "error",
     "traceback": [
      "\u001b[0;31m---------------------------------------------------------------------------\u001b[0m",
      "\u001b[0;31mTypeError\u001b[0m                                 Traceback (most recent call last)",
      "\u001b[0;32m<ipython-input-46-cf4a6ee33db0>\u001b[0m in \u001b[0;36m<module>\u001b[0;34m()\u001b[0m\n\u001b[0;32m----> 1\u001b[0;31m \u001b[0mmodel\u001b[0m\u001b[0;34m.\u001b[0m\u001b[0msave\u001b[0m\u001b[0;34m(\u001b[0m\u001b[0;34m'drive/TCC-ITAU/fashion-mnist/models/adaptative-guide-net-simple.h5'\u001b[0m\u001b[0;34m)\u001b[0m\u001b[0;34m\u001b[0m\u001b[0m\n\u001b[0m",
      "\u001b[0;32m/usr/local/lib/python3.6/dist-packages/keras/engine/network.py\u001b[0m in \u001b[0;36msave\u001b[0;34m(self, filepath, overwrite, include_optimizer)\u001b[0m\n\u001b[1;32m   1088\u001b[0m             \u001b[0;32mraise\u001b[0m \u001b[0mNotImplementedError\u001b[0m\u001b[0;34m\u001b[0m\u001b[0m\n\u001b[1;32m   1089\u001b[0m         \u001b[0;32mfrom\u001b[0m \u001b[0;34m.\u001b[0m\u001b[0;34m.\u001b[0m\u001b[0mmodels\u001b[0m \u001b[0;32mimport\u001b[0m \u001b[0msave_model\u001b[0m\u001b[0;34m\u001b[0m\u001b[0m\n\u001b[0;32m-> 1090\u001b[0;31m         \u001b[0msave_model\u001b[0m\u001b[0;34m(\u001b[0m\u001b[0mself\u001b[0m\u001b[0;34m,\u001b[0m \u001b[0mfilepath\u001b[0m\u001b[0;34m,\u001b[0m \u001b[0moverwrite\u001b[0m\u001b[0;34m,\u001b[0m \u001b[0minclude_optimizer\u001b[0m\u001b[0;34m)\u001b[0m\u001b[0;34m\u001b[0m\u001b[0m\n\u001b[0m\u001b[1;32m   1091\u001b[0m \u001b[0;34m\u001b[0m\u001b[0m\n\u001b[1;32m   1092\u001b[0m     \u001b[0;32mdef\u001b[0m \u001b[0msave_weights\u001b[0m\u001b[0;34m(\u001b[0m\u001b[0mself\u001b[0m\u001b[0;34m,\u001b[0m \u001b[0mfilepath\u001b[0m\u001b[0;34m,\u001b[0m \u001b[0moverwrite\u001b[0m\u001b[0;34m=\u001b[0m\u001b[0;32mTrue\u001b[0m\u001b[0;34m)\u001b[0m\u001b[0;34m:\u001b[0m\u001b[0;34m\u001b[0m\u001b[0m\n",
      "\u001b[0;32m/usr/local/lib/python3.6/dist-packages/keras/engine/saving.py\u001b[0m in \u001b[0;36msave_model\u001b[0;34m(model, filepath, overwrite, include_optimizer)\u001b[0m\n\u001b[1;32m    380\u001b[0m \u001b[0;34m\u001b[0m\u001b[0m\n\u001b[1;32m    381\u001b[0m     \u001b[0;32mtry\u001b[0m\u001b[0;34m:\u001b[0m\u001b[0;34m\u001b[0m\u001b[0m\n\u001b[0;32m--> 382\u001b[0;31m         \u001b[0m_serialize_model\u001b[0m\u001b[0;34m(\u001b[0m\u001b[0mmodel\u001b[0m\u001b[0;34m,\u001b[0m \u001b[0mf\u001b[0m\u001b[0;34m,\u001b[0m \u001b[0minclude_optimizer\u001b[0m\u001b[0;34m)\u001b[0m\u001b[0;34m\u001b[0m\u001b[0m\n\u001b[0m\u001b[1;32m    383\u001b[0m     \u001b[0;32mfinally\u001b[0m\u001b[0;34m:\u001b[0m\u001b[0;34m\u001b[0m\u001b[0m\n\u001b[1;32m    384\u001b[0m         \u001b[0;32mif\u001b[0m \u001b[0mopened_new_file\u001b[0m\u001b[0;34m:\u001b[0m\u001b[0;34m\u001b[0m\u001b[0m\n",
      "\u001b[0;32m/usr/local/lib/python3.6/dist-packages/keras/engine/saving.py\u001b[0m in \u001b[0;36m_serialize_model\u001b[0;34m(model, f, include_optimizer)\u001b[0m\n\u001b[1;32m    136\u001b[0m                 \u001b[0;34m'sample_weight_mode'\u001b[0m\u001b[0;34m:\u001b[0m \u001b[0mmodel\u001b[0m\u001b[0;34m.\u001b[0m\u001b[0msample_weight_mode\u001b[0m\u001b[0;34m,\u001b[0m\u001b[0;34m\u001b[0m\u001b[0m\n\u001b[1;32m    137\u001b[0m                 \u001b[0;34m'loss_weights'\u001b[0m\u001b[0;34m:\u001b[0m \u001b[0mmodel\u001b[0m\u001b[0;34m.\u001b[0m\u001b[0mloss_weights\u001b[0m\u001b[0;34m,\u001b[0m\u001b[0;34m\u001b[0m\u001b[0m\n\u001b[0;32m--> 138\u001b[0;31m             }, default=get_json_type).encode('utf8')\n\u001b[0m\u001b[1;32m    139\u001b[0m             \u001b[0msymbolic_weights\u001b[0m \u001b[0;34m=\u001b[0m \u001b[0mgetattr\u001b[0m\u001b[0;34m(\u001b[0m\u001b[0mmodel\u001b[0m\u001b[0;34m.\u001b[0m\u001b[0moptimizer\u001b[0m\u001b[0;34m,\u001b[0m \u001b[0;34m'weights'\u001b[0m\u001b[0;34m)\u001b[0m\u001b[0;34m\u001b[0m\u001b[0m\n\u001b[1;32m    140\u001b[0m             \u001b[0;32mif\u001b[0m \u001b[0msymbolic_weights\u001b[0m\u001b[0;34m:\u001b[0m\u001b[0;34m\u001b[0m\u001b[0m\n",
      "\u001b[0;32m/usr/lib/python3.6/json/__init__.py\u001b[0m in \u001b[0;36mdumps\u001b[0;34m(obj, skipkeys, ensure_ascii, check_circular, allow_nan, cls, indent, separators, default, sort_keys, **kw)\u001b[0m\n\u001b[1;32m    236\u001b[0m         \u001b[0mcheck_circular\u001b[0m\u001b[0;34m=\u001b[0m\u001b[0mcheck_circular\u001b[0m\u001b[0;34m,\u001b[0m \u001b[0mallow_nan\u001b[0m\u001b[0;34m=\u001b[0m\u001b[0mallow_nan\u001b[0m\u001b[0;34m,\u001b[0m \u001b[0mindent\u001b[0m\u001b[0;34m=\u001b[0m\u001b[0mindent\u001b[0m\u001b[0;34m,\u001b[0m\u001b[0;34m\u001b[0m\u001b[0m\n\u001b[1;32m    237\u001b[0m         \u001b[0mseparators\u001b[0m\u001b[0;34m=\u001b[0m\u001b[0mseparators\u001b[0m\u001b[0;34m,\u001b[0m \u001b[0mdefault\u001b[0m\u001b[0;34m=\u001b[0m\u001b[0mdefault\u001b[0m\u001b[0;34m,\u001b[0m \u001b[0msort_keys\u001b[0m\u001b[0;34m=\u001b[0m\u001b[0msort_keys\u001b[0m\u001b[0;34m,\u001b[0m\u001b[0;34m\u001b[0m\u001b[0m\n\u001b[0;32m--> 238\u001b[0;31m         **kw).encode(obj)\n\u001b[0m\u001b[1;32m    239\u001b[0m \u001b[0;34m\u001b[0m\u001b[0m\n\u001b[1;32m    240\u001b[0m \u001b[0;34m\u001b[0m\u001b[0m\n",
      "\u001b[0;32m/usr/lib/python3.6/json/encoder.py\u001b[0m in \u001b[0;36mencode\u001b[0;34m(self, o)\u001b[0m\n\u001b[1;32m    197\u001b[0m         \u001b[0;31m# exceptions aren't as detailed.  The list call should be roughly\u001b[0m\u001b[0;34m\u001b[0m\u001b[0;34m\u001b[0m\u001b[0m\n\u001b[1;32m    198\u001b[0m         \u001b[0;31m# equivalent to the PySequence_Fast that ''.join() would do.\u001b[0m\u001b[0;34m\u001b[0m\u001b[0;34m\u001b[0m\u001b[0m\n\u001b[0;32m--> 199\u001b[0;31m         \u001b[0mchunks\u001b[0m \u001b[0;34m=\u001b[0m \u001b[0mself\u001b[0m\u001b[0;34m.\u001b[0m\u001b[0miterencode\u001b[0m\u001b[0;34m(\u001b[0m\u001b[0mo\u001b[0m\u001b[0;34m,\u001b[0m \u001b[0m_one_shot\u001b[0m\u001b[0;34m=\u001b[0m\u001b[0;32mTrue\u001b[0m\u001b[0;34m)\u001b[0m\u001b[0;34m\u001b[0m\u001b[0m\n\u001b[0m\u001b[1;32m    200\u001b[0m         \u001b[0;32mif\u001b[0m \u001b[0;32mnot\u001b[0m \u001b[0misinstance\u001b[0m\u001b[0;34m(\u001b[0m\u001b[0mchunks\u001b[0m\u001b[0;34m,\u001b[0m \u001b[0;34m(\u001b[0m\u001b[0mlist\u001b[0m\u001b[0;34m,\u001b[0m \u001b[0mtuple\u001b[0m\u001b[0;34m)\u001b[0m\u001b[0;34m)\u001b[0m\u001b[0;34m:\u001b[0m\u001b[0;34m\u001b[0m\u001b[0m\n\u001b[1;32m    201\u001b[0m             \u001b[0mchunks\u001b[0m \u001b[0;34m=\u001b[0m \u001b[0mlist\u001b[0m\u001b[0;34m(\u001b[0m\u001b[0mchunks\u001b[0m\u001b[0;34m)\u001b[0m\u001b[0;34m\u001b[0m\u001b[0m\n",
      "\u001b[0;32m/usr/lib/python3.6/json/encoder.py\u001b[0m in \u001b[0;36miterencode\u001b[0;34m(self, o, _one_shot)\u001b[0m\n\u001b[1;32m    255\u001b[0m                 \u001b[0mself\u001b[0m\u001b[0;34m.\u001b[0m\u001b[0mkey_separator\u001b[0m\u001b[0;34m,\u001b[0m \u001b[0mself\u001b[0m\u001b[0;34m.\u001b[0m\u001b[0mitem_separator\u001b[0m\u001b[0;34m,\u001b[0m \u001b[0mself\u001b[0m\u001b[0;34m.\u001b[0m\u001b[0msort_keys\u001b[0m\u001b[0;34m,\u001b[0m\u001b[0;34m\u001b[0m\u001b[0m\n\u001b[1;32m    256\u001b[0m                 self.skipkeys, _one_shot)\n\u001b[0;32m--> 257\u001b[0;31m         \u001b[0;32mreturn\u001b[0m \u001b[0m_iterencode\u001b[0m\u001b[0;34m(\u001b[0m\u001b[0mo\u001b[0m\u001b[0;34m,\u001b[0m \u001b[0;36m0\u001b[0m\u001b[0;34m)\u001b[0m\u001b[0;34m\u001b[0m\u001b[0m\n\u001b[0m\u001b[1;32m    258\u001b[0m \u001b[0;34m\u001b[0m\u001b[0m\n\u001b[1;32m    259\u001b[0m def _make_iterencode(markers, _default, _encoder, _indent, _floatstr,\n",
      "\u001b[0;32m/usr/local/lib/python3.6/dist-packages/keras/engine/saving.py\u001b[0m in \u001b[0;36mget_json_type\u001b[0;34m(obj)\u001b[0m\n\u001b[1;32m     72\u001b[0m             \u001b[0;32mreturn\u001b[0m \u001b[0mobj\u001b[0m\u001b[0;34m.\u001b[0m\u001b[0m__name__\u001b[0m\u001b[0;34m\u001b[0m\u001b[0m\n\u001b[1;32m     73\u001b[0m \u001b[0;34m\u001b[0m\u001b[0m\n\u001b[0;32m---> 74\u001b[0;31m         \u001b[0;32mraise\u001b[0m \u001b[0mTypeError\u001b[0m\u001b[0;34m(\u001b[0m\u001b[0;34m'Not JSON Serializable: %s'\u001b[0m \u001b[0;34m%\u001b[0m \u001b[0;34m(\u001b[0m\u001b[0mobj\u001b[0m\u001b[0;34m,\u001b[0m\u001b[0;34m)\u001b[0m\u001b[0;34m)\u001b[0m\u001b[0;34m\u001b[0m\u001b[0m\n\u001b[0m\u001b[1;32m     75\u001b[0m \u001b[0;34m\u001b[0m\u001b[0m\n\u001b[1;32m     76\u001b[0m     \u001b[0;32mfrom\u001b[0m \u001b[0;34m.\u001b[0m\u001b[0;34m.\u001b[0m \u001b[0;32mimport\u001b[0m \u001b[0m__version__\u001b[0m \u001b[0;32mas\u001b[0m \u001b[0mkeras_version\u001b[0m\u001b[0;34m\u001b[0m\u001b[0m\n",
      "\u001b[0;31mTypeError\u001b[0m: Not JSON Serializable: <tf.Variable 'alpha_4:0' shape=() dtype=float32_ref>"
     ]
    }
   ],
   "source": [
    "model.save('drive/TCC-ITAU/fashion-mnist/models/adaptative-guide-net-simple.h5')"
   ]
  },
  {
   "cell_type": "code",
   "execution_count": 47,
   "metadata": {
    "colab": {
     "base_uri": "https://localhost:8080/",
     "height": 36
    },
    "colab_type": "code",
    "executionInfo": {
     "elapsed": 454,
     "status": "ok",
     "timestamp": 1542378299141,
     "user": {
      "displayName": "Matheus Inoue",
      "photoUrl": "https://lh5.googleusercontent.com/-QAhMvjxDob8/AAAAAAAAAAI/AAAAAAAAAX0/8QKimNgmoYI/s64/photo.jpg",
      "userId": "15307514117626512886"
     },
     "user_tz": 120
    },
    "id": "N-_JMywOZuMP",
    "outputId": "d5023c25-e3eb-471f-a766-6d41de646306"
   },
   "outputs": [
    {
     "data": {
      "text/plain": [
       "297.54555225372314"
      ]
     },
     "execution_count": 47,
     "metadata": {
      "tags": []
     },
     "output_type": "execute_result"
    }
   ],
   "source": [
    "training_time"
   ]
  },
  {
   "cell_type": "markdown",
   "metadata": {
    "colab_type": "text",
    "id": "IutWvEI108PK"
   },
   "source": []
  },
  {
   "cell_type": "code",
   "execution_count": null,
   "metadata": {
    "colab": {},
    "colab_type": "code",
    "id": "LB2ZaI1M08PM"
   },
   "outputs": [],
   "source": []
  }
 ],
 "metadata": {
  "accelerator": "GPU",
  "colab": {
   "collapsed_sections": [],
   "name": "adaptative-guide-net-simple.ipynb",
   "provenance": [],
   "toc_visible": true,
   "version": "0.3.2"
  },
  "kernelspec": {
   "display_name": "Python [Anaconda3]",
   "language": "python",
   "name": "Python [Anaconda3]"
  },
  "language_info": {
   "codemirror_mode": {
    "name": "ipython",
    "version": 3
   },
   "file_extension": ".py",
   "mimetype": "text/x-python",
   "name": "python",
   "nbconvert_exporter": "python",
   "pygments_lexer": "ipython3",
   "version": "3.5.2"
  }
 },
 "nbformat": 4,
 "nbformat_minor": 2
}
