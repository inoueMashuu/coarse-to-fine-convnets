{
 "cells": [
  {
   "cell_type": "markdown",
   "metadata": {
    "colab_type": "text",
    "id": "yoBhUpUd08Mi"
   },
   "source": [
    "# Split-baseline-net simple"
   ]
  },
  {
   "cell_type": "code",
   "execution_count": null,
   "metadata": {
    "colab": {},
    "colab_type": "code",
    "id": "el8xmTzF1iXR"
   },
   "outputs": [],
   "source": [
    "!apt-get install -y -qq software-properties-common python-software-properties module-init-tools\n",
    "!add-apt-repository -y ppa:alessandro-strada/ppa 2>&1 > /dev/null\n",
    "!apt-get update -qq 2>&1 > /dev/null\n",
    "!apt-get -y install -qq google-drive-ocamlfuse fuse\n",
    "\n",
    "from google.colab import auth\n",
    "auth.authenticate_user()\n",
    "from oauth2client.client import GoogleCredentials\n",
    "creds = GoogleCredentials.get_application_default()\n",
    "import getpass\n",
    "\n",
    "!google-drive-ocamlfuse -headless -id={creds.client_id} -secret={creds.client_secret} < /dev/null 2>&1 | grep URL\n",
    "vcode = getpass.getpass()\n",
    "!echo {vcode} | google-drive-ocamlfuse -headless -id={creds.client_id} -secret={creds.client_secret}"
   ]
  },
  {
   "cell_type": "code",
   "execution_count": null,
   "metadata": {
    "colab": {},
    "colab_type": "code",
    "id": "qczo0o6518It"
   },
   "outputs": [],
   "source": [
    "!mkdir -p drive\n",
    "!google-drive-ocamlfuse drive"
   ]
  },
  {
   "cell_type": "code",
   "execution_count": 1,
   "metadata": {
    "colab": {
     "base_uri": "https://localhost:8080/",
     "height": 36
    },
    "colab_type": "code",
    "executionInfo": {
     "elapsed": 2453,
     "status": "ok",
     "timestamp": 1541991531518,
     "user": {
      "displayName": "Matheus Inoue",
      "photoUrl": "https://lh5.googleusercontent.com/-QAhMvjxDob8/AAAAAAAAAAI/AAAAAAAAAX0/8QKimNgmoYI/s64/photo.jpg",
      "userId": "15307514117626512886"
     },
     "user_tz": 120
    },
    "id": "mKK0QOj208Mp",
    "outputId": "ca08f959-6ae5-46c1-c513-3b21dd32fd06"
   },
   "outputs": [
    {
     "name": "stderr",
     "output_type": "stream",
     "text": [
      "Using TensorFlow backend.\n"
     ]
    }
   ],
   "source": [
    "from time import time\n",
    "import os\n",
    "import gzip\n",
    "import numpy as np\n",
    "from keras.utils import np_utils\n",
    "\n",
    "import matplotlib.pyplot as plt"
   ]
  },
  {
   "cell_type": "code",
   "execution_count": null,
   "metadata": {
    "colab": {},
    "colab_type": "code",
    "id": "C-_SshSZ08M_"
   },
   "outputs": [],
   "source": [
    "def load_mnist(path, kind='train'):\n",
    "    import os\n",
    "    import gzip\n",
    "    import numpy as np\n",
    "\n",
    "    \"\"\"Load MNIST data from `path`\"\"\"\n",
    "    labels_path = os.path.join(path,\n",
    "                               '%s-labels-idx1-ubyte.gz'\n",
    "                               % kind)\n",
    "    images_path = os.path.join(path,\n",
    "                               '%s-images-idx3-ubyte.gz'\n",
    "                               % kind)\n",
    "\n",
    "    with gzip.open(labels_path, 'rb') as lbpath:\n",
    "        labels = np.frombuffer(lbpath.read(), dtype=np.uint8,\n",
    "                               offset=8)\n",
    "\n",
    "    with gzip.open(images_path, 'rb') as imgpath:\n",
    "        images = np.frombuffer(imgpath.read(), dtype=np.uint8,\n",
    "                               offset=16).reshape(len(labels), 784)\n",
    "\n",
    "    return images, labels"
   ]
  },
  {
   "cell_type": "code",
   "execution_count": null,
   "metadata": {
    "colab": {},
    "colab_type": "code",
    "id": "msDYHy7U08NH"
   },
   "outputs": [],
   "source": [
    "X_train, y_train = load_mnist('drive/TCC-ITAU/fashion-mnist/data/fashion', kind='train')\n",
    "X_test, y_test = load_mnist('drive/TCC-ITAU/fashion-mnist/data/fashion', kind='t10k')"
   ]
  },
  {
   "cell_type": "code",
   "execution_count": null,
   "metadata": {
    "colab": {},
    "colab_type": "code",
    "id": "70zhowf62-76"
   },
   "outputs": [],
   "source": [
    "from sklearn.model_selection import train_test_split\n",
    "\n",
    "X_train, X_val, y_train, y_val = train_test_split(X_train, y_train, test_size=0.2, random_state=1974)"
   ]
  },
  {
   "cell_type": "code",
   "execution_count": null,
   "metadata": {
    "colab": {},
    "colab_type": "code",
    "id": "fmyVVJua08NU"
   },
   "outputs": [],
   "source": [
    "train_features = X_train.reshape(X_train.shape[0], 28, 28, 1)/255\n",
    "vali_features = X_val.reshape(X_val.shape[0], 28, 28, 1)/255\n",
    "test_features = X_test.reshape(X_test.shape[0], 28, 28, 1)/255\n",
    "\n",
    "y_train_cat = np_utils.to_categorical(y_train)\n",
    "y_val_cat = np_utils.to_categorical(y_val)\n",
    "y_test_cat = np_utils.to_categorical(y_test)"
   ]
  },
  {
   "cell_type": "markdown",
   "metadata": {
    "colab_type": "text",
    "id": "AGQ2N1Wlbj_T"
   },
   "source": [
    "## Coarse and Fine classe\n",
    "\n",
    "| Label | Fine | Coarse |\n",
    "| --- | --- | --- |\n",
    "| 0 | T-shirt/top | TOP |\n",
    "| 1 | Trouser | BOTTOM |\n",
    "| 2 | Pullover | TOP |\n",
    "| 3 | Dress |BODY |\n",
    "| 4 | Coat | TOP |\n",
    "| 5 | Sandal | FEET |\n",
    "| 6 | Shirt | TOP |\n",
    "| 7 | Sneaker | FEET |\n",
    "| 8 | Bag | ACCESSORY |\n",
    "| 9 | Ankle boot | FEET |"
   ]
  },
  {
   "cell_type": "code",
   "execution_count": null,
   "metadata": {
    "colab": {},
    "colab_type": "code",
    "id": "5khS0kJabnhB"
   },
   "outputs": [],
   "source": [
    "dict_coarse = {0: 0,\n",
    "              1: 1,\n",
    "              2: 0,\n",
    "              3: 2,\n",
    "              4: 0,\n",
    "              5: 3,\n",
    "              6: 0,\n",
    "              7: 3,\n",
    "              8: 4,\n",
    "              9: 3}\n",
    "\n",
    "y_train_coarse = np.vectorize(dict_coarse.get)(y_train)\n",
    "y_val_coarse = np.vectorize(dict_coarse.get)(y_val)\n",
    "y_test_coarse = np.vectorize(dict_coarse.get)(y_test)\n",
    "\n",
    "y_train_c_cat = np_utils.to_categorical(y_train_coarse)\n",
    "y_val_c_cat = np_utils.to_categorical(y_val_coarse)\n",
    "y_test_c_cat= np_utils.to_categorical(y_test_coarse)"
   ]
  },
  {
   "cell_type": "code",
   "execution_count": null,
   "metadata": {
    "colab": {},
    "colab_type": "code",
    "id": "IPotu_I008Nb"
   },
   "outputs": [],
   "source": [
    "import keras\n",
    "from keras.models import Model\n",
    "from keras.layers import Dense, Dropout, Activation, Flatten\n",
    "from keras.layers import Conv2D, MaxPooling2D, Input\n",
    "from keras import optimizers\n",
    "from keras.callbacks import TensorBoard, ReduceLROnPlateau, CSVLogger\n",
    "from keras.layers.normalization import BatchNormalization\n",
    "from keras.utils.data_utils import get_file\n",
    "from keras import backend as K"
   ]
  },
  {
   "cell_type": "code",
   "execution_count": null,
   "metadata": {
    "colab": {},
    "colab_type": "code",
    "id": "PrWrVZcubvCH"
   },
   "outputs": [],
   "source": [
    "class LossWeightsModifier(keras.callbacks.Callback):\n",
    "  def __init__(self, alpha, beta):\n",
    "    self.alpha = alpha\n",
    "    self.beta = beta\n",
    "    \n",
    "  def on_epoch_end(self, epoch, logs={}):\n",
    "    if epoch == 7:\n",
    "      K.set_value(self.alpha, 0.6)\n",
    "      K.set_value(self.beta, 0.4)\n",
    "      print('Changing loss weights to: coarse = {}, fine = {}'.format(K.eval(self.alpha), K.eval(self.beta)))\n",
    "\n",
    "    if epoch == 11:\n",
    "      K.set_value(self.alpha, 0.2)\n",
    "      K.set_value(self.beta, 0.8)\n",
    "      print('Changing loss weights to: coarse = {}, fine = {}'.format(K.eval(self.alpha), K.eval(self.beta)))\n",
    "      \n",
    "    if epoch == 21:\n",
    "      K.set_value(self.alpha, 0)\n",
    "      K.set_value(self.beta, 1)\n",
    "      print('Changing loss weights to: coarse = {}, fine = {}'.format(K.eval(self.alpha), K.eval(self.beta)))\n",
    "      \n",
    "    logs['alpha'] = K.eval(self.alpha)\n",
    "    logs['beta'] = K.eval(self.beta)   "
   ]
  },
  {
   "cell_type": "code",
   "execution_count": null,
   "metadata": {
    "colab": {},
    "colab_type": "code",
    "id": "RwH3c8U508Ni"
   },
   "outputs": [],
   "source": [
    "img_rows, img_cols = 28, 28\n",
    "if K.image_data_format() == 'channels_first':\n",
    "    input_shape = (1, img_rows, img_cols)\n",
    "else:\n",
    "    input_shape = (img_rows, img_cols, 1)"
   ]
  },
  {
   "cell_type": "code",
   "execution_count": null,
   "metadata": {
    "colab": {},
    "colab_type": "code",
    "id": "t3ZoxUkg08No"
   },
   "outputs": [],
   "source": [
    "num_classes_coarse = 5\n",
    "num_classes_fine = 10\n",
    "\n",
    "img_input = Input(shape=input_shape, name='input')\n",
    "\n",
    "\n",
    "x = Conv2D(32, (3, 3), activation='relu', name='block1_conv1')(img_input)\n",
    "x = MaxPooling2D((2, 2), name='block1_pool')(x)\n",
    "\n",
    "x = Conv2D(64, (3, 3), activation='relu', name='block1_conv2')(x)\n",
    "x = MaxPooling2D((2, 2), name='block2_pool')(x)\n",
    "\n",
    "\n",
    "x = Flatten(name='flatten')(x)\n",
    "x = Dense(128, name='fc_1')(x)\n",
    "x = BatchNormalization()(x)\n",
    "x = Activation('relu')(x)\n",
    "x = Dropout(0.5)(x)\n",
    "\n",
    "coarse_pred = Dense(num_classes_coarse, activation='softmax', name='predictions_coarse')(x)\n",
    "fine_pred = Dense(num_classes_fine, activation='softmax', name='predictions_fine')(x)"
   ]
  },
  {
   "cell_type": "code",
   "execution_count": null,
   "metadata": {
    "colab": {},
    "colab_type": "code",
    "id": "FM-yECFW08Nz"
   },
   "outputs": [],
   "source": [
    "model = Model(inputs=img_input, outputs=[coarse_pred, fine_pred], name='split_baseline_net')"
   ]
  },
  {
   "cell_type": "code",
   "execution_count": 12,
   "metadata": {
    "colab": {
     "base_uri": "https://localhost:8080/",
     "height": 617
    },
    "colab_type": "code",
    "executionInfo": {
     "elapsed": 1229,
     "status": "ok",
     "timestamp": 1541991607561,
     "user": {
      "displayName": "Matheus Inoue",
      "photoUrl": "https://lh5.googleusercontent.com/-QAhMvjxDob8/AAAAAAAAAAI/AAAAAAAAAX0/8QKimNgmoYI/s64/photo.jpg",
      "userId": "15307514117626512886"
     },
     "user_tz": 120
    },
    "id": "-v0UFRE608OA",
    "outputId": "371b5e5b-4144-404f-d4f7-cd449ee9630b"
   },
   "outputs": [
    {
     "name": "stdout",
     "output_type": "stream",
     "text": [
      "__________________________________________________________________________________________________\n",
      "Layer (type)                    Output Shape         Param #     Connected to                     \n",
      "==================================================================================================\n",
      "input (InputLayer)              (None, 28, 28, 1)    0                                            \n",
      "__________________________________________________________________________________________________\n",
      "block1_conv1 (Conv2D)           (None, 26, 26, 32)   320         input[0][0]                      \n",
      "__________________________________________________________________________________________________\n",
      "block1_pool (MaxPooling2D)      (None, 13, 13, 32)   0           block1_conv1[0][0]               \n",
      "__________________________________________________________________________________________________\n",
      "block1_conv2 (Conv2D)           (None, 11, 11, 64)   18496       block1_pool[0][0]                \n",
      "__________________________________________________________________________________________________\n",
      "block2_pool (MaxPooling2D)      (None, 5, 5, 64)     0           block1_conv2[0][0]               \n",
      "__________________________________________________________________________________________________\n",
      "flatten (Flatten)               (None, 1600)         0           block2_pool[0][0]                \n",
      "__________________________________________________________________________________________________\n",
      "fc_1 (Dense)                    (None, 128)          204928      flatten[0][0]                    \n",
      "__________________________________________________________________________________________________\n",
      "batch_normalization_1 (BatchNor (None, 128)          512         fc_1[0][0]                       \n",
      "__________________________________________________________________________________________________\n",
      "activation_1 (Activation)       (None, 128)          0           batch_normalization_1[0][0]      \n",
      "__________________________________________________________________________________________________\n",
      "dropout_1 (Dropout)             (None, 128)          0           activation_1[0][0]               \n",
      "__________________________________________________________________________________________________\n",
      "predictions_coarse (Dense)      (None, 5)            645         dropout_1[0][0]                  \n",
      "__________________________________________________________________________________________________\n",
      "predictions_fine (Dense)        (None, 10)           1290        dropout_1[0][0]                  \n",
      "==================================================================================================\n",
      "Total params: 226,191\n",
      "Trainable params: 225,935\n",
      "Non-trainable params: 256\n",
      "__________________________________________________________________________________________________\n"
     ]
    }
   ],
   "source": [
    "model.summary()"
   ]
  },
  {
   "cell_type": "code",
   "execution_count": null,
   "metadata": {
    "colab": {},
    "colab_type": "code",
    "id": "GP_bMuNp08Ob"
   },
   "outputs": [],
   "source": [
    "alpha = K.variable(value=0.95, dtype=\"float32\", name=\"alpha\") # A1 in paper\n",
    "beta = K.variable(value=0.05, dtype=\"float32\", name=\"beta\") # A2 in paper\n",
    "\n",
    "model.compile(loss='categorical_crossentropy', \n",
    "              optimizer='adam', \n",
    "              loss_weights=[alpha, beta],\n",
    "              metrics=['accuracy'])"
   ]
  },
  {
   "cell_type": "code",
   "execution_count": null,
   "metadata": {
    "colab": {},
    "colab_type": "code",
    "id": "REzDPq8B3K_q"
   },
   "outputs": [],
   "source": [
    "class TimingCallback(keras.callbacks.Callback):\n",
    "    \n",
    "  def on_epoch_begin(self, epoch, logs={}):\n",
    "    self.starttime=time()\n",
    "  def on_epoch_end(self, epoch, logs={}):\n",
    "    logs['time_elapsed'] = (time()-self.starttime)"
   ]
  },
  {
   "cell_type": "code",
   "execution_count": null,
   "metadata": {
    "colab": {},
    "colab_type": "code",
    "id": "-nLwVGTv08Ol"
   },
   "outputs": [],
   "source": [
    "tb_cb = TensorBoard(log_dir='drive/TCC-ITAU/fashion-mnist/tensorboard/split-baseline-net-simple', histogram_freq=0)\n",
    "clr_cb = ReduceLROnPlateau(monitor='val_predictions_fine_loss', factor=0.5, patience=10, verbose=1)\n",
    "time_cb = TimingCallback()\n",
    "csv_cb = CSVLogger('drive/TCC-ITAU/fashion-mnist/training-data/split-baseline-net/split-baseline-net-simple.csv', separator=',', append=False)\n",
    "change_lw = LossWeightsModifier(alpha, beta)\n",
    "\n",
    "cbks = [tb_cb, clr_cb, time_cb, change_lw, csv_cb]"
   ]
  },
  {
   "cell_type": "code",
   "execution_count": 16,
   "metadata": {
    "colab": {
     "base_uri": "https://localhost:8080/",
     "height": 2094
    },
    "colab_type": "code",
    "executionInfo": {
     "elapsed": 157934,
     "status": "ok",
     "timestamp": 1541991821695,
     "user": {
      "displayName": "Matheus Inoue",
      "photoUrl": "https://lh5.googleusercontent.com/-QAhMvjxDob8/AAAAAAAAAAI/AAAAAAAAAX0/8QKimNgmoYI/s64/photo.jpg",
      "userId": "15307514117626512886"
     },
     "user_tz": 120
    },
    "id": "RCE-Ly0V08Os",
    "outputId": "a63be6ff-e23f-4508-89c4-a155e310a4e4"
   },
   "outputs": [
    {
     "name": "stdout",
     "output_type": "stream",
     "text": [
      "Train on 48000 samples, validate on 12000 samples\n",
      "Epoch 1/50\n",
      "48000/48000 [==============================] - 5s 98us/step - loss: 0.2665 - predictions_coarse_loss: 0.2160 - predictions_fine_loss: 1.2260 - predictions_coarse_acc: 0.9307 - predictions_fine_acc: 0.5678 - val_loss: 0.1344 - val_predictions_coarse_loss: 0.1076 - val_predictions_fine_loss: 0.6423 - val_predictions_coarse_acc: 0.9636 - val_predictions_fine_acc: 0.7812\n",
      "Epoch 2/50\n",
      "48000/48000 [==============================] - 3s 62us/step - loss: 0.1278 - predictions_coarse_loss: 0.1017 - predictions_fine_loss: 0.6249 - predictions_coarse_acc: 0.9667 - predictions_fine_acc: 0.7724 - val_loss: 0.1165 - val_predictions_coarse_loss: 0.0939 - val_predictions_fine_loss: 0.5457 - val_predictions_coarse_acc: 0.9677 - val_predictions_fine_acc: 0.7829\n",
      "Epoch 3/50\n",
      "48000/48000 [==============================] - 3s 61us/step - loss: 0.1070 - predictions_coarse_loss: 0.0851 - predictions_fine_loss: 0.5237 - predictions_coarse_acc: 0.9718 - predictions_fine_acc: 0.8075 - val_loss: 0.0952 - val_predictions_coarse_loss: 0.0764 - val_predictions_fine_loss: 0.4522 - val_predictions_coarse_acc: 0.9734 - val_predictions_fine_acc: 0.8227\n",
      "Epoch 4/50\n",
      "48000/48000 [==============================] - 3s 61us/step - loss: 0.0912 - predictions_coarse_loss: 0.0716 - predictions_fine_loss: 0.4646 - predictions_coarse_acc: 0.9760 - predictions_fine_acc: 0.8287 - val_loss: 0.0893 - val_predictions_coarse_loss: 0.0726 - val_predictions_fine_loss: 0.4079 - val_predictions_coarse_acc: 0.9716 - val_predictions_fine_acc: 0.8540\n",
      "Epoch 5/50\n",
      "48000/48000 [==============================] - 3s 60us/step - loss: 0.0824 - predictions_coarse_loss: 0.0641 - predictions_fine_loss: 0.4301 - predictions_coarse_acc: 0.9784 - predictions_fine_acc: 0.8414 - val_loss: 0.0825 - val_predictions_coarse_loss: 0.0664 - val_predictions_fine_loss: 0.3876 - val_predictions_coarse_acc: 0.9768 - val_predictions_fine_acc: 0.8533\n",
      "Epoch 6/50\n",
      "48000/48000 [==============================] - 3s 61us/step - loss: 0.0741 - predictions_coarse_loss: 0.0571 - predictions_fine_loss: 0.3972 - predictions_coarse_acc: 0.9802 - predictions_fine_acc: 0.8530 - val_loss: 0.0818 - val_predictions_coarse_loss: 0.0668 - val_predictions_fine_loss: 0.3670 - val_predictions_coarse_acc: 0.9746 - val_predictions_fine_acc: 0.8632\n",
      "Epoch 7/50\n",
      "48000/48000 [==============================] - 3s 61us/step - loss: 0.0668 - predictions_coarse_loss: 0.0505 - predictions_fine_loss: 0.3754 - predictions_coarse_acc: 0.9823 - predictions_fine_acc: 0.8593 - val_loss: 0.0742 - val_predictions_coarse_loss: 0.0593 - val_predictions_fine_loss: 0.3560 - val_predictions_coarse_acc: 0.9784 - val_predictions_fine_acc: 0.8662\n",
      "Epoch 8/50\n",
      "48000/48000 [==============================] - 3s 61us/step - loss: 0.0618 - predictions_coarse_loss: 0.0461 - predictions_fine_loss: 0.3599 - predictions_coarse_acc: 0.9842 - predictions_fine_acc: 0.8667 - val_loss: 0.0859 - val_predictions_coarse_loss: 0.0719 - val_predictions_fine_loss: 0.3505 - val_predictions_coarse_acc: 0.9765 - val_predictions_fine_acc: 0.8687\n",
      "Changing loss weights to: coarse = 0.6000000238418579, fine = 0.4000000059604645\n",
      "Epoch 9/50\n",
      "48000/48000 [==============================] - 3s 60us/step - loss: 0.1568 - predictions_coarse_loss: 0.0446 - predictions_fine_loss: 0.3251 - predictions_coarse_acc: 0.9847 - predictions_fine_acc: 0.8799 - val_loss: 0.1607 - val_predictions_coarse_loss: 0.0589 - val_predictions_fine_loss: 0.3135 - val_predictions_coarse_acc: 0.9781 - val_predictions_fine_acc: 0.8801\n",
      "Epoch 10/50\n",
      "48000/48000 [==============================] - 3s 60us/step - loss: 0.1391 - predictions_coarse_loss: 0.0423 - predictions_fine_loss: 0.2844 - predictions_coarse_acc: 0.9852 - predictions_fine_acc: 0.8951 - val_loss: 0.1515 - val_predictions_coarse_loss: 0.0582 - val_predictions_fine_loss: 0.2915 - val_predictions_coarse_acc: 0.9799 - val_predictions_fine_acc: 0.8928\n",
      "Epoch 11/50\n",
      "48000/48000 [==============================] - 3s 61us/step - loss: 0.1275 - predictions_coarse_loss: 0.0391 - predictions_fine_loss: 0.2600 - predictions_coarse_acc: 0.9865 - predictions_fine_acc: 0.9039 - val_loss: 0.1573 - val_predictions_coarse_loss: 0.0647 - val_predictions_fine_loss: 0.2962 - val_predictions_coarse_acc: 0.9781 - val_predictions_fine_acc: 0.8907\n",
      "Epoch 12/50\n",
      "48000/48000 [==============================] - 3s 61us/step - loss: 0.1181 - predictions_coarse_loss: 0.0358 - predictions_fine_loss: 0.2414 - predictions_coarse_acc: 0.9877 - predictions_fine_acc: 0.9086 - val_loss: 0.1514 - val_predictions_coarse_loss: 0.0659 - val_predictions_fine_loss: 0.2796 - val_predictions_coarse_acc: 0.9772 - val_predictions_fine_acc: 0.8973\n",
      "Changing loss weights to: coarse = 0.20000000298023224, fine = 0.800000011920929\n",
      "Epoch 13/50\n",
      "48000/48000 [==============================] - 3s 60us/step - loss: 0.1983 - predictions_coarse_loss: 0.0382 - predictions_fine_loss: 0.2383 - predictions_coarse_acc: 0.9866 - predictions_fine_acc: 0.9114 - val_loss: 0.2771 - val_predictions_coarse_loss: 0.0678 - val_predictions_fine_loss: 0.3295 - val_predictions_coarse_acc: 0.9767 - val_predictions_fine_acc: 0.8779\n",
      "Epoch 14/50\n",
      "48000/48000 [==============================] - 3s 61us/step - loss: 0.1837 - predictions_coarse_loss: 0.0358 - predictions_fine_loss: 0.2207 - predictions_coarse_acc: 0.9876 - predictions_fine_acc: 0.9165 - val_loss: 0.2656 - val_predictions_coarse_loss: 0.0885 - val_predictions_fine_loss: 0.3099 - val_predictions_coarse_acc: 0.9704 - val_predictions_fine_acc: 0.8936\n",
      "Epoch 15/50\n",
      "48000/48000 [==============================] - 3s 61us/step - loss: 0.1681 - predictions_coarse_loss: 0.0342 - predictions_fine_loss: 0.2016 - predictions_coarse_acc: 0.9886 - predictions_fine_acc: 0.9250 - val_loss: 0.2205 - val_predictions_coarse_loss: 0.0567 - val_predictions_fine_loss: 0.2614 - val_predictions_coarse_acc: 0.9807 - val_predictions_fine_acc: 0.9060\n",
      "Epoch 16/50\n",
      "48000/48000 [==============================] - 3s 61us/step - loss: 0.1563 - predictions_coarse_loss: 0.0323 - predictions_fine_loss: 0.1873 - predictions_coarse_acc: 0.9888 - predictions_fine_acc: 0.9294 - val_loss: 0.2179 - val_predictions_coarse_loss: 0.0558 - val_predictions_fine_loss: 0.2584 - val_predictions_coarse_acc: 0.9804 - val_predictions_fine_acc: 0.9045\n",
      "Epoch 17/50\n",
      "48000/48000 [==============================] - 3s 61us/step - loss: 0.1454 - predictions_coarse_loss: 0.0316 - predictions_fine_loss: 0.1739 - predictions_coarse_acc: 0.9893 - predictions_fine_acc: 0.9349 - val_loss: 0.2289 - val_predictions_coarse_loss: 0.0597 - val_predictions_fine_loss: 0.2712 - val_predictions_coarse_acc: 0.9787 - val_predictions_fine_acc: 0.9000\n",
      "Epoch 18/50\n",
      "48000/48000 [==============================] - 3s 60us/step - loss: 0.1401 - predictions_coarse_loss: 0.0307 - predictions_fine_loss: 0.1675 - predictions_coarse_acc: 0.9897 - predictions_fine_acc: 0.9374 - val_loss: 0.2258 - val_predictions_coarse_loss: 0.0609 - val_predictions_fine_loss: 0.2670 - val_predictions_coarse_acc: 0.9788 - val_predictions_fine_acc: 0.9009\n",
      "Epoch 19/50\n",
      "48000/48000 [==============================] - 3s 61us/step - loss: 0.1283 - predictions_coarse_loss: 0.0278 - predictions_fine_loss: 0.1534 - predictions_coarse_acc: 0.9909 - predictions_fine_acc: 0.9431 - val_loss: 0.2261 - val_predictions_coarse_loss: 0.0659 - val_predictions_fine_loss: 0.2661 - val_predictions_coarse_acc: 0.9786 - val_predictions_fine_acc: 0.9102\n",
      "Epoch 20/50\n",
      "48000/48000 [==============================] - 3s 60us/step - loss: 0.1228 - predictions_coarse_loss: 0.0278 - predictions_fine_loss: 0.1466 - predictions_coarse_acc: 0.9910 - predictions_fine_acc: 0.9450 - val_loss: 0.2166 - val_predictions_coarse_loss: 0.0601 - val_predictions_fine_loss: 0.2557 - val_predictions_coarse_acc: 0.9800 - val_predictions_fine_acc: 0.9108\n",
      "Epoch 21/50\n",
      "48000/48000 [==============================] - 3s 60us/step - loss: 0.1130 - predictions_coarse_loss: 0.0262 - predictions_fine_loss: 0.1347 - predictions_coarse_acc: 0.9913 - predictions_fine_acc: 0.9501 - val_loss: 0.2532 - val_predictions_coarse_loss: 0.0760 - val_predictions_fine_loss: 0.2975 - val_predictions_coarse_acc: 0.9749 - val_predictions_fine_acc: 0.9003\n",
      "Epoch 22/50\n",
      "48000/48000 [==============================] - 3s 60us/step - loss: 0.1104 - predictions_coarse_loss: 0.0253 - predictions_fine_loss: 0.1316 - predictions_coarse_acc: 0.9915 - predictions_fine_acc: 0.9505 - val_loss: 0.2376 - val_predictions_coarse_loss: 0.0654 - val_predictions_fine_loss: 0.2806 - val_predictions_coarse_acc: 0.9793 - val_predictions_fine_acc: 0.9066\n",
      "Changing loss weights to: coarse = 0.0, fine = 1.0\n",
      "Epoch 23/50\n",
      "48000/48000 [==============================] - 3s 60us/step - loss: 0.1269 - predictions_coarse_loss: 0.0245 - predictions_fine_loss: 0.1269 - predictions_coarse_acc: 0.9920 - predictions_fine_acc: 0.9528 - val_loss: 0.3324 - val_predictions_coarse_loss: 0.0636 - val_predictions_fine_loss: 0.3324 - val_predictions_coarse_acc: 0.9792 - val_predictions_fine_acc: 0.9001\n",
      "Epoch 24/50\n",
      "48000/48000 [==============================] - 3s 60us/step - loss: 0.1238 - predictions_coarse_loss: 0.0255 - predictions_fine_loss: 0.1238 - predictions_coarse_acc: 0.9920 - predictions_fine_acc: 0.9535 - val_loss: 0.2712 - val_predictions_coarse_loss: 0.0683 - val_predictions_fine_loss: 0.2712 - val_predictions_coarse_acc: 0.9770 - val_predictions_fine_acc: 0.9125\n",
      "Epoch 25/50\n",
      "48000/48000 [==============================] - 3s 60us/step - loss: 0.1136 - predictions_coarse_loss: 0.0250 - predictions_fine_loss: 0.1136 - predictions_coarse_acc: 0.9917 - predictions_fine_acc: 0.9572 - val_loss: 0.3035 - val_predictions_coarse_loss: 0.0797 - val_predictions_fine_loss: 0.3035 - val_predictions_coarse_acc: 0.9765 - val_predictions_fine_acc: 0.9057\n",
      "Epoch 26/50\n",
      "48000/48000 [==============================] - 3s 60us/step - loss: 0.1065 - predictions_coarse_loss: 0.0262 - predictions_fine_loss: 0.1065 - predictions_coarse_acc: 0.9916 - predictions_fine_acc: 0.9609 - val_loss: 0.3201 - val_predictions_coarse_loss: 0.0626 - val_predictions_fine_loss: 0.3201 - val_predictions_coarse_acc: 0.9792 - val_predictions_fine_acc: 0.8999\n",
      "Epoch 27/50\n",
      "48000/48000 [==============================] - 3s 60us/step - loss: 0.0985 - predictions_coarse_loss: 0.0242 - predictions_fine_loss: 0.0985 - predictions_coarse_acc: 0.9925 - predictions_fine_acc: 0.9627 - val_loss: 0.3039 - val_predictions_coarse_loss: 0.0650 - val_predictions_fine_loss: 0.3039 - val_predictions_coarse_acc: 0.9780 - val_predictions_fine_acc: 0.9062\n",
      "Epoch 28/50\n",
      "48000/48000 [==============================] - 3s 60us/step - loss: 0.0973 - predictions_coarse_loss: 0.0254 - predictions_fine_loss: 0.0973 - predictions_coarse_acc: 0.9917 - predictions_fine_acc: 0.9644 - val_loss: 0.2990 - val_predictions_coarse_loss: 0.0663 - val_predictions_fine_loss: 0.2990 - val_predictions_coarse_acc: 0.9795 - val_predictions_fine_acc: 0.9115\n",
      "Epoch 29/50\n",
      "48000/48000 [==============================] - 3s 60us/step - loss: 0.0931 - predictions_coarse_loss: 0.0251 - predictions_fine_loss: 0.0931 - predictions_coarse_acc: 0.9919 - predictions_fine_acc: 0.9658 - val_loss: 0.3704 - val_predictions_coarse_loss: 0.0825 - val_predictions_fine_loss: 0.3704 - val_predictions_coarse_acc: 0.9762 - val_predictions_fine_acc: 0.9009\n",
      "Epoch 30/50\n",
      "48000/48000 [==============================] - 3s 60us/step - loss: 0.0883 - predictions_coarse_loss: 0.0237 - predictions_fine_loss: 0.0883 - predictions_coarse_acc: 0.9923 - predictions_fine_acc: 0.9666 - val_loss: 0.3040 - val_predictions_coarse_loss: 0.0694 - val_predictions_fine_loss: 0.3040 - val_predictions_coarse_acc: 0.9778 - val_predictions_fine_acc: 0.9133\n",
      "\n",
      "Epoch 00030: ReduceLROnPlateau reducing learning rate to 0.0005000000237487257.\n",
      "Epoch 31/50\n",
      "48000/48000 [==============================] - 3s 60us/step - loss: 0.0708 - predictions_coarse_loss: 0.0212 - predictions_fine_loss: 0.0708 - predictions_coarse_acc: 0.9934 - predictions_fine_acc: 0.9746 - val_loss: 0.3054 - val_predictions_coarse_loss: 0.0680 - val_predictions_fine_loss: 0.3054 - val_predictions_coarse_acc: 0.9787 - val_predictions_fine_acc: 0.9135\n",
      "Epoch 32/50\n",
      "48000/48000 [==============================] - 3s 60us/step - loss: 0.0631 - predictions_coarse_loss: 0.0190 - predictions_fine_loss: 0.0631 - predictions_coarse_acc: 0.9946 - predictions_fine_acc: 0.9770 - val_loss: 0.2919 - val_predictions_coarse_loss: 0.0618 - val_predictions_fine_loss: 0.2919 - val_predictions_coarse_acc: 0.9798 - val_predictions_fine_acc: 0.9148\n",
      "Epoch 33/50\n",
      "48000/48000 [==============================] - 3s 60us/step - loss: 0.0569 - predictions_coarse_loss: 0.0198 - predictions_fine_loss: 0.0569 - predictions_coarse_acc: 0.9943 - predictions_fine_acc: 0.9801 - val_loss: 0.2910 - val_predictions_coarse_loss: 0.0632 - val_predictions_fine_loss: 0.2910 - val_predictions_coarse_acc: 0.9797 - val_predictions_fine_acc: 0.9179\n",
      "Epoch 34/50\n",
      "48000/48000 [==============================] - 3s 60us/step - loss: 0.0562 - predictions_coarse_loss: 0.0193 - predictions_fine_loss: 0.0562 - predictions_coarse_acc: 0.9942 - predictions_fine_acc: 0.9801 - val_loss: 0.3031 - val_predictions_coarse_loss: 0.0642 - val_predictions_fine_loss: 0.3031 - val_predictions_coarse_acc: 0.9792 - val_predictions_fine_acc: 0.9155\n",
      "Epoch 35/50\n",
      "48000/48000 [==============================] - 3s 60us/step - loss: 0.0534 - predictions_coarse_loss: 0.0201 - predictions_fine_loss: 0.0534 - predictions_coarse_acc: 0.9939 - predictions_fine_acc: 0.9818 - val_loss: 0.3067 - val_predictions_coarse_loss: 0.0670 - val_predictions_fine_loss: 0.3067 - val_predictions_coarse_acc: 0.9783 - val_predictions_fine_acc: 0.9143\n",
      "Epoch 36/50\n",
      "48000/48000 [==============================] - 3s 60us/step - loss: 0.0518 - predictions_coarse_loss: 0.0188 - predictions_fine_loss: 0.0518 - predictions_coarse_acc: 0.9943 - predictions_fine_acc: 0.9818 - val_loss: 0.3073 - val_predictions_coarse_loss: 0.0668 - val_predictions_fine_loss: 0.3073 - val_predictions_coarse_acc: 0.9790 - val_predictions_fine_acc: 0.9162\n",
      "Epoch 37/50\n",
      "48000/48000 [==============================] - 3s 61us/step - loss: 0.0499 - predictions_coarse_loss: 0.0194 - predictions_fine_loss: 0.0499 - predictions_coarse_acc: 0.9940 - predictions_fine_acc: 0.9827 - val_loss: 0.3086 - val_predictions_coarse_loss: 0.0637 - val_predictions_fine_loss: 0.3086 - val_predictions_coarse_acc: 0.9802 - val_predictions_fine_acc: 0.9176\n",
      "Epoch 38/50\n",
      "48000/48000 [==============================] - 3s 60us/step - loss: 0.0488 - predictions_coarse_loss: 0.0205 - predictions_fine_loss: 0.0488 - predictions_coarse_acc: 0.9936 - predictions_fine_acc: 0.9823 - val_loss: 0.3204 - val_predictions_coarse_loss: 0.0674 - val_predictions_fine_loss: 0.3204 - val_predictions_coarse_acc: 0.9781 - val_predictions_fine_acc: 0.9162\n",
      "Epoch 39/50\n",
      "48000/48000 [==============================] - 3s 60us/step - loss: 0.0468 - predictions_coarse_loss: 0.0199 - predictions_fine_loss: 0.0468 - predictions_coarse_acc: 0.9942 - predictions_fine_acc: 0.9838 - val_loss: 0.3848 - val_predictions_coarse_loss: 0.0708 - val_predictions_fine_loss: 0.3848 - val_predictions_coarse_acc: 0.9784 - val_predictions_fine_acc: 0.9100\n",
      "Epoch 40/50\n",
      "48000/48000 [==============================] - 3s 60us/step - loss: 0.0448 - predictions_coarse_loss: 0.0195 - predictions_fine_loss: 0.0448 - predictions_coarse_acc: 0.9941 - predictions_fine_acc: 0.9840 - val_loss: 0.3267 - val_predictions_coarse_loss: 0.0668 - val_predictions_fine_loss: 0.3267 - val_predictions_coarse_acc: 0.9789 - val_predictions_fine_acc: 0.9131\n",
      "\n",
      "Epoch 00040: ReduceLROnPlateau reducing learning rate to 0.0002500000118743628.\n",
      "Epoch 41/50\n",
      "48000/48000 [==============================] - 3s 60us/step - loss: 0.0383 - predictions_coarse_loss: 0.0183 - predictions_fine_loss: 0.0383 - predictions_coarse_acc: 0.9945 - predictions_fine_acc: 0.9872 - val_loss: 0.3390 - val_predictions_coarse_loss: 0.0689 - val_predictions_fine_loss: 0.3390 - val_predictions_coarse_acc: 0.9788 - val_predictions_fine_acc: 0.9153\n",
      "Epoch 42/50\n",
      "48000/48000 [==============================] - 3s 61us/step - loss: 0.0355 - predictions_coarse_loss: 0.0180 - predictions_fine_loss: 0.0355 - predictions_coarse_acc: 0.9947 - predictions_fine_acc: 0.9883 - val_loss: 0.3400 - val_predictions_coarse_loss: 0.0676 - val_predictions_fine_loss: 0.3400 - val_predictions_coarse_acc: 0.9793 - val_predictions_fine_acc: 0.9154\n",
      "Epoch 43/50\n",
      "48000/48000 [==============================] - 3s 60us/step - loss: 0.0339 - predictions_coarse_loss: 0.0179 - predictions_fine_loss: 0.0339 - predictions_coarse_acc: 0.9949 - predictions_fine_acc: 0.9892 - val_loss: 0.3255 - val_predictions_coarse_loss: 0.0667 - val_predictions_fine_loss: 0.3255 - val_predictions_coarse_acc: 0.9790 - val_predictions_fine_acc: 0.9163\n",
      "Epoch 44/50\n",
      "48000/48000 [==============================] - 3s 60us/step - loss: 0.0320 - predictions_coarse_loss: 0.0177 - predictions_fine_loss: 0.0320 - predictions_coarse_acc: 0.9952 - predictions_fine_acc: 0.9900 - val_loss: 0.3386 - val_predictions_coarse_loss: 0.0674 - val_predictions_fine_loss: 0.3386 - val_predictions_coarse_acc: 0.9792 - val_predictions_fine_acc: 0.9164\n",
      "Epoch 45/50\n",
      "48000/48000 [==============================] - 3s 60us/step - loss: 0.0330 - predictions_coarse_loss: 0.0175 - predictions_fine_loss: 0.0330 - predictions_coarse_acc: 0.9952 - predictions_fine_acc: 0.9895 - val_loss: 0.3431 - val_predictions_coarse_loss: 0.0675 - val_predictions_fine_loss: 0.3431 - val_predictions_coarse_acc: 0.9794 - val_predictions_fine_acc: 0.9153\n",
      "Epoch 46/50\n",
      "48000/48000 [==============================] - 3s 60us/step - loss: 0.0320 - predictions_coarse_loss: 0.0181 - predictions_fine_loss: 0.0320 - predictions_coarse_acc: 0.9948 - predictions_fine_acc: 0.9905 - val_loss: 0.3565 - val_predictions_coarse_loss: 0.0688 - val_predictions_fine_loss: 0.3565 - val_predictions_coarse_acc: 0.9798 - val_predictions_fine_acc: 0.9166\n",
      "Epoch 47/50\n",
      "48000/48000 [==============================] - 3s 61us/step - loss: 0.0307 - predictions_coarse_loss: 0.0171 - predictions_fine_loss: 0.0307 - predictions_coarse_acc: 0.9950 - predictions_fine_acc: 0.9904 - val_loss: 0.3407 - val_predictions_coarse_loss: 0.0679 - val_predictions_fine_loss: 0.3407 - val_predictions_coarse_acc: 0.9799 - val_predictions_fine_acc: 0.9160\n",
      "Epoch 48/50\n",
      "48000/48000 [==============================] - 3s 61us/step - loss: 0.0312 - predictions_coarse_loss: 0.0174 - predictions_fine_loss: 0.0312 - predictions_coarse_acc: 0.9947 - predictions_fine_acc: 0.9901 - val_loss: 0.3471 - val_predictions_coarse_loss: 0.0677 - val_predictions_fine_loss: 0.3471 - val_predictions_coarse_acc: 0.9798 - val_predictions_fine_acc: 0.9167\n",
      "Epoch 49/50\n",
      "48000/48000 [==============================] - 3s 61us/step - loss: 0.0305 - predictions_coarse_loss: 0.0169 - predictions_fine_loss: 0.0305 - predictions_coarse_acc: 0.9952 - predictions_fine_acc: 0.9907 - val_loss: 0.3508 - val_predictions_coarse_loss: 0.0693 - val_predictions_fine_loss: 0.3508 - val_predictions_coarse_acc: 0.9789 - val_predictions_fine_acc: 0.9142\n",
      "Epoch 50/50\n",
      "48000/48000 [==============================] - 3s 60us/step - loss: 0.0283 - predictions_coarse_loss: 0.0174 - predictions_fine_loss: 0.0283 - predictions_coarse_acc: 0.9954 - predictions_fine_acc: 0.9912 - val_loss: 0.3564 - val_predictions_coarse_loss: 0.0703 - val_predictions_fine_loss: 0.3564 - val_predictions_coarse_acc: 0.9790 - val_predictions_fine_acc: 0.9151\n",
      "\n",
      "Epoch 00050: ReduceLROnPlateau reducing learning rate to 0.0001250000059371814.\n"
     ]
    }
   ],
   "source": [
    "epochs = 50\n",
    "start_time = time()\n",
    "training = model.fit(train_features, [y_train_c_cat, y_train_cat],\n",
    "                     validation_data=(vali_features, [y_val_c_cat, y_val_cat]),\n",
    "                     epochs=epochs,\n",
    "                     batch_size=512, \n",
    "                     callbacks=cbks,\n",
    "                     verbose=1)\n",
    "training_time = time() - start_time"
   ]
  },
  {
   "cell_type": "code",
   "execution_count": 17,
   "metadata": {
    "colab": {
     "base_uri": "https://localhost:8080/",
     "height": 54
    },
    "colab_type": "code",
    "executionInfo": {
     "elapsed": 1726,
     "status": "ok",
     "timestamp": 1541991863877,
     "user": {
      "displayName": "Matheus Inoue",
      "photoUrl": "https://lh5.googleusercontent.com/-QAhMvjxDob8/AAAAAAAAAAI/AAAAAAAAAX0/8QKimNgmoYI/s64/photo.jpg",
      "userId": "15307514117626512886"
     },
     "user_tz": 120
    },
    "id": "GRo5c-7908O6",
    "outputId": "19e3cfe7-8980-4289-d514-ef1a1563cdb1"
   },
   "outputs": [
    {
     "name": "stdout",
     "output_type": "stream",
     "text": [
      "10000/10000 [==============================] - 1s 114us/step\n"
     ]
    },
    {
     "data": {
      "text/plain": [
       "[0.38016644483283163, 0.08103912055664696, 0.38016644483283163, 0.9769, 0.9158]"
      ]
     },
     "execution_count": 17,
     "metadata": {
      "tags": []
     },
     "output_type": "execute_result"
    }
   ],
   "source": [
    "model.evaluate(test_features, [y_test_c_cat, y_test_cat])"
   ]
  },
  {
   "cell_type": "code",
   "execution_count": 18,
   "metadata": {
    "colab": {
     "base_uri": "https://localhost:8080/",
     "height": 1110
    },
    "colab_type": "code",
    "executionInfo": {
     "elapsed": 4433,
     "status": "error",
     "timestamp": 1541991915514,
     "user": {
      "displayName": "Matheus Inoue",
      "photoUrl": "https://lh5.googleusercontent.com/-QAhMvjxDob8/AAAAAAAAAAI/AAAAAAAAAX0/8QKimNgmoYI/s64/photo.jpg",
      "userId": "15307514117626512886"
     },
     "user_tz": 120
    },
    "id": "oERcl1M108PE",
    "outputId": "9ff045f9-3d7b-4664-afcb-7322ccd03a40"
   },
   "outputs": [
    {
     "ename": "TypeError",
     "evalue": "ignored",
     "output_type": "error",
     "traceback": [
      "\u001b[0;31m---------------------------------------------------------------------------\u001b[0m",
      "\u001b[0;31mTypeError\u001b[0m                                 Traceback (most recent call last)",
      "\u001b[0;32m<ipython-input-18-4e6da5780ca1>\u001b[0m in \u001b[0;36m<module>\u001b[0;34m()\u001b[0m\n\u001b[0;32m----> 1\u001b[0;31m \u001b[0mmodel\u001b[0m\u001b[0;34m.\u001b[0m\u001b[0msave\u001b[0m\u001b[0;34m(\u001b[0m\u001b[0;34m'drive/TCC-ITAU/fashion-mnist/models/split-baseline-net-simple.h5'\u001b[0m\u001b[0;34m)\u001b[0m\u001b[0;34m\u001b[0m\u001b[0m\n\u001b[0m",
      "\u001b[0;32m/usr/local/lib/python3.6/dist-packages/keras/engine/network.py\u001b[0m in \u001b[0;36msave\u001b[0;34m(self, filepath, overwrite, include_optimizer)\u001b[0m\n\u001b[1;32m   1088\u001b[0m             \u001b[0;32mraise\u001b[0m \u001b[0mNotImplementedError\u001b[0m\u001b[0;34m\u001b[0m\u001b[0m\n\u001b[1;32m   1089\u001b[0m         \u001b[0;32mfrom\u001b[0m \u001b[0;34m.\u001b[0m\u001b[0;34m.\u001b[0m\u001b[0mmodels\u001b[0m \u001b[0;32mimport\u001b[0m \u001b[0msave_model\u001b[0m\u001b[0;34m\u001b[0m\u001b[0m\n\u001b[0;32m-> 1090\u001b[0;31m         \u001b[0msave_model\u001b[0m\u001b[0;34m(\u001b[0m\u001b[0mself\u001b[0m\u001b[0;34m,\u001b[0m \u001b[0mfilepath\u001b[0m\u001b[0;34m,\u001b[0m \u001b[0moverwrite\u001b[0m\u001b[0;34m,\u001b[0m \u001b[0minclude_optimizer\u001b[0m\u001b[0;34m)\u001b[0m\u001b[0;34m\u001b[0m\u001b[0m\n\u001b[0m\u001b[1;32m   1091\u001b[0m \u001b[0;34m\u001b[0m\u001b[0m\n\u001b[1;32m   1092\u001b[0m     \u001b[0;32mdef\u001b[0m \u001b[0msave_weights\u001b[0m\u001b[0;34m(\u001b[0m\u001b[0mself\u001b[0m\u001b[0;34m,\u001b[0m \u001b[0mfilepath\u001b[0m\u001b[0;34m,\u001b[0m \u001b[0moverwrite\u001b[0m\u001b[0;34m=\u001b[0m\u001b[0;32mTrue\u001b[0m\u001b[0;34m)\u001b[0m\u001b[0;34m:\u001b[0m\u001b[0;34m\u001b[0m\u001b[0m\n",
      "\u001b[0;32m/usr/local/lib/python3.6/dist-packages/keras/engine/saving.py\u001b[0m in \u001b[0;36msave_model\u001b[0;34m(model, filepath, overwrite, include_optimizer)\u001b[0m\n\u001b[1;32m    380\u001b[0m \u001b[0;34m\u001b[0m\u001b[0m\n\u001b[1;32m    381\u001b[0m     \u001b[0;32mtry\u001b[0m\u001b[0;34m:\u001b[0m\u001b[0;34m\u001b[0m\u001b[0m\n\u001b[0;32m--> 382\u001b[0;31m         \u001b[0m_serialize_model\u001b[0m\u001b[0;34m(\u001b[0m\u001b[0mmodel\u001b[0m\u001b[0;34m,\u001b[0m \u001b[0mf\u001b[0m\u001b[0;34m,\u001b[0m \u001b[0minclude_optimizer\u001b[0m\u001b[0;34m)\u001b[0m\u001b[0;34m\u001b[0m\u001b[0m\n\u001b[0m\u001b[1;32m    383\u001b[0m     \u001b[0;32mfinally\u001b[0m\u001b[0;34m:\u001b[0m\u001b[0;34m\u001b[0m\u001b[0m\n\u001b[1;32m    384\u001b[0m         \u001b[0;32mif\u001b[0m \u001b[0mopened_new_file\u001b[0m\u001b[0;34m:\u001b[0m\u001b[0;34m\u001b[0m\u001b[0m\n",
      "\u001b[0;32m/usr/local/lib/python3.6/dist-packages/keras/engine/saving.py\u001b[0m in \u001b[0;36m_serialize_model\u001b[0;34m(model, f, include_optimizer)\u001b[0m\n\u001b[1;32m    136\u001b[0m                 \u001b[0;34m'sample_weight_mode'\u001b[0m\u001b[0;34m:\u001b[0m \u001b[0mmodel\u001b[0m\u001b[0;34m.\u001b[0m\u001b[0msample_weight_mode\u001b[0m\u001b[0;34m,\u001b[0m\u001b[0;34m\u001b[0m\u001b[0m\n\u001b[1;32m    137\u001b[0m                 \u001b[0;34m'loss_weights'\u001b[0m\u001b[0;34m:\u001b[0m \u001b[0mmodel\u001b[0m\u001b[0;34m.\u001b[0m\u001b[0mloss_weights\u001b[0m\u001b[0;34m,\u001b[0m\u001b[0;34m\u001b[0m\u001b[0m\n\u001b[0;32m--> 138\u001b[0;31m             }, default=get_json_type).encode('utf8')\n\u001b[0m\u001b[1;32m    139\u001b[0m             \u001b[0msymbolic_weights\u001b[0m \u001b[0;34m=\u001b[0m \u001b[0mgetattr\u001b[0m\u001b[0;34m(\u001b[0m\u001b[0mmodel\u001b[0m\u001b[0;34m.\u001b[0m\u001b[0moptimizer\u001b[0m\u001b[0;34m,\u001b[0m \u001b[0;34m'weights'\u001b[0m\u001b[0;34m)\u001b[0m\u001b[0;34m\u001b[0m\u001b[0m\n\u001b[1;32m    140\u001b[0m             \u001b[0;32mif\u001b[0m \u001b[0msymbolic_weights\u001b[0m\u001b[0;34m:\u001b[0m\u001b[0;34m\u001b[0m\u001b[0m\n",
      "\u001b[0;32m/usr/lib/python3.6/json/__init__.py\u001b[0m in \u001b[0;36mdumps\u001b[0;34m(obj, skipkeys, ensure_ascii, check_circular, allow_nan, cls, indent, separators, default, sort_keys, **kw)\u001b[0m\n\u001b[1;32m    236\u001b[0m         \u001b[0mcheck_circular\u001b[0m\u001b[0;34m=\u001b[0m\u001b[0mcheck_circular\u001b[0m\u001b[0;34m,\u001b[0m \u001b[0mallow_nan\u001b[0m\u001b[0;34m=\u001b[0m\u001b[0mallow_nan\u001b[0m\u001b[0;34m,\u001b[0m \u001b[0mindent\u001b[0m\u001b[0;34m=\u001b[0m\u001b[0mindent\u001b[0m\u001b[0;34m,\u001b[0m\u001b[0;34m\u001b[0m\u001b[0m\n\u001b[1;32m    237\u001b[0m         \u001b[0mseparators\u001b[0m\u001b[0;34m=\u001b[0m\u001b[0mseparators\u001b[0m\u001b[0;34m,\u001b[0m \u001b[0mdefault\u001b[0m\u001b[0;34m=\u001b[0m\u001b[0mdefault\u001b[0m\u001b[0;34m,\u001b[0m \u001b[0msort_keys\u001b[0m\u001b[0;34m=\u001b[0m\u001b[0msort_keys\u001b[0m\u001b[0;34m,\u001b[0m\u001b[0;34m\u001b[0m\u001b[0m\n\u001b[0;32m--> 238\u001b[0;31m         **kw).encode(obj)\n\u001b[0m\u001b[1;32m    239\u001b[0m \u001b[0;34m\u001b[0m\u001b[0m\n\u001b[1;32m    240\u001b[0m \u001b[0;34m\u001b[0m\u001b[0m\n",
      "\u001b[0;32m/usr/lib/python3.6/json/encoder.py\u001b[0m in \u001b[0;36mencode\u001b[0;34m(self, o)\u001b[0m\n\u001b[1;32m    197\u001b[0m         \u001b[0;31m# exceptions aren't as detailed.  The list call should be roughly\u001b[0m\u001b[0;34m\u001b[0m\u001b[0;34m\u001b[0m\u001b[0m\n\u001b[1;32m    198\u001b[0m         \u001b[0;31m# equivalent to the PySequence_Fast that ''.join() would do.\u001b[0m\u001b[0;34m\u001b[0m\u001b[0;34m\u001b[0m\u001b[0m\n\u001b[0;32m--> 199\u001b[0;31m         \u001b[0mchunks\u001b[0m \u001b[0;34m=\u001b[0m \u001b[0mself\u001b[0m\u001b[0;34m.\u001b[0m\u001b[0miterencode\u001b[0m\u001b[0;34m(\u001b[0m\u001b[0mo\u001b[0m\u001b[0;34m,\u001b[0m \u001b[0m_one_shot\u001b[0m\u001b[0;34m=\u001b[0m\u001b[0;32mTrue\u001b[0m\u001b[0;34m)\u001b[0m\u001b[0;34m\u001b[0m\u001b[0m\n\u001b[0m\u001b[1;32m    200\u001b[0m         \u001b[0;32mif\u001b[0m \u001b[0;32mnot\u001b[0m \u001b[0misinstance\u001b[0m\u001b[0;34m(\u001b[0m\u001b[0mchunks\u001b[0m\u001b[0;34m,\u001b[0m \u001b[0;34m(\u001b[0m\u001b[0mlist\u001b[0m\u001b[0;34m,\u001b[0m \u001b[0mtuple\u001b[0m\u001b[0;34m)\u001b[0m\u001b[0;34m)\u001b[0m\u001b[0;34m:\u001b[0m\u001b[0;34m\u001b[0m\u001b[0m\n\u001b[1;32m    201\u001b[0m             \u001b[0mchunks\u001b[0m \u001b[0;34m=\u001b[0m \u001b[0mlist\u001b[0m\u001b[0;34m(\u001b[0m\u001b[0mchunks\u001b[0m\u001b[0;34m)\u001b[0m\u001b[0;34m\u001b[0m\u001b[0m\n",
      "\u001b[0;32m/usr/lib/python3.6/json/encoder.py\u001b[0m in \u001b[0;36miterencode\u001b[0;34m(self, o, _one_shot)\u001b[0m\n\u001b[1;32m    255\u001b[0m                 \u001b[0mself\u001b[0m\u001b[0;34m.\u001b[0m\u001b[0mkey_separator\u001b[0m\u001b[0;34m,\u001b[0m \u001b[0mself\u001b[0m\u001b[0;34m.\u001b[0m\u001b[0mitem_separator\u001b[0m\u001b[0;34m,\u001b[0m \u001b[0mself\u001b[0m\u001b[0;34m.\u001b[0m\u001b[0msort_keys\u001b[0m\u001b[0;34m,\u001b[0m\u001b[0;34m\u001b[0m\u001b[0m\n\u001b[1;32m    256\u001b[0m                 self.skipkeys, _one_shot)\n\u001b[0;32m--> 257\u001b[0;31m         \u001b[0;32mreturn\u001b[0m \u001b[0m_iterencode\u001b[0m\u001b[0;34m(\u001b[0m\u001b[0mo\u001b[0m\u001b[0;34m,\u001b[0m \u001b[0;36m0\u001b[0m\u001b[0;34m)\u001b[0m\u001b[0;34m\u001b[0m\u001b[0m\n\u001b[0m\u001b[1;32m    258\u001b[0m \u001b[0;34m\u001b[0m\u001b[0m\n\u001b[1;32m    259\u001b[0m def _make_iterencode(markers, _default, _encoder, _indent, _floatstr,\n",
      "\u001b[0;32m/usr/local/lib/python3.6/dist-packages/keras/engine/saving.py\u001b[0m in \u001b[0;36mget_json_type\u001b[0;34m(obj)\u001b[0m\n\u001b[1;32m     72\u001b[0m             \u001b[0;32mreturn\u001b[0m \u001b[0mobj\u001b[0m\u001b[0;34m.\u001b[0m\u001b[0m__name__\u001b[0m\u001b[0;34m\u001b[0m\u001b[0m\n\u001b[1;32m     73\u001b[0m \u001b[0;34m\u001b[0m\u001b[0m\n\u001b[0;32m---> 74\u001b[0;31m         \u001b[0;32mraise\u001b[0m \u001b[0mTypeError\u001b[0m\u001b[0;34m(\u001b[0m\u001b[0;34m'Not JSON Serializable: %s'\u001b[0m \u001b[0;34m%\u001b[0m \u001b[0;34m(\u001b[0m\u001b[0mobj\u001b[0m\u001b[0;34m,\u001b[0m\u001b[0;34m)\u001b[0m\u001b[0;34m)\u001b[0m\u001b[0;34m\u001b[0m\u001b[0m\n\u001b[0m\u001b[1;32m     75\u001b[0m \u001b[0;34m\u001b[0m\u001b[0m\n\u001b[1;32m     76\u001b[0m     \u001b[0;32mfrom\u001b[0m \u001b[0;34m.\u001b[0m\u001b[0;34m.\u001b[0m \u001b[0;32mimport\u001b[0m \u001b[0m__version__\u001b[0m \u001b[0;32mas\u001b[0m \u001b[0mkeras_version\u001b[0m\u001b[0;34m\u001b[0m\u001b[0m\n",
      "\u001b[0;31mTypeError\u001b[0m: Not JSON Serializable: <tf.Variable 'alpha:0' shape=() dtype=float32_ref>"
     ]
    }
   ],
   "source": [
    "model.save('drive/TCC-ITAU/fashion-mnist/models/split-baseline-net-simple.h5')"
   ]
  },
  {
   "cell_type": "code",
   "execution_count": 19,
   "metadata": {
    "colab": {
     "base_uri": "https://localhost:8080/",
     "height": 36
    },
    "colab_type": "code",
    "executionInfo": {
     "elapsed": 995,
     "status": "ok",
     "timestamp": 1541991920085,
     "user": {
      "displayName": "Matheus Inoue",
      "photoUrl": "https://lh5.googleusercontent.com/-QAhMvjxDob8/AAAAAAAAAAI/AAAAAAAAAX0/8QKimNgmoYI/s64/photo.jpg",
      "userId": "15307514117626512886"
     },
     "user_tz": 120
    },
    "id": "N-_JMywOZuMP",
    "outputId": "f0917f14-6253-443e-b2cb-65d3e6dbeb9e"
   },
   "outputs": [
    {
     "data": {
      "text/plain": [
       "157.22619128227234"
      ]
     },
     "execution_count": 19,
     "metadata": {
      "tags": []
     },
     "output_type": "execute_result"
    }
   ],
   "source": [
    "training_time"
   ]
  },
  {
   "cell_type": "markdown",
   "metadata": {
    "colab_type": "text",
    "id": "IutWvEI108PK"
   },
   "source": []
  },
  {
   "cell_type": "code",
   "execution_count": null,
   "metadata": {
    "colab": {},
    "colab_type": "code",
    "id": "LB2ZaI1M08PM"
   },
   "outputs": [],
   "source": []
  }
 ],
 "metadata": {
  "accelerator": "GPU",
  "colab": {
   "collapsed_sections": [],
   "name": "split-baseline-net-simple.ipynb",
   "provenance": [],
   "toc_visible": true,
   "version": "0.3.2"
  },
  "kernelspec": {
   "display_name": "Python [Anaconda3]",
   "language": "python",
   "name": "Python [Anaconda3]"
  },
  "language_info": {
   "codemirror_mode": {
    "name": "ipython",
    "version": 3
   },
   "file_extension": ".py",
   "mimetype": "text/x-python",
   "name": "python",
   "nbconvert_exporter": "python",
   "pygments_lexer": "ipython3",
   "version": "3.5.2"
  }
 },
 "nbformat": 4,
 "nbformat_minor": 2
}
